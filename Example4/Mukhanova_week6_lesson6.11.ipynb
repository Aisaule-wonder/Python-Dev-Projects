{
 "cells": [
  {
   "cell_type": "code",
   "execution_count": 15,
   "id": "e65ed454-1385-4f9e-b086-517efc41d3a9",
   "metadata": {},
   "outputs": [
    {
     "name": "stdout",
     "output_type": "stream",
     "text": [
      "[1, 2, 4, 8, 7, 9, 8, 9, 14, 16, 18, 7, 12, 14]\n"
     ]
    }
   ],
   "source": [
    "sample = [1,2,4,8,7,9,8,9,14,16,18,7,12,14]\n",
    "print(sample)"
   ]
  },
  {
   "cell_type": "code",
   "execution_count": 16,
   "id": "0ba042ec-2dfa-4c65-9aa2-aeef86a4f0e9",
   "metadata": {},
   "outputs": [
    {
     "name": "stdout",
     "output_type": "stream",
     "text": [
      "14\n"
     ]
    }
   ],
   "source": [
    "print(len(sample))"
   ]
  },
  {
   "cell_type": "code",
   "execution_count": 17,
   "id": "d5aa9661-5f9f-482e-bb4a-460f17013687",
   "metadata": {},
   "outputs": [
    {
     "name": "stdout",
     "output_type": "stream",
     "text": [
      "129\n"
     ]
    }
   ],
   "source": [
    "print(sum(sample))"
   ]
  },
  {
   "cell_type": "code",
   "execution_count": 18,
   "id": "2f885e77-146c-4ba6-8da3-ef3c48349ada",
   "metadata": {},
   "outputs": [
    {
     "name": "stdout",
     "output_type": "stream",
     "text": [
      "9.214285714285714\n"
     ]
    }
   ],
   "source": [
    "mean = sum(sample)/len(sample)\n",
    "print(mean)"
   ]
  },
  {
   "cell_type": "code",
   "execution_count": 19,
   "id": "0e053e7b-86cd-47d8-a5ab-7f5808271d00",
   "metadata": {},
   "outputs": [],
   "source": [
    "import numpy as np"
   ]
  },
  {
   "cell_type": "code",
   "execution_count": 20,
   "id": "d451bcfc-3505-40e7-ad48-7c37730b95f2",
   "metadata": {},
   "outputs": [
    {
     "data": {
      "text/plain": [
       "9.214285714285714"
      ]
     },
     "execution_count": 20,
     "metadata": {},
     "output_type": "execute_result"
    }
   ],
   "source": [
    "np.mean(sample)"
   ]
  },
  {
   "cell_type": "code",
   "execution_count": 22,
   "id": "ea08dbcc-ded2-4944-b291-0bc47f22a4ab",
   "metadata": {},
   "outputs": [
    {
     "name": "stdout",
     "output_type": "stream",
     "text": [
      "[1, 2, 4, 7, 7, 8, 8, 9, 9, 12, 14, 14, 16, 18]\n"
     ]
    }
   ],
   "source": [
    "sample.sort()\n",
    "print(sample)"
   ]
  },
  {
   "cell_type": "code",
   "execution_count": 23,
   "id": "15300953-fc25-40cd-9ce0-842b03f48da8",
   "metadata": {},
   "outputs": [
    {
     "data": {
      "text/plain": [
       "8.5"
      ]
     },
     "execution_count": 23,
     "metadata": {},
     "output_type": "execute_result"
    }
   ],
   "source": [
    "np.median(sample)"
   ]
  },
  {
   "cell_type": "code",
   "execution_count": 24,
   "id": "f9cd6240-508b-4e09-b31b-50e150eb8b1c",
   "metadata": {},
   "outputs": [
    {
     "data": {
      "text/plain": [
       "7"
      ]
     },
     "execution_count": 24,
     "metadata": {},
     "output_type": "execute_result"
    }
   ],
   "source": [
    "import statistics as stats\n",
    "stats.mode(sample)"
   ]
  },
  {
   "cell_type": "code",
   "execution_count": 25,
   "id": "4ca3f377-ed70-449c-bea9-aba6f8998e19",
   "metadata": {},
   "outputs": [
    {
     "data": {
      "text/plain": [
       "[7, 8, 9, 14]"
      ]
     },
     "execution_count": 25,
     "metadata": {},
     "output_type": "execute_result"
    }
   ],
   "source": [
    "import statistics as stats\n",
    "stats.multimode(sample)"
   ]
  },
  {
   "cell_type": "code",
   "execution_count": 26,
   "id": "cf447296-4fc1-4bb1-b51f-14437b82c5d4",
   "metadata": {},
   "outputs": [
    {
     "data": {
      "text/plain": [
       "8.592592592592593"
      ]
     },
     "execution_count": 26,
     "metadata": {},
     "output_type": "execute_result"
    }
   ],
   "source": [
    "sample2 = [4, 8, 6, 5, 3, 2, 8, 9, 2, 5, 6, 5, 3, 2, 8, 9, 2, 5, 6, 5, 3, 2, 8, 9, 2, 5, 100]\n",
    "np.mean(sample2)"
   ]
  },
  {
   "cell_type": "code",
   "execution_count": 27,
   "id": "4bf00672-5f25-462c-bc29-d30c36b34301",
   "metadata": {},
   "outputs": [
    {
     "data": {
      "text/plain": [
       "5.0"
      ]
     },
     "execution_count": 27,
     "metadata": {},
     "output_type": "execute_result"
    }
   ],
   "source": [
    "np.median(sample2)"
   ]
  },
  {
   "cell_type": "code",
   "execution_count": 30,
   "id": "99a7e522-5f8a-4b43-b712-71f5f8593dbf",
   "metadata": {},
   "outputs": [
    {
     "data": {
      "text/plain": [
       "[7, 8, 9, 14]"
      ]
     },
     "execution_count": 30,
     "metadata": {},
     "output_type": "execute_result"
    }
   ],
   "source": [
    "stats.multimode(sample)"
   ]
  },
  {
   "cell_type": "code",
   "execution_count": 31,
   "id": "cc658056-a24d-4078-bf09-15b459516c6f",
   "metadata": {},
   "outputs": [
    {
     "data": {
      "text/plain": [
       "7"
      ]
     },
     "execution_count": 31,
     "metadata": {},
     "output_type": "execute_result"
    }
   ],
   "source": [
    "stats.mode(sample)"
   ]
  }
 ],
 "metadata": {
  "kernelspec": {
   "display_name": "Python 3 (ipykernel)",
   "language": "python",
   "name": "python3"
  },
  "language_info": {
   "codemirror_mode": {
    "name": "ipython",
    "version": 3
   },
   "file_extension": ".py",
   "mimetype": "text/x-python",
   "name": "python",
   "nbconvert_exporter": "python",
   "pygments_lexer": "ipython3",
   "version": "3.12.1"
  }
 },
 "nbformat": 4,
 "nbformat_minor": 5
}
