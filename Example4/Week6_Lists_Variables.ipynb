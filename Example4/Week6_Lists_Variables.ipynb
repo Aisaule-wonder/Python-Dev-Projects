{
 "cells": [
  {
   "cell_type": "code",
   "execution_count": 2,
   "id": "e2ebe0db-7b0a-4b13-9aa2-c566e7160b9c",
   "metadata": {},
   "outputs": [],
   "source": [
    "import numpy as np"
   ]
  },
  {
   "cell_type": "code",
   "execution_count": 4,
   "id": "90d06e69-f22d-445e-908e-cc11896ea263",
   "metadata": {},
   "outputs": [
    {
     "name": "stdout",
     "output_type": "stream",
     "text": [
      "[4.5 4.5 2.5 5.  3.5]\n"
     ]
    }
   ],
   "source": [
    "#Недостотаток Lists\n",
    "np_result1 = np.array([5,4,3,5,2])\n",
    "np_result2 = np.array([4,5,2,5,5])\n",
    "\n",
    "avg_result = (np_result1 + np_result2)/2\n",
    "print(avg_result)"
   ]
  },
  {
   "cell_type": "code",
   "execution_count": 7,
   "id": "dc1fc163-8b84-45ff-b5b4-915a861f7706",
   "metadata": {},
   "outputs": [
    {
     "name": "stdout",
     "output_type": "stream",
     "text": [
      "[25 16  9 25  4]\n",
      "[4.5 4.5 2.5 5.  3.5]\n"
     ]
    }
   ],
   "source": [
    "#arrays должны содержать один тип данных\n",
    "np_result1 = np.array([5,4,3,5,2])\n",
    "print(np_result1**2)\n",
    "\n",
    "np_result2 = np.array([4,5,2,5,5])\n",
    "\n",
    "avg_result = (np_result1 + np_result2)/2\n",
    "print(avg_result)"
   ]
  },
  {
   "cell_type": "code",
   "execution_count": 8,
   "id": "305fd7c1-0bd9-47cc-a108-59652d95b942",
   "metadata": {},
   "outputs": [
    {
     "name": "stdout",
     "output_type": "stream",
     "text": [
      "[5, 4, 3, 5, 2, 4, 5, 2, 5, 5]\n",
      "[ 9  9  5 10  7]\n"
     ]
    }
   ],
   "source": [
    "#сложение lists verse arrays\n",
    "result1 = [5,4,3,5,2]\n",
    "result2 = [4,5,2,5,5]\n",
    "print(result1 + result2)\n",
    "\n",
    "np_result1 = np.array([5,4,3,5,2])\n",
    "np_result2 = np.array([4,5,2,5,5])\n",
    "print(np_result1 + np_result2)"
   ]
  },
  {
   "cell_type": "code",
   "execution_count": 9,
   "id": "e00154bd-5ec2-4bd9-afa6-68e5cef5a0d3",
   "metadata": {},
   "outputs": [
    {
     "name": "stdout",
     "output_type": "stream",
     "text": [
      "4\n",
      "[ True  True False  True False]\n",
      "[5 4 5]\n"
     ]
    }
   ],
   "source": [
    "#lists verse Arrays\n",
    "np_result1 = np.array([5,4,3,5,2])\n",
    "print(np_result1[1])\n",
    "print(np_result1 > 3)\n",
    "print(np_result1[np_result1 > 3])"
   ]
  },
  {
   "cell_type": "code",
   "execution_count": 19,
   "id": "56d73159-1830-4488-9ce5-b39649659e1c",
   "metadata": {},
   "outputs": [
    {
     "name": "stdout",
     "output_type": "stream",
     "text": [
      "[28.90625    28.37821519 17.0392308  34.47809627 21.70792339]\n"
     ]
    }
   ],
   "source": [
    "height = np.array([1.6, 1.82, 1.57, 1.72, 1.69])\n",
    "weight = np.array([74, 94, 42, 102, 62])\n",
    "\n",
    "bmi = weight / height ** 2\n",
    "print(bmi)"
   ]
  },
  {
   "cell_type": "code",
   "execution_count": 26,
   "id": "22a1a36a-d4d4-48f9-b00b-1246aa6188c8",
   "metadata": {},
   "outputs": [
    {
     "name": "stdout",
     "output_type": "stream",
     "text": [
      "28.906249999999993\n",
      "28.378215191402003\n",
      "17.03923080043815\n",
      "34.47809626825311\n",
      "21.707923392038097\n"
     ]
    }
   ],
   "source": [
    "#расчет нормы\n",
    "height = np.array([1.6, 1.82, 1.57, 1.72, 1.69])\n",
    "weight = np.array([74, 94, 42, 102, 62])\n",
    "\n",
    "bmi = weight / height ** 2\n",
    "\n",
    "for i in range(len(height)):\n",
    "    current_bmi = bmi[i]\n",
    "\n",
    "    if current_bmi > 25:\n",
    "        print(current_bmi)\n",
    "    elif current_bmi < 18.5:\n",
    "        print(current_bmi)\n",
    "    else:\n",
    "        print(current_bmi)"
   ]
  },
  {
   "cell_type": "code",
   "execution_count": 3,
   "id": "480c71f6-0c0b-46d4-b383-73ab4acb0ca5",
   "metadata": {},
   "outputs": [
    {
     "name": "stdout",
     "output_type": "stream",
     "text": [
      "<class 'numpy.ndarray'>\n"
     ]
    }
   ],
   "source": [
    "np_result1 = np.array([5,4,3,5,2])\n",
    "print(type(np_result1))"
   ]
  }
 ],
 "metadata": {
  "kernelspec": {
   "display_name": "Python 3 (ipykernel)",
   "language": "python",
   "name": "python3"
  },
  "language_info": {
   "codemirror_mode": {
    "name": "ipython",
    "version": 3
   },
   "file_extension": ".py",
   "mimetype": "text/x-python",
   "name": "python",
   "nbconvert_exporter": "python",
   "pygments_lexer": "ipython3",
   "version": "3.12.1"
  }
 },
 "nbformat": 4,
 "nbformat_minor": 5
}
