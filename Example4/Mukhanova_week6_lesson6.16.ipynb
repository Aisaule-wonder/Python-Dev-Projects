{
 "cells": [
  {
   "cell_type": "code",
   "execution_count": 1,
   "id": "8008dd33-e514-407f-a949-818ce7fc7180",
   "metadata": {},
   "outputs": [],
   "source": [
    "import numpy as np"
   ]
  },
  {
   "cell_type": "code",
   "execution_count": 2,
   "id": "90db493e-df9f-49aa-92c3-e6118df0ecee",
   "metadata": {},
   "outputs": [],
   "source": [
    "import pandas as pd"
   ]
  },
  {
   "cell_type": "code",
   "execution_count": 3,
   "id": "331d8ea4-30f5-4e79-a5af-3f2d8b30f46d",
   "metadata": {},
   "outputs": [
    {
     "name": "stdout",
     "output_type": "stream",
     "text": [
      "     gender race/ethnicity parental level of education         lunch  \\\n",
      "0    female        group B           bachelor's degree      standard   \n",
      "1    female        group C                some college      standard   \n",
      "2    female        group B             master's degree      standard   \n",
      "3      male        group A          associate's degree  free/reduced   \n",
      "4      male        group C                some college      standard   \n",
      "..      ...            ...                         ...           ...   \n",
      "995  female        group E             master's degree      standard   \n",
      "996    male        group C                 high school  free/reduced   \n",
      "997  female        group C                 high school  free/reduced   \n",
      "998  female        group D                some college      standard   \n",
      "999  female        group D                some college  free/reduced   \n",
      "\n",
      "    test preparation course  math score  reading score  writing score  \n",
      "0                      none          72             72             74  \n",
      "1                 completed          69             90             88  \n",
      "2                      none          90             95             93  \n",
      "3                      none          47             57             44  \n",
      "4                      none          76             78             75  \n",
      "..                      ...         ...            ...            ...  \n",
      "995               completed          88             99             95  \n",
      "996                    none          62             55             55  \n",
      "997               completed          59             71             65  \n",
      "998               completed          68             78             77  \n",
      "999                    none          77             86             86  \n",
      "\n",
      "[1000 rows x 8 columns]\n"
     ]
    }
   ],
   "source": [
    "student_df = pd.read_csv('StudentsPerformance.csv')\n",
    "print(student_df)"
   ]
  },
  {
   "cell_type": "code",
   "execution_count": 4,
   "id": "7820bcde-80de-4022-900e-ea3a70864883",
   "metadata": {},
   "outputs": [
    {
     "data": {
      "text/plain": [
       "66.089"
      ]
     },
     "execution_count": 4,
     "metadata": {},
     "output_type": "execute_result"
    }
   ],
   "source": [
    "np.mean(student_df['math score'])"
   ]
  },
  {
   "cell_type": "code",
   "execution_count": 5,
   "id": "8e30ce6e-f46a-4788-8cfd-115a4a236d98",
   "metadata": {},
   "outputs": [
    {
     "name": "stdout",
     "output_type": "stream",
     "text": [
      "0       5.911\n",
      "1       2.911\n",
      "2      23.911\n",
      "3     -19.089\n",
      "4       9.911\n",
      "        ...  \n",
      "995    21.911\n",
      "996    -4.089\n",
      "997    -7.089\n",
      "998     1.911\n",
      "999    10.911\n",
      "Name: math score, Length: 1000, dtype: float64\n"
     ]
    }
   ],
   "source": [
    "# чтобы найти дисперсию\n",
    "# находим разницу между каждым значением и средним \n",
    "# возводим в квадрат\n",
    "# суммиреум и делим на ко-во наблюдений\n",
    "\n",
    "distance = student_df['math score']- np.mean(student_df['math score'])\n",
    "print(distance)"
   ]
  },
  {
   "cell_type": "code",
   "execution_count": 6,
   "id": "ec031ffc-25f3-4bea-9bd8-24fee7199ee4",
   "metadata": {},
   "outputs": [
    {
     "name": "stdout",
     "output_type": "stream",
     "text": [
      "0       34.939921\n",
      "1        8.473921\n",
      "2      571.735921\n",
      "3      364.389921\n",
      "4       98.227921\n",
      "          ...    \n",
      "995    480.091921\n",
      "996     16.719921\n",
      "997     50.253921\n",
      "998      3.651921\n",
      "999    119.049921\n",
      "Name: math score, Length: 1000, dtype: float64\n"
     ]
    }
   ],
   "source": [
    "squared_distance = distance**2\n",
    "print(squared_distance)"
   ]
  },
  {
   "cell_type": "code",
   "execution_count": 7,
   "id": "bf987150-b081-4155-84d3-6c67804791ba",
   "metadata": {},
   "outputs": [
    {
     "name": "stdout",
     "output_type": "stream",
     "text": [
      "sum_squared_distance = 229689.07899999997\n"
     ]
    }
   ],
   "source": [
    "sum_squared_distance = np.sum(squared_distance)\n",
    "print(\"sum_squared_distance =\",sum_squared_distance)"
   ]
  },
  {
   "cell_type": "code",
   "execution_count": 8,
   "id": "add091f3-b676-4873-b298-409105284762",
   "metadata": {},
   "outputs": [
    {
     "name": "stdout",
     "output_type": "stream",
     "text": [
      "count - 1= 999\n",
      "variance= 229.91899799799796\n"
     ]
    }
   ],
   "source": [
    "variance = sum_squared_distance/(student_df['math score'].count()-1)\n",
    "print(\"count - 1=\",student_df['math score'].count()-1)\n",
    "print(\"variance=\",variance)"
   ]
  },
  {
   "cell_type": "code",
   "execution_count": 9,
   "id": "66c44d53-237d-41e1-a670-d8574e657f10",
   "metadata": {},
   "outputs": [
    {
     "name": "stdout",
     "output_type": "stream",
     "text": [
      "0       5.911\n",
      "1       2.911\n",
      "2      23.911\n",
      "3     -19.089\n",
      "4       9.911\n",
      "        ...  \n",
      "995    21.911\n",
      "996    -4.089\n",
      "997    -7.089\n",
      "998     1.911\n",
      "999    10.911\n",
      "Name: math score, Length: 1000, dtype: float64\n",
      "0       34.939921\n",
      "1        8.473921\n",
      "2      571.735921\n",
      "3      364.389921\n",
      "4       98.227921\n",
      "          ...    \n",
      "995    480.091921\n",
      "996     16.719921\n",
      "997     50.253921\n",
      "998      3.651921\n",
      "999    119.049921\n",
      "Name: math score, Length: 1000, dtype: float64\n",
      "sum_squared_distance = 229689.07899999997\n",
      "count - 1= 999\n",
      "variance= 229.91899799799796\n"
     ]
    }
   ],
   "source": [
    "# чтобы найти дисперсию\n",
    "# находим разницу между каждым значением и средним \n",
    "# возводим в квадрат\n",
    "# суммиреум и делим на ко-во наблюдений\n",
    "\n",
    "distance = student_df['math score']- np.mean(student_df['math score'])\n",
    "print(distance)\n",
    "\n",
    "squared_distance = distance**2\n",
    "print(squared_distance)\n",
    "\n",
    "sum_squared_distance = np.sum(squared_distance)\n",
    "print(\"sum_squared_distance =\",sum_squared_distance)\n",
    "\n",
    "variance = sum_squared_distance/(student_df['math score'].count()-1)\n",
    "print(\"count - 1=\",student_df['math score'].count()-1)\n",
    "print(\"variance=\",variance)"
   ]
  },
  {
   "cell_type": "code",
   "execution_count": 19,
   "id": "ed75ecba-1fa6-4f39-a029-e735d159ca4c",
   "metadata": {},
   "outputs": [
    {
     "name": "stdout",
     "output_type": "stream",
     "text": [
      "0       2.831\n",
      "1      20.831\n",
      "2      25.831\n",
      "3     -12.169\n",
      "4       8.831\n",
      "        ...  \n",
      "995    29.831\n",
      "996   -14.169\n",
      "997     1.831\n",
      "998     8.831\n",
      "999    16.831\n",
      "Name: reading score, Length: 1000, dtype: float64\n",
      "0        8.014561\n",
      "1      433.930561\n",
      "2      667.240561\n",
      "3      148.084561\n",
      "4       77.986561\n",
      "          ...    \n",
      "995    889.888561\n",
      "996    200.760561\n",
      "997      3.352561\n",
      "998     77.986561\n",
      "999    283.282561\n",
      "Name: reading score, Length: 1000, dtype: float64\n",
      "sum_squared_distance = 212952.439\n",
      "count1 - 1= 999\n",
      "variance1= 213.16560460460462\n"
     ]
    }
   ],
   "source": [
    "distance1 = student_df['reading score']- np.mean(student_df['reading score'])\n",
    "print(distance1)\n",
    "\n",
    "squared_distance1 = distance1**2\n",
    "print(squared_distance1)\n",
    "\n",
    "sum_squared_distance1 = np.sum(squared_distance1)\n",
    "print(\"sum_squared_distance =\",sum_squared_distance1)\n",
    "\n",
    "variance1 = sum_squared_distance1/(student_df['reading score'].count()-1)\n",
    "print(\"count1 - 1=\",student_df['reading score'].count()-1)\n",
    "print(\"variance1=\",variance1)"
   ]
  },
  {
   "cell_type": "code",
   "execution_count": 20,
   "id": "9cbfda98-8342-4ffd-92cc-ccae4dd75f90",
   "metadata": {},
   "outputs": [
    {
     "name": "stdout",
     "output_type": "stream",
     "text": [
      "0       5.946\n",
      "1      19.946\n",
      "2      24.946\n",
      "3     -24.054\n",
      "4       6.946\n",
      "        ...  \n",
      "995    26.946\n",
      "996   -13.054\n",
      "997    -3.054\n",
      "998     8.946\n",
      "999    17.946\n",
      "Name: writing score, Length: 1000, dtype: float64\n",
      "0       35.354916\n",
      "1      397.842916\n",
      "2      622.302916\n",
      "3      578.594916\n",
      "4       48.246916\n",
      "          ...    \n",
      "995    726.086916\n",
      "996    170.406916\n",
      "997      9.326916\n",
      "998     80.030916\n",
      "999    322.058916\n",
      "Name: writing score, Length: 1000, dtype: float64\n",
      "sum_squared_distance = 230677.084\n",
      "count2 - 1= 999\n",
      "variance2= 230.907991991992\n"
     ]
    }
   ],
   "source": [
    "distance2 = student_df['writing score']- np.mean(student_df['writing score'])\n",
    "print(distance2)\n",
    "\n",
    "squared_distance2 = distance2**2\n",
    "print(squared_distance2)\n",
    "\n",
    "sum_squared_distance2 = np.sum(squared_distance2)\n",
    "print(\"sum_squared_distance =\",sum_squared_distance2)\n",
    "\n",
    "variance2 = sum_squared_distance2/(student_df['writing score'].count()-1)\n",
    "print(\"count2 - 1=\",student_df['writing score'].count()-1)\n",
    "print(\"variance2=\",variance2)"
   ]
  },
  {
   "cell_type": "code",
   "execution_count": 21,
   "id": "cfe836b2-46d0-4dcd-bf07-7ee327a2448d",
   "metadata": {},
   "outputs": [
    {
     "name": "stdout",
     "output_type": "stream",
     "text": [
      "15.16308009600945\n"
     ]
    }
   ],
   "source": [
    "st_dev = variance**0.5\n",
    "print(st_dev)"
   ]
  },
  {
   "cell_type": "code",
   "execution_count": 22,
   "id": "1f72936e-f3b9-4255-8ee6-a82cb7c0e9bc",
   "metadata": {},
   "outputs": [
    {
     "name": "stdout",
     "output_type": "stream",
     "text": [
      "14.600191937252216\n"
     ]
    }
   ],
   "source": [
    "st_dev_reading = variance1**0.5\n",
    "print(st_dev_reading)"
   ]
  },
  {
   "cell_type": "code",
   "execution_count": 23,
   "id": "6c6f0519-3e98-4057-80e3-edf7de17c83c",
   "metadata": {},
   "outputs": [
    {
     "name": "stdout",
     "output_type": "stream",
     "text": [
      "15.19565701086965\n"
     ]
    }
   ],
   "source": [
    "st_dev_writing = variance2**0.5\n",
    "print(st_dev_writing)"
   ]
  },
  {
   "cell_type": "code",
   "execution_count": 16,
   "id": "bbd82d58-d7ff-44c5-b38e-f356fca37890",
   "metadata": {},
   "outputs": [
    {
     "name": "stdout",
     "output_type": "stream",
     "text": [
      "229.91899799799796 15.16308009600945\n",
      "230.907991991992 15.19565701086965\n",
      "213.16560460460462 14.600191937252216\n"
     ]
    }
   ],
   "source": [
    "variance_math = np.var(student_df['math score'],ddof=1)\n",
    "variance_write = np.var(student_df['writing score'],ddof=1)\n",
    "variance_read = np.var(student_df['reading score'],ddof=1)\n",
    "\n",
    "st_dev_math = np.std(student_df['math score'],ddof=1)\n",
    "st_dev_write = np.std(student_df['writing score'],ddof=1)\n",
    "st_dev_read = np.std(student_df['reading score'],ddof=1)\n",
    "\n",
    "print(variance_math, st_dev_math)\n",
    "print(variance_write, st_dev_write)\n",
    "print(variance_read, st_dev_read)"
   ]
  }
 ],
 "metadata": {
  "kernelspec": {
   "display_name": "Python 3 (ipykernel)",
   "language": "python",
   "name": "python3"
  },
  "language_info": {
   "codemirror_mode": {
    "name": "ipython",
    "version": 3
   },
   "file_extension": ".py",
   "mimetype": "text/x-python",
   "name": "python",
   "nbconvert_exporter": "python",
   "pygments_lexer": "ipython3",
   "version": "3.12.1"
  }
 },
 "nbformat": 4,
 "nbformat_minor": 5
}
