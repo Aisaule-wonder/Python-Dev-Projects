{
 "cells": [
  {
   "cell_type": "code",
   "execution_count": 1,
   "id": "aa5cf6ac-b563-4c1c-a46c-cc89b39089ee",
   "metadata": {},
   "outputs": [],
   "source": [
    "import numpy as np"
   ]
  },
  {
   "cell_type": "code",
   "execution_count": 3,
   "id": "dedb719c-5c3d-4304-afa1-81beecfa407b",
   "metadata": {},
   "outputs": [
    {
     "name": "stdout",
     "output_type": "stream",
     "text": [
      "<class 'numpy.ndarray'>\n"
     ]
    }
   ],
   "source": [
    "np_result1 = np.array([5,4,3,5,2])\n",
    "print(type(np_result1))"
   ]
  },
  {
   "cell_type": "code",
   "execution_count": 8,
   "id": "db2c0544-63f7-41ad-9488-4fb00223081f",
   "metadata": {},
   "outputs": [
    {
     "name": "stdout",
     "output_type": "stream",
     "text": [
      "[[5 4 3 5 7]\n",
      " [2 5 4 5 6]]\n"
     ]
    },
    {
     "data": {
      "text/plain": [
       "(2, 5)"
      ]
     },
     "execution_count": 8,
     "metadata": {},
     "output_type": "execute_result"
    }
   ],
   "source": [
    "np_2d = np.array([[5,4,3,5,7],[2,5,4,5,6]])\n",
    "print(np_2d)\n",
    "np_2d.shape"
   ]
  },
  {
   "cell_type": "code",
   "execution_count": 9,
   "id": "9d22bb62-1ad4-4dd1-b151-1372c49c65e5",
   "metadata": {},
   "outputs": [
    {
     "name": "stdout",
     "output_type": "stream",
     "text": [
      "7\n",
      "7\n",
      "[[4 3]\n",
      " [5 4]]\n",
      "[5 4 3 5 7]\n"
     ]
    }
   ],
   "source": [
    "#индексы и слайсинг\n",
    "print(np_2d[0][4])\n",
    "print(np_2d[0,4])\n",
    "print(np_2d[:,1:3])\n",
    "print(np_2d[0,:])"
   ]
  },
  {
   "cell_type": "code",
   "execution_count": 26,
   "id": "2b8b2af4-f263-4ad8-8a72-85a15d082c23",
   "metadata": {},
   "outputs": [
    {
     "name": "stdout",
     "output_type": "stream",
     "text": [
      "[[  1.6    1.82   1.57   1.72   1.69]\n",
      " [ 74.    94.    42.   102.    62.  ]]\n",
      "row 2: [ 74.  94.  42. 102.  62.]\n",
      "column 3: [ 1.57 42.  ]\n",
      "center: [ 1.57 42.  ]\n"
     ]
    }
   ],
   "source": [
    "height = [1.6, 1.82, 1.57, 1.72, 1.69]\n",
    "weight = [74, 94, 42, 102, 62]\n",
    "np_2d = np.array([height,weight])\n",
    "print(np_2d)\n",
    "\n",
    "row_2_elements = np_2d[1, :]\n",
    "print(\"row 2:\", row_2_elements)\n",
    "\n",
    "column_3_elements = np_2d[:, 2]\n",
    "print(\"column 3:\", column_3_elements)\n",
    "\n",
    "center_elements = np_2d[:, len(height) // 2]\n",
    "print(\"center:\", center_elements)"
   ]
  }
 ],
 "metadata": {
  "kernelspec": {
   "display_name": "Python 3 (ipykernel)",
   "language": "python",
   "name": "python3"
  },
  "language_info": {
   "codemirror_mode": {
    "name": "ipython",
    "version": 3
   },
   "file_extension": ".py",
   "mimetype": "text/x-python",
   "name": "python",
   "nbconvert_exporter": "python",
   "pygments_lexer": "ipython3",
   "version": "3.12.1"
  }
 },
 "nbformat": 4,
 "nbformat_minor": 5
}
