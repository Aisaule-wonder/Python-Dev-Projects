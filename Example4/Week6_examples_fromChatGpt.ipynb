{
 "cells": [
  {
   "cell_type": "code",
   "execution_count": 1,
   "id": "5a25d840-21ed-4001-8468-6c8d03620d5a",
   "metadata": {},
   "outputs": [
    {
     "name": "stdout",
     "output_type": "stream",
     "text": [
      "Вес в килограммах: [81.64656 97.52228 95.25432 92.98636 86.18248 88.45044]\n",
      "Индекс массы тела (BMI): [20.2775871  27.60406069 28.48080465 25.62295933 23.74810865 25.72686361]\n"
     ]
    }
   ],
   "source": [
    "import numpy as np\n",
    "\n",
    "# Исходные списки с ростом в дюймах и весом в фунтах\n",
    "height_in = [79, 74, 72, 75, 75, 73]\n",
    "weight_lb = [180, 215, 210, 205, 190, 195]\n",
    "\n",
    "# Создаем массивы NumPy из списков\n",
    "np_height_in = np.array(height_in)\n",
    "np_weight_lb = np.array(weight_lb)\n",
    "\n",
    "# Переводим рост из дюймов в метры (1 дюйм = 0.0254 метра)\n",
    "np_height_m = np_height_in * 0.0254\n",
    "\n",
    "# Переводим вес из фунтов в килограммы (1 фунт = 0.453592 кг)\n",
    "np_weight_kg = np_weight_lb * 0.453592\n",
    "\n",
    "# Рассчитываем индекс массы тела (BMI)\n",
    "bmi = np_weight_kg / np_height_m**2\n",
    "\n",
    "# Выводим результат\n",
    "print(\"Вес в килограммах:\", np_weight_kg)\n",
    "print(\"Индекс массы тела (BMI):\", bmi)"
   ]
  },
  {
   "cell_type": "code",
   "execution_count": 2,
   "id": "318ee97d-ff3a-4b36-a14f-021898726277",
   "metadata": {},
   "outputs": [
    {
     "name": "stdout",
     "output_type": "stream",
     "text": [
      "Индекс массы тела (BMI): [20.2775871  27.60406069 28.48080465 25.62295933 23.74810865 25.72686361]\n",
      "Есть ли игроки с BMI меньше 21: [ True False False False False False]\n"
     ]
    }
   ],
   "source": [
    "import numpy as np\n",
    "\n",
    "# Исходные списки с ростом в дюймах и весом в фунтах\n",
    "height_in = [79, 74, 72, 75, 75, 73]\n",
    "weight_lb = [180, 215, 210, 205, 190, 195]\n",
    "\n",
    "# Создаем массивы NumPy из списков\n",
    "np_height_in = np.array(height_in)\n",
    "np_weight_lb = np.array(weight_lb)\n",
    "\n",
    "# Переводим рост из дюймов в метры (1 дюйм = 0.0254 метра)\n",
    "np_height_m = np_height_in * 0.0254\n",
    "\n",
    "# Переводим вес из фунтов в килограммы (1 фунт = 0.453592 кг)\n",
    "np_weight_kg = np_weight_lb * 0.453592\n",
    "\n",
    "# Рассчитываем индекс массы тела (BMI)\n",
    "bmi = np_weight_kg / np_height_m**2\n",
    "\n",
    "# Выводим результат\n",
    "print(\"Индекс массы тела (BMI):\", bmi)\n",
    "\n",
    "# Проверяем, есть ли игроки с BMI меньше 21\n",
    "under_21 = bmi < 21\n",
    "print(\"Есть ли игроки с BMI меньше 21:\", under_21)"
   ]
  },
  {
   "cell_type": "code",
   "execution_count": 3,
   "id": "9714de59-bd4a-4076-a73c-af22936db311",
   "metadata": {},
   "outputs": [
    {
     "name": "stdout",
     "output_type": "stream",
     "text": [
      "Тип данных массива: <class 'numpy.ndarray'>\n",
      "Размер массива (shape): (4, 2)\n",
      "Значения третьей строки: [210.   98.5]\n",
      "Значения второй колонки: [ 78.4 102.7  98.5  75.2]\n",
      "Вес всех игроков: [180. 215. 210. 188.]\n",
      "Конвертированные значения в килограммах и метрах:\n",
      "[[81.64656   1.99136 ]\n",
      " [97.52228   2.60858 ]\n",
      " [95.25432   2.5019  ]\n",
      " [85.275296  1.91008 ]]\n"
     ]
    }
   ],
   "source": [
    "import numpy as np\n",
    "\n",
    "# Исходный список в списке\n",
    "basketball = [[180, 78.4],\n",
    "              [215, 102.7],\n",
    "              [210, 98.5],\n",
    "              [188, 75.2]]\n",
    "\n",
    "# Создаем двумерный массив NumPy\n",
    "np_basketball = np.array(basketball)\n",
    "\n",
    "# Выводим тип данных массива\n",
    "print(\"Тип данных массива:\", type(np_basketball))\n",
    "\n",
    "# Выводим размер массива\n",
    "print(\"Размер массива (shape):\", np_basketball.shape)\n",
    "\n",
    "# Выводим значения третьей строки\n",
    "print(\"Значения третьей строки:\", np_basketball[2, :])\n",
    "\n",
    "# Выводим значения второй колонки\n",
    "print(\"Значения второй колонки:\", np_basketball[:, 1])\n",
    "\n",
    "# Выводим вес всех игроков\n",
    "print(\"Вес всех игроков:\", np_basketball[:, 0])\n",
    "\n",
    "# Массив коэффициентов для конвертации веса и роста\n",
    "conversion = np.array([0.453592, 0.0254])\n",
    "\n",
    "# Конвертируем значения игроков в килограммы и метры\n",
    "np_basketball_kg_m = np_basketball * conversion\n",
    "\n",
    "# Выводим результат\n",
    "print(\"Конвертированные значения в килограммах и метрах:\")\n",
    "print(np_basketball_kg_m)"
   ]
  },
  {
   "cell_type": "code",
   "execution_count": 4,
   "id": "9e8d51de-6b82-498f-88c6-928c1c735573",
   "metadata": {},
   "outputs": [
    {
     "name": "stdout",
     "output_type": "stream",
     "text": [
      "Средний рост игроков (в дюймах): 88.7\n",
      "Медиана роста игроков (в дюймах): 88.45\n",
      "Стандартное отклонение роста игроков (в дюймах): 12.045538593188764\n"
     ]
    }
   ],
   "source": [
    "import numpy as np\n",
    "\n",
    "# Исходный список в списке\n",
    "basketball = [[180, 78.4],\n",
    "              [215, 102.7],\n",
    "              [210, 98.5],\n",
    "              [188, 75.2]]\n",
    "\n",
    "# Создаем двумерный массив NumPy\n",
    "np_basketball = np.array(basketball)\n",
    "\n",
    "# Извлекаем рост игроков в дюймах из второй колонки массива\n",
    "np_height_in = np_basketball[:, 1]\n",
    "\n",
    "# Рассчитываем среднюю, медиану и стандартное отклонение роста\n",
    "mean_height = np.mean(np_height_in)\n",
    "median_height = np.median(np_height_in)\n",
    "std_dev_height = np.std(np_height_in)\n",
    "\n",
    "# Выводим результат\n",
    "print(\"Средний рост игроков (в дюймах):\", mean_height)\n",
    "print(\"Медиана роста игроков (в дюймах):\", median_height)\n",
    "print(\"Стандартное отклонение роста игроков (в дюймах):\", std_dev_height)"
   ]
  },
  {
   "cell_type": "code",
   "execution_count": 1,
   "id": "55dafcab-798b-49e4-bc2e-780b34ca7c62",
   "metadata": {},
   "outputs": [
    {
     "name": "stdout",
     "output_type": "stream",
     "text": [
      "Все элементы второй строки: [ 74.  94.  42. 102.  62.]\n",
      "Все элементы третьей колонки: [ 1.57 42.  ]\n",
      "Элементы в центре каждой строки: [ 1.57 42.  ]\n"
     ]
    }
   ],
   "source": [
    "import numpy as np\n",
    "\n",
    "# Исходные списки с ростом и весом\n",
    "height = [1.6, 1.82, 1.57, 1.72, 1.69]\n",
    "weight = [74, 94, 42, 102, 62]\n",
    "\n",
    "# Создаем двумерный массив NumPy\n",
    "np_2d = np.array([height, weight])\n",
    "\n",
    "# Выводим все элементы 2 строки\n",
    "row_2_elements = np_2d[1, :]\n",
    "print(\"Все элементы второй строки:\", row_2_elements)\n",
    "\n",
    "# Выводим все элементы 3 колонки\n",
    "column_3_elements = np_2d[:, 2]\n",
    "print(\"Все элементы третьей колонки:\", column_3_elements)\n",
    "\n",
    "# Выводим элементы, находящиеся в центре каждой строки\n",
    "center_elements = np_2d[:, len(height) // 2]\n",
    "print(\"Элементы в центре каждой строки:\", center_elements)"
   ]
  }
 ],
 "metadata": {
  "kernelspec": {
   "display_name": "Python 3 (ipykernel)",
   "language": "python",
   "name": "python3"
  },
  "language_info": {
   "codemirror_mode": {
    "name": "ipython",
    "version": 3
   },
   "file_extension": ".py",
   "mimetype": "text/x-python",
   "name": "python",
   "nbconvert_exporter": "python",
   "pygments_lexer": "ipython3",
   "version": "3.12.1"
  }
 },
 "nbformat": 4,
 "nbformat_minor": 5
}
