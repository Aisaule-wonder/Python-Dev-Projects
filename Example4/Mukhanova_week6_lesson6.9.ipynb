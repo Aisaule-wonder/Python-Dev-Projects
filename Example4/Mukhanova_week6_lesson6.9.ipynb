{
 "cells": [
  {
   "cell_type": "code",
   "execution_count": 1,
   "id": "7f8b8467-ce98-4a1e-ba51-4b26127d10ae",
   "metadata": {},
   "outputs": [],
   "source": [
    "import numpy as np"
   ]
  },
  {
   "cell_type": "code",
   "execution_count": 2,
   "id": "f5c86b18-34ce-4c5c-ae61-4a0846425580",
   "metadata": {},
   "outputs": [
    {
     "name": "stdout",
     "output_type": "stream",
     "text": [
      "<class 'numpy.ndarray'>\n"
     ]
    }
   ],
   "source": [
    "np_basketball = np.array([180, 215, 210, 210, 188, 176, 209, 200])\n",
    "print(type(np_basketball))"
   ]
  },
  {
   "cell_type": "code",
   "execution_count": 4,
   "id": "7138416a-185d-4aaf-a268-1f857742968f",
   "metadata": {},
   "outputs": [
    {
     "name": "stdout",
     "output_type": "stream",
     "text": [
      "[2.0066 1.8796 1.8288 1.905  1.905  1.8542]\n"
     ]
    }
   ],
   "source": [
    "np_height_in = np.array([79, 74, 72, 75, 75, 73])\n",
    "np_height_m = np_height_in * 0.0254\n",
    "print(np_height_m)"
   ]
  },
  {
   "cell_type": "code",
   "execution_count": 7,
   "id": "fe1d57fa-28e1-40da-a00e-56a489d939fb",
   "metadata": {},
   "outputs": [
    {
     "name": "stdout",
     "output_type": "stream",
     "text": [
      "[81.64656 97.52228 95.25432 92.98636 86.18248 88.45044]\n"
     ]
    }
   ],
   "source": [
    "weight_lb = np.array([180, 215, 210, 205, 190, 195])\n",
    "np_weight_kg = weight_lb* 0.453592\n",
    "print(np_weight_kg)"
   ]
  },
  {
   "cell_type": "code",
   "execution_count": 11,
   "id": "0db85bfb-a83a-4522-a5cd-3ac4efef583c",
   "metadata": {},
   "outputs": [
    {
     "name": "stdout",
     "output_type": "stream",
     "text": [
      "[20.2775871  27.60406069 28.48080465 25.62295933 23.74810865 25.72686361]\n",
      "[ True False False False False False]\n"
     ]
    }
   ],
   "source": [
    "bmi = np_weight_kg / np_height_m**2\n",
    "under_21 = bmi < 21\n",
    "print(bmi)\n",
    "print(under_21)"
   ]
  },
  {
   "cell_type": "code",
   "execution_count": 25,
   "id": "2257d119-f348-48fa-94cc-934a916d37c3",
   "metadata": {},
   "outputs": [
    {
     "name": "stdout",
     "output_type": "stream",
     "text": [
      "<class 'numpy.ndarray'>\n",
      "(4, 2)\n",
      "[210.   98.5]\n",
      "[ 78.4 102.7  98.5  75.2]\n",
      "[180. 215. 210. 188.]\n",
      "[[81.64656   1.99136 ]\n",
      " [97.52228   2.60858 ]\n",
      " [95.25432   2.5019  ]\n",
      " [85.275296  1.91008 ]]\n"
     ]
    }
   ],
   "source": [
    "basketball = [[180, 78.4],[215, 102.7],[210, 98.5],[188, 75.2]]\n",
    "np_basketball = np.array(basketball)\n",
    "\n",
    "# massive type\n",
    "print(type(np_basketball))\n",
    "\n",
    "# massive shape\n",
    "print(np_basketball.shape)\n",
    "\n",
    "# print third row\n",
    "print(np_basketball[2, :])\n",
    "\n",
    "# print second column\n",
    "print(np_basketball[:, 1])\n",
    "\n",
    "# wieght all players\n",
    "print(np_basketball[:, 0])\n",
    "\n",
    "# massive coefficient\n",
    "conversion = np.array([0.453592, 0.0254])\n",
    "\n",
    "# convert all players values into kg and meters\n",
    "np_basketball_kg_m = np_basketball * conversion\n",
    "print(np_basketball_kg_m)"
   ]
  }
 ],
 "metadata": {
  "kernelspec": {
   "display_name": "Python 3 (ipykernel)",
   "language": "python",
   "name": "python3"
  },
  "language_info": {
   "codemirror_mode": {
    "name": "ipython",
    "version": 3
   },
   "file_extension": ".py",
   "mimetype": "text/x-python",
   "name": "python",
   "nbconvert_exporter": "python",
   "pygments_lexer": "ipython3",
   "version": "3.12.1"
  }
 },
 "nbformat": 4,
 "nbformat_minor": 5
}
