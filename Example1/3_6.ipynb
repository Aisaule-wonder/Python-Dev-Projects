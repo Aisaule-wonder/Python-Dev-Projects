{
 "cells": [
  {
   "cell_type": "code",
   "execution_count": 1,
   "id": "2ff07e2b-9b5f-4805-a043-2fedad9c62cf",
   "metadata": {},
   "outputs": [
    {
     "data": {
      "text/plain": [
       "0    1.0\n",
       "1    3.0\n",
       "2    5.0\n",
       "3    NaN\n",
       "4    6.0\n",
       "5    8.0\n",
       "dtype: float64"
      ]
     },
     "execution_count": 1,
     "metadata": {},
     "output_type": "execute_result"
    }
   ],
   "source": [
    "import numpy as np\n",
    "import pandas as pd\n",
    "s=pd.Series([1,3,5,np.nan,6,8])\n",
    "s"
   ]
  },
  {
   "cell_type": "code",
   "execution_count": 4,
   "id": "640f2538-9180-468e-bbdc-44150af4c21a",
   "metadata": {},
   "outputs": [
    {
     "data": {
      "text/plain": [
       "DatetimeIndex(['2023-01-01', '2023-01-02', '2023-01-03', '2023-01-04',\n",
       "               '2023-01-05', '2023-01-06'],\n",
       "              dtype='datetime64[ns]', freq='D')"
      ]
     },
     "execution_count": 4,
     "metadata": {},
     "output_type": "execute_result"
    }
   ],
   "source": [
    "dates=pd.date_range(\"20230101\",periods=6)\n",
    "dates"
   ]
  },
  {
   "cell_type": "code",
   "execution_count": 5,
   "id": "a9655f34-ea2f-4316-a156-ced53a6a23d4",
   "metadata": {},
   "outputs": [
    {
     "data": {
      "text/html": [
       "<div>\n",
       "<style scoped>\n",
       "    .dataframe tbody tr th:only-of-type {\n",
       "        vertical-align: middle;\n",
       "    }\n",
       "\n",
       "    .dataframe tbody tr th {\n",
       "        vertical-align: top;\n",
       "    }\n",
       "\n",
       "    .dataframe thead th {\n",
       "        text-align: right;\n",
       "    }\n",
       "</style>\n",
       "<table border=\"1\" class=\"dataframe\">\n",
       "  <thead>\n",
       "    <tr style=\"text-align: right;\">\n",
       "      <th></th>\n",
       "      <th>A</th>\n",
       "      <th>B</th>\n",
       "      <th>C</th>\n",
       "      <th>D</th>\n",
       "    </tr>\n",
       "  </thead>\n",
       "  <tbody>\n",
       "    <tr>\n",
       "      <th>2023-01-01</th>\n",
       "      <td>-0.996541</td>\n",
       "      <td>1.498595</td>\n",
       "      <td>1.743502</td>\n",
       "      <td>-1.200062</td>\n",
       "    </tr>\n",
       "    <tr>\n",
       "      <th>2023-01-02</th>\n",
       "      <td>0.122160</td>\n",
       "      <td>0.709673</td>\n",
       "      <td>0.753083</td>\n",
       "      <td>0.760191</td>\n",
       "    </tr>\n",
       "    <tr>\n",
       "      <th>2023-01-03</th>\n",
       "      <td>-1.840317</td>\n",
       "      <td>1.450155</td>\n",
       "      <td>1.276351</td>\n",
       "      <td>-1.663998</td>\n",
       "    </tr>\n",
       "    <tr>\n",
       "      <th>2023-01-04</th>\n",
       "      <td>0.351089</td>\n",
       "      <td>0.680196</td>\n",
       "      <td>0.748880</td>\n",
       "      <td>1.157890</td>\n",
       "    </tr>\n",
       "    <tr>\n",
       "      <th>2023-01-05</th>\n",
       "      <td>-0.099159</td>\n",
       "      <td>-0.836093</td>\n",
       "      <td>-0.110251</td>\n",
       "      <td>-2.003612</td>\n",
       "    </tr>\n",
       "    <tr>\n",
       "      <th>2023-01-06</th>\n",
       "      <td>0.122569</td>\n",
       "      <td>-1.238199</td>\n",
       "      <td>0.722888</td>\n",
       "      <td>-0.828614</td>\n",
       "    </tr>\n",
       "  </tbody>\n",
       "</table>\n",
       "</div>"
      ],
      "text/plain": [
       "                   A         B         C         D\n",
       "2023-01-01 -0.996541  1.498595  1.743502 -1.200062\n",
       "2023-01-02  0.122160  0.709673  0.753083  0.760191\n",
       "2023-01-03 -1.840317  1.450155  1.276351 -1.663998\n",
       "2023-01-04  0.351089  0.680196  0.748880  1.157890\n",
       "2023-01-05 -0.099159 -0.836093 -0.110251 -2.003612\n",
       "2023-01-06  0.122569 -1.238199  0.722888 -0.828614"
      ]
     },
     "execution_count": 5,
     "metadata": {},
     "output_type": "execute_result"
    }
   ],
   "source": [
    "df=pd.DataFrame(np.random.randn(6,4),index=dates, columns=list(\"ABCD\"))\n",
    "df"
   ]
  },
  {
   "cell_type": "code",
   "execution_count": 9,
   "id": "6f4098e7-fbf6-4960-aec1-153272ddab29",
   "metadata": {},
   "outputs": [
    {
     "data": {
      "text/html": [
       "<div>\n",
       "<style scoped>\n",
       "    .dataframe tbody tr th:only-of-type {\n",
       "        vertical-align: middle;\n",
       "    }\n",
       "\n",
       "    .dataframe tbody tr th {\n",
       "        vertical-align: top;\n",
       "    }\n",
       "\n",
       "    .dataframe thead th {\n",
       "        text-align: right;\n",
       "    }\n",
       "</style>\n",
       "<table border=\"1\" class=\"dataframe\">\n",
       "  <thead>\n",
       "    <tr style=\"text-align: right;\">\n",
       "      <th></th>\n",
       "      <th>A</th>\n",
       "      <th>B</th>\n",
       "      <th>C</th>\n",
       "      <th>D</th>\n",
       "      <th>E</th>\n",
       "      <th>F</th>\n",
       "    </tr>\n",
       "  </thead>\n",
       "  <tbody>\n",
       "    <tr>\n",
       "      <th>0</th>\n",
       "      <td>1.0</td>\n",
       "      <td>2023-01-01</td>\n",
       "      <td>1.0</td>\n",
       "      <td>3</td>\n",
       "      <td>test</td>\n",
       "      <td>foo</td>\n",
       "    </tr>\n",
       "    <tr>\n",
       "      <th>1</th>\n",
       "      <td>1.0</td>\n",
       "      <td>2023-01-01</td>\n",
       "      <td>1.0</td>\n",
       "      <td>3</td>\n",
       "      <td>train</td>\n",
       "      <td>foo</td>\n",
       "    </tr>\n",
       "    <tr>\n",
       "      <th>2</th>\n",
       "      <td>1.0</td>\n",
       "      <td>2023-01-01</td>\n",
       "      <td>1.0</td>\n",
       "      <td>3</td>\n",
       "      <td>test</td>\n",
       "      <td>foo</td>\n",
       "    </tr>\n",
       "    <tr>\n",
       "      <th>3</th>\n",
       "      <td>1.0</td>\n",
       "      <td>2023-01-01</td>\n",
       "      <td>1.0</td>\n",
       "      <td>3</td>\n",
       "      <td>train</td>\n",
       "      <td>foo</td>\n",
       "    </tr>\n",
       "  </tbody>\n",
       "</table>\n",
       "</div>"
      ],
      "text/plain": [
       "     A          B    C  D      E    F\n",
       "0  1.0 2023-01-01  1.0  3   test  foo\n",
       "1  1.0 2023-01-01  1.0  3  train  foo\n",
       "2  1.0 2023-01-01  1.0  3   test  foo\n",
       "3  1.0 2023-01-01  1.0  3  train  foo"
      ]
     },
     "execution_count": 9,
     "metadata": {},
     "output_type": "execute_result"
    }
   ],
   "source": [
    "df2=pd.DataFrame(\n",
    "    {\n",
    "        \"A\":1.0,\n",
    "        \"B\":pd.Timestamp(\"20230101\"),\n",
    "        \"C\":pd.Series(1,index=list(range(4)),dtype=\"float32\"),\n",
    "        \"D\":np.array([3]*4,dtype=\"int32\"),\n",
    "        \"E\":pd.Categorical([\"test\",\"train\",\"test\",\"train\"]),\n",
    "        \"F\":\"foo\",\n",
    "    }\n",
    ")\n",
    "df2"
   ]
  },
  {
   "cell_type": "code",
   "execution_count": 10,
   "id": "30d59df7-1210-4c4c-8dfb-b7cd014a6cf2",
   "metadata": {},
   "outputs": [
    {
     "data": {
      "text/plain": [
       "A          float64\n",
       "B    datetime64[s]\n",
       "C          float32\n",
       "D            int32\n",
       "E         category\n",
       "F           object\n",
       "dtype: object"
      ]
     },
     "execution_count": 10,
     "metadata": {},
     "output_type": "execute_result"
    }
   ],
   "source": [
    "df2.dtypes"
   ]
  },
  {
   "cell_type": "code",
   "execution_count": 13,
   "id": "52e5c5dc-7052-4b98-8386-c32d7e0cbecf",
   "metadata": {},
   "outputs": [
    {
     "data": {
      "text/html": [
       "<div>\n",
       "<style scoped>\n",
       "    .dataframe tbody tr th:only-of-type {\n",
       "        vertical-align: middle;\n",
       "    }\n",
       "\n",
       "    .dataframe tbody tr th {\n",
       "        vertical-align: top;\n",
       "    }\n",
       "\n",
       "    .dataframe thead th {\n",
       "        text-align: right;\n",
       "    }\n",
       "</style>\n",
       "<table border=\"1\" class=\"dataframe\">\n",
       "  <thead>\n",
       "    <tr style=\"text-align: right;\">\n",
       "      <th></th>\n",
       "      <th>A</th>\n",
       "      <th>B</th>\n",
       "      <th>C</th>\n",
       "      <th>D</th>\n",
       "    </tr>\n",
       "  </thead>\n",
       "  <tbody>\n",
       "    <tr>\n",
       "      <th>2023-01-04</th>\n",
       "      <td>0.351089</td>\n",
       "      <td>0.680196</td>\n",
       "      <td>0.748880</td>\n",
       "      <td>1.157890</td>\n",
       "    </tr>\n",
       "    <tr>\n",
       "      <th>2023-01-05</th>\n",
       "      <td>-0.099159</td>\n",
       "      <td>-0.836093</td>\n",
       "      <td>-0.110251</td>\n",
       "      <td>-2.003612</td>\n",
       "    </tr>\n",
       "    <tr>\n",
       "      <th>2023-01-06</th>\n",
       "      <td>0.122569</td>\n",
       "      <td>-1.238199</td>\n",
       "      <td>0.722888</td>\n",
       "      <td>-0.828614</td>\n",
       "    </tr>\n",
       "  </tbody>\n",
       "</table>\n",
       "</div>"
      ],
      "text/plain": [
       "                   A         B         C         D\n",
       "2023-01-04  0.351089  0.680196  0.748880  1.157890\n",
       "2023-01-05 -0.099159 -0.836093 -0.110251 -2.003612\n",
       "2023-01-06  0.122569 -1.238199  0.722888 -0.828614"
      ]
     },
     "execution_count": 13,
     "metadata": {},
     "output_type": "execute_result"
    }
   ],
   "source": [
    "df.head()\n",
    "df.tail(3)"
   ]
  },
  {
   "cell_type": "code",
   "execution_count": 15,
   "id": "a57714d3-4e16-432e-9362-7039e13de053",
   "metadata": {},
   "outputs": [
    {
     "data": {
      "text/plain": [
       "Index(['A', 'B', 'C', 'D'], dtype='object')"
      ]
     },
     "execution_count": 15,
     "metadata": {},
     "output_type": "execute_result"
    }
   ],
   "source": [
    "df.index\n",
    "df.columns"
   ]
  },
  {
   "cell_type": "code",
   "execution_count": 17,
   "id": "8216e71a-6644-42f0-abc6-0600a8270137",
   "metadata": {},
   "outputs": [
    {
     "data": {
      "text/plain": [
       "array([[-0.99654078,  1.49859502,  1.74350181, -1.20006187],\n",
       "       [ 0.12215977,  0.70967282,  0.75308299,  0.76019058],\n",
       "       [-1.84031744,  1.4501546 ,  1.27635142, -1.66399786],\n",
       "       [ 0.35108903,  0.68019608,  0.74887999,  1.15789   ],\n",
       "       [-0.09915883, -0.83609301, -0.11025109, -2.00361242],\n",
       "       [ 0.12256873, -1.23819861,  0.72288836, -0.82861422]])"
      ]
     },
     "execution_count": 17,
     "metadata": {},
     "output_type": "execute_result"
    }
   ],
   "source": [
    "df.to_numpy()"
   ]
  },
  {
   "cell_type": "code",
   "execution_count": 18,
   "id": "72206ced-19cb-4abb-ad78-e68e1c68e20e",
   "metadata": {},
   "outputs": [
    {
     "data": {
      "text/html": [
       "<div>\n",
       "<style scoped>\n",
       "    .dataframe tbody tr th:only-of-type {\n",
       "        vertical-align: middle;\n",
       "    }\n",
       "\n",
       "    .dataframe tbody tr th {\n",
       "        vertical-align: top;\n",
       "    }\n",
       "\n",
       "    .dataframe thead th {\n",
       "        text-align: right;\n",
       "    }\n",
       "</style>\n",
       "<table border=\"1\" class=\"dataframe\">\n",
       "  <thead>\n",
       "    <tr style=\"text-align: right;\">\n",
       "      <th></th>\n",
       "      <th>A</th>\n",
       "      <th>B</th>\n",
       "      <th>C</th>\n",
       "      <th>D</th>\n",
       "    </tr>\n",
       "  </thead>\n",
       "  <tbody>\n",
       "    <tr>\n",
       "      <th>count</th>\n",
       "      <td>6.000000</td>\n",
       "      <td>6.000000</td>\n",
       "      <td>6.000000</td>\n",
       "      <td>6.000000</td>\n",
       "    </tr>\n",
       "    <tr>\n",
       "      <th>mean</th>\n",
       "      <td>-0.390033</td>\n",
       "      <td>0.377388</td>\n",
       "      <td>0.855742</td>\n",
       "      <td>-0.629701</td>\n",
       "    </tr>\n",
       "    <tr>\n",
       "      <th>std</th>\n",
       "      <td>0.852074</td>\n",
       "      <td>1.156953</td>\n",
       "      <td>0.622540</td>\n",
       "      <td>1.299966</td>\n",
       "    </tr>\n",
       "    <tr>\n",
       "      <th>min</th>\n",
       "      <td>-1.840317</td>\n",
       "      <td>-1.238199</td>\n",
       "      <td>-0.110251</td>\n",
       "      <td>-2.003612</td>\n",
       "    </tr>\n",
       "    <tr>\n",
       "      <th>25%</th>\n",
       "      <td>-0.772195</td>\n",
       "      <td>-0.457021</td>\n",
       "      <td>0.729386</td>\n",
       "      <td>-1.548014</td>\n",
       "    </tr>\n",
       "    <tr>\n",
       "      <th>50%</th>\n",
       "      <td>0.011500</td>\n",
       "      <td>0.694934</td>\n",
       "      <td>0.750981</td>\n",
       "      <td>-1.014338</td>\n",
       "    </tr>\n",
       "    <tr>\n",
       "      <th>75%</th>\n",
       "      <td>0.122466</td>\n",
       "      <td>1.265034</td>\n",
       "      <td>1.145534</td>\n",
       "      <td>0.362989</td>\n",
       "    </tr>\n",
       "    <tr>\n",
       "      <th>max</th>\n",
       "      <td>0.351089</td>\n",
       "      <td>1.498595</td>\n",
       "      <td>1.743502</td>\n",
       "      <td>1.157890</td>\n",
       "    </tr>\n",
       "  </tbody>\n",
       "</table>\n",
       "</div>"
      ],
      "text/plain": [
       "              A         B         C         D\n",
       "count  6.000000  6.000000  6.000000  6.000000\n",
       "mean  -0.390033  0.377388  0.855742 -0.629701\n",
       "std    0.852074  1.156953  0.622540  1.299966\n",
       "min   -1.840317 -1.238199 -0.110251 -2.003612\n",
       "25%   -0.772195 -0.457021  0.729386 -1.548014\n",
       "50%    0.011500  0.694934  0.750981 -1.014338\n",
       "75%    0.122466  1.265034  1.145534  0.362989\n",
       "max    0.351089  1.498595  1.743502  1.157890"
      ]
     },
     "execution_count": 18,
     "metadata": {},
     "output_type": "execute_result"
    }
   ],
   "source": [
    "df.describe()"
   ]
  },
  {
   "cell_type": "code",
   "execution_count": 19,
   "id": "d9a563fc-376d-426b-a79c-68fe4f47a89b",
   "metadata": {},
   "outputs": [
    {
     "data": {
      "text/html": [
       "<div>\n",
       "<style scoped>\n",
       "    .dataframe tbody tr th:only-of-type {\n",
       "        vertical-align: middle;\n",
       "    }\n",
       "\n",
       "    .dataframe tbody tr th {\n",
       "        vertical-align: top;\n",
       "    }\n",
       "\n",
       "    .dataframe thead th {\n",
       "        text-align: right;\n",
       "    }\n",
       "</style>\n",
       "<table border=\"1\" class=\"dataframe\">\n",
       "  <thead>\n",
       "    <tr style=\"text-align: right;\">\n",
       "      <th></th>\n",
       "      <th>2023-01-01</th>\n",
       "      <th>2023-01-02</th>\n",
       "      <th>2023-01-03</th>\n",
       "      <th>2023-01-04</th>\n",
       "      <th>2023-01-05</th>\n",
       "      <th>2023-01-06</th>\n",
       "    </tr>\n",
       "  </thead>\n",
       "  <tbody>\n",
       "    <tr>\n",
       "      <th>A</th>\n",
       "      <td>-0.996541</td>\n",
       "      <td>0.122160</td>\n",
       "      <td>-1.840317</td>\n",
       "      <td>0.351089</td>\n",
       "      <td>-0.099159</td>\n",
       "      <td>0.122569</td>\n",
       "    </tr>\n",
       "    <tr>\n",
       "      <th>B</th>\n",
       "      <td>1.498595</td>\n",
       "      <td>0.709673</td>\n",
       "      <td>1.450155</td>\n",
       "      <td>0.680196</td>\n",
       "      <td>-0.836093</td>\n",
       "      <td>-1.238199</td>\n",
       "    </tr>\n",
       "    <tr>\n",
       "      <th>C</th>\n",
       "      <td>1.743502</td>\n",
       "      <td>0.753083</td>\n",
       "      <td>1.276351</td>\n",
       "      <td>0.748880</td>\n",
       "      <td>-0.110251</td>\n",
       "      <td>0.722888</td>\n",
       "    </tr>\n",
       "    <tr>\n",
       "      <th>D</th>\n",
       "      <td>-1.200062</td>\n",
       "      <td>0.760191</td>\n",
       "      <td>-1.663998</td>\n",
       "      <td>1.157890</td>\n",
       "      <td>-2.003612</td>\n",
       "      <td>-0.828614</td>\n",
       "    </tr>\n",
       "  </tbody>\n",
       "</table>\n",
       "</div>"
      ],
      "text/plain": [
       "   2023-01-01  2023-01-02  2023-01-03  2023-01-04  2023-01-05  2023-01-06\n",
       "A   -0.996541    0.122160   -1.840317    0.351089   -0.099159    0.122569\n",
       "B    1.498595    0.709673    1.450155    0.680196   -0.836093   -1.238199\n",
       "C    1.743502    0.753083    1.276351    0.748880   -0.110251    0.722888\n",
       "D   -1.200062    0.760191   -1.663998    1.157890   -2.003612   -0.828614"
      ]
     },
     "execution_count": 19,
     "metadata": {},
     "output_type": "execute_result"
    }
   ],
   "source": [
    "df.T"
   ]
  },
  {
   "cell_type": "code",
   "execution_count": 21,
   "id": "b6e4e3a3-398e-4cb2-8c5c-6af0ac6f2cb1",
   "metadata": {},
   "outputs": [
    {
     "data": {
      "text/html": [
       "<div>\n",
       "<style scoped>\n",
       "    .dataframe tbody tr th:only-of-type {\n",
       "        vertical-align: middle;\n",
       "    }\n",
       "\n",
       "    .dataframe tbody tr th {\n",
       "        vertical-align: top;\n",
       "    }\n",
       "\n",
       "    .dataframe thead th {\n",
       "        text-align: right;\n",
       "    }\n",
       "</style>\n",
       "<table border=\"1\" class=\"dataframe\">\n",
       "  <thead>\n",
       "    <tr style=\"text-align: right;\">\n",
       "      <th></th>\n",
       "      <th>A</th>\n",
       "      <th>B</th>\n",
       "      <th>C</th>\n",
       "      <th>D</th>\n",
       "    </tr>\n",
       "  </thead>\n",
       "  <tbody>\n",
       "    <tr>\n",
       "      <th>2023-01-06</th>\n",
       "      <td>0.122569</td>\n",
       "      <td>-1.238199</td>\n",
       "      <td>0.722888</td>\n",
       "      <td>-0.828614</td>\n",
       "    </tr>\n",
       "    <tr>\n",
       "      <th>2023-01-05</th>\n",
       "      <td>-0.099159</td>\n",
       "      <td>-0.836093</td>\n",
       "      <td>-0.110251</td>\n",
       "      <td>-2.003612</td>\n",
       "    </tr>\n",
       "    <tr>\n",
       "      <th>2023-01-04</th>\n",
       "      <td>0.351089</td>\n",
       "      <td>0.680196</td>\n",
       "      <td>0.748880</td>\n",
       "      <td>1.157890</td>\n",
       "    </tr>\n",
       "    <tr>\n",
       "      <th>2023-01-02</th>\n",
       "      <td>0.122160</td>\n",
       "      <td>0.709673</td>\n",
       "      <td>0.753083</td>\n",
       "      <td>0.760191</td>\n",
       "    </tr>\n",
       "    <tr>\n",
       "      <th>2023-01-03</th>\n",
       "      <td>-1.840317</td>\n",
       "      <td>1.450155</td>\n",
       "      <td>1.276351</td>\n",
       "      <td>-1.663998</td>\n",
       "    </tr>\n",
       "    <tr>\n",
       "      <th>2023-01-01</th>\n",
       "      <td>-0.996541</td>\n",
       "      <td>1.498595</td>\n",
       "      <td>1.743502</td>\n",
       "      <td>-1.200062</td>\n",
       "    </tr>\n",
       "  </tbody>\n",
       "</table>\n",
       "</div>"
      ],
      "text/plain": [
       "                   A         B         C         D\n",
       "2023-01-06  0.122569 -1.238199  0.722888 -0.828614\n",
       "2023-01-05 -0.099159 -0.836093 -0.110251 -2.003612\n",
       "2023-01-04  0.351089  0.680196  0.748880  1.157890\n",
       "2023-01-02  0.122160  0.709673  0.753083  0.760191\n",
       "2023-01-03 -1.840317  1.450155  1.276351 -1.663998\n",
       "2023-01-01 -0.996541  1.498595  1.743502 -1.200062"
      ]
     },
     "execution_count": 21,
     "metadata": {},
     "output_type": "execute_result"
    }
   ],
   "source": [
    "df.sort_index(axis=1, ascending=False)\n",
    "df.sort_values(by=\"B\")"
   ]
  }
 ],
 "metadata": {
  "kernelspec": {
   "display_name": "Python 3 (ipykernel)",
   "language": "python",
   "name": "python3"
  },
  "language_info": {
   "codemirror_mode": {
    "name": "ipython",
    "version": 3
   },
   "file_extension": ".py",
   "mimetype": "text/x-python",
   "name": "python",
   "nbconvert_exporter": "python",
   "pygments_lexer": "ipython3",
   "version": "3.12.1"
  }
 },
 "nbformat": 4,
 "nbformat_minor": 5
}
