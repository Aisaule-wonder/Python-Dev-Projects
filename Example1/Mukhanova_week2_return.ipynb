{
 "cells": [
  {
   "cell_type": "markdown",
   "id": "f2a80240",
   "metadata": {},
   "source": [
    "1) Напишите функцию на Python, которая принимает два аргумента - целые числа a и b, и возвращает их сумму."
   ]
  },
  {
   "cell_type": "code",
   "execution_count": 2,
   "id": "065e563b",
   "metadata": {},
   "outputs": [
    {
     "name": "stdout",
     "output_type": "stream",
     "text": [
      "Сумма 5 и 10 равна 15\n"
     ]
    }
   ],
   "source": [
    "def сложение(a, b):\n",
    "    сумма = a + b\n",
    "    return сумма\n",
    "число1 = 5\n",
    "число2 = 10\n",
    "результат = сложение(число1, число2)\n",
    "\n",
    "print(f\"Сумма {число1} и {число2} равна {результат}\")"
   ]
  },
  {
   "cell_type": "markdown",
   "id": "ba4d7dd2",
   "metadata": {},
   "source": [
    "2) Напишите функцию на Python, которая принимает строку и возвращает ее в обратном порядке. Подсказки: Для переворота строки можно воспользоваться срезами."
   ]
  },
  {
   "cell_type": "code",
   "execution_count": 18,
   "id": "f324cf16",
   "metadata": {},
   "outputs": [
    {
     "name": "stdout",
     "output_type": "stream",
     "text": [
      "Исходная строка: Всем добрый день!\n",
      "Обратная строка: !ьнед йырбод месВ\n"
     ]
    }
   ],
   "source": [
    "def dif_rows(original_row):\n",
    "    other_row = original_row[::-1]\n",
    "    return other_row\n",
    "row = \"Всем добрый день!\"\n",
    "result = dif_rows(row)\n",
    "\n",
    "print(f\"Исходная строка: {row}\")\n",
    "print(f\"Обратная строка: {result}\")"
   ]
  },
  {
   "cell_type": "markdown",
   "id": "84f55ea8",
   "metadata": {},
   "source": [
    "3) Напишите функцию на Python, которая принимает список целых чисел и возвращает их среднее арифметическое. "
   ]
  },
  {
   "cell_type": "code",
   "execution_count": 12,
   "id": "24b6a56c",
   "metadata": {},
   "outputs": [
    {
     "name": "stdout",
     "output_type": "stream",
     "text": [
      "Среднее арифметическое чисел [1, 2, 3, 4, 5]: 3.0\n"
     ]
    }
   ],
   "source": [
    "def average(список_чисел):\n",
    "    if not список_чисел:\n",
    "        return None\n",
    "    sum_number = sum(список_чисел)\n",
    "    tolal_number = len(список_чисел)\n",
    "    среднее = sum_number / tolal_number\n",
    "    return среднее\n",
    "numbers = [1, 2, 3, 4, 5]\n",
    "result = average(числа)\n",
    "\n",
    "print(f\"Среднее арифметическое чисел {numbers}: {result}\")"
   ]
  },
  {
   "cell_type": "markdown",
   "id": "4619fb7c",
   "metadata": {},
   "source": [
    "4) Напишите функцию на Python, которая принимает список строк и возвращает новый список, в котором все строки написаны в верхнем регистре.  Подсказка: Для преобразования списка строк в верхний регистр можно воспользоваться методом upper() для каждой строки в списке."
   ]
  },
  {
   "cell_type": "code",
   "execution_count": 14,
   "id": "1442499d",
   "metadata": {},
   "outputs": [
    {
     "name": "stdout",
     "output_type": "stream",
     "text": [
      "Исходные строки: ['Привет', 'Мир', 'Python']\n",
      "Строки в верхнем регистре: ['ПРИВЕТ', 'МИР', 'PYTHON']\n"
     ]
    }
   ],
   "source": [
    "def rows_upper(list_rows):\n",
    "    upper_register = [строка.upper() for строка in list_rows]\n",
    "    return upper_register\n",
    "\n",
    "rows = [\"Привет\", \"Мир\", \"Python\"]\n",
    "результат = rows_upper(rows)\n",
    "\n",
    "print(f\"Исходные строки: {rows}\")\n",
    "print(f\"Строки в верхнем регистре: {результат}\")"
   ]
  },
  {
   "cell_type": "markdown",
   "id": "e297d5e2",
   "metadata": {},
   "source": [
    "5) Напишите функцию на Python, которая принимает строку и символ, и возвращает количество вхождений символа в строку.  Подсказка: Для подсчета количества вхождений символа в строку можно воспользоваться методом count() для строки."
   ]
  },
  {
   "cell_type": "code",
   "execution_count": 13,
   "id": "2e8e766c",
   "metadata": {},
   "outputs": [
    {
     "name": "stdout",
     "output_type": "stream",
     "text": [
      "Исходная строка: programming is fun\n",
      "Количество вхождений символа 'm': 2\n"
     ]
    }
   ],
   "source": [
    "def number_into(строка, символ):\n",
    "    count = строка.count(символ)\n",
    "    return count\n",
    "\n",
    "исходная_строка = \"programming is fun\"\n",
    "искомый_символ = \"m\"\n",
    "result = number_into(исходная_строка, искомый_символ)\n",
    "\n",
    "print(f\"Исходная строка: {исходная_строка}\")\n",
    "print(f\"Количество вхождений символа '{искомый_символ}': {result}\")"
   ]
  }
 ],
 "metadata": {
  "kernelspec": {
   "display_name": "Python 3 (ipykernel)",
   "language": "python",
   "name": "python3"
  },
  "language_info": {
   "codemirror_mode": {
    "name": "ipython",
    "version": 3
   },
   "file_extension": ".py",
   "mimetype": "text/x-python",
   "name": "python",
   "nbconvert_exporter": "python",
   "pygments_lexer": "ipython3",
   "version": "3.12.1"
  }
 },
 "nbformat": 4,
 "nbformat_minor": 5
}
