{
 "cells": [
  {
   "cell_type": "code",
   "execution_count": 2,
   "id": "08ab4b65-bf41-4aef-8c4b-ff8ccfae9f88",
   "metadata": {},
   "outputs": [],
   "source": [
    "import numpy as np\n",
    "import pandas as pd"
   ]
  },
  {
   "cell_type": "code",
   "execution_count": 11,
   "id": "8b4d5773-4a6b-434b-8286-ea8eee70e6b4",
   "metadata": {},
   "outputs": [
    {
     "ename": "SyntaxError",
     "evalue": "invalid syntax (3611663556.py, line 4)",
     "output_type": "error",
     "traceback": [
      "\u001b[1;36m  Cell \u001b[1;32mIn[11], line 4\u001b[1;36m\u001b[0m\n\u001b[1;33m    0 1.0\u001b[0m\n\u001b[1;37m      ^\u001b[0m\n\u001b[1;31mSyntaxError\u001b[0m\u001b[1;31m:\u001b[0m invalid syntax\n"
     ]
    }
   ],
   "source": [
    "In [3]: s = pd.Series([1, 3, 5, np.nan, 6, 8])\n",
    "In [4]: s\n",
    "Out[4]: s\n",
    "0 1.0\n",
    "1 3.0\n",
    "2 5.0\n",
    "3 NaN\n",
    "4 6.0\n",
    "5 8.0\n",
    "dtype: float64"
   ]
  },
  {
   "cell_type": "code",
   "execution_count": 19,
   "id": "220c120e-5a8f-43d8-8896-3232be874a83",
   "metadata": {},
   "outputs": [
    {
     "ename": "SyntaxError",
     "evalue": "leading zeros in decimal integer literals are not permitted; use an 0o prefix for octal integers (934448646.py, line 11)",
     "output_type": "error",
     "traceback": [
      "\u001b[1;36m  Cell \u001b[1;32mIn[19], line 11\u001b[1;36m\u001b[0m\n\u001b[1;33m    2013-01-01  0.469112 -0.282863 -1.509059 -1.135632\u001b[0m\n\u001b[1;37m         ^\u001b[0m\n\u001b[1;31mSyntaxError\u001b[0m\u001b[1;31m:\u001b[0m leading zeros in decimal integer literals are not permitted; use an 0o prefix for octal integers\n"
     ]
    }
   ],
   "source": [
    "In [5]: dates = pd.date_range(\"20130101\", periods=6)\n",
    "In [6]: dates\n",
    "Out[6]: \n",
    "DatetimeIndex(['2013-01-01', '2013-01-02', '2013-01-03', '2013-01-04',\n",
    "               '2013-01-05', '2013-01-06'],\n",
    "              dtype='datetime64[ns]', freq='D')\n",
    "In [7]: df = pd.DataFrame(np.random.randn(6,4), index=dates, columns=list(\"ABCD\"))\n",
    "In [8]: df\n",
    "Out[8]: \n",
    "                   A         B         C         D\n",
    "2013-01-01  0.469112 -0.282863 -1.509059 -1.135632\n",
    "2013-01-02  1.212112 -0.173215  0.119209 -1.044236\n",
    "2013-01-03 -0.861849 -2.104569 -0.494929  1.071804\n",
    "2013-01-04  0.721555 -0.706771 -1.039575  0.271860\n",
    "2013-01-05 -0.424972  0.567020  0.276232 -1.087401\n",
    "2013-01-06 -0.673690  0.113648 -1.478427  0.524988"
   ]
  },
  {
   "cell_type": "code",
   "execution_count": 20,
   "id": "4b2d9214-ef2f-4a96-83a7-0c3f9b3a7c58",
   "metadata": {},
   "outputs": [
    {
     "ename": "SyntaxError",
     "evalue": "leading zeros in decimal integer literals are not permitted; use an 0o prefix for octal integers (1305018004.py, line 16)",
     "output_type": "error",
     "traceback": [
      "\u001b[1;36m  Cell \u001b[1;32mIn[20], line 16\u001b[1;36m\u001b[0m\n\u001b[1;33m    0  1.0 2013-01-02  1.0  3   test  foo\u001b[0m\n\u001b[1;37m                ^\u001b[0m\n\u001b[1;31mSyntaxError\u001b[0m\u001b[1;31m:\u001b[0m leading zeros in decimal integer literals are not permitted; use an 0o prefix for octal integers\n"
     ]
    }
   ],
   "source": [
    "In [9]: df2 = pd.DataFrame(\n",
    "   ...:     {\n",
    "   ...:         \"A\": 1.0,\n",
    "   ...:         \"B\": pd.Timestamp(\"20130102\"),\n",
    "   ...:         \"C\": pd.Series(1, index=list(range(4)), dtype=\"float32\"),\n",
    "   ...:         \"D\": np.array([3] * 4, dtype=\"int32\"),\n",
    "   ...:         \"E\": pd.Categorical([\"test\", \"train\", \"test\", \"train\"]),\n",
    "   ...:         \"F\": \"foo\",\n",
    "   ...:     }\n",
    "   ...: )\n",
    "   ...: \n",
    "\n",
    "In [10]: df2\n",
    "Out[10]: \n",
    "     A          B    C  D      E    F\n",
    "0  1.0 2013-01-02  1.0  3   test  foo\n",
    "1  1.0 2013-01-02  1.0  3  train  foo\n",
    "2  1.0 2013-01-02  1.0  3   test  foo\n",
    "3  1.0 2013-01-02  1.0  3  train  foo"
   ]
  },
  {
   "cell_type": "code",
   "execution_count": 22,
   "id": "e4c7dc6e-4da0-4213-b28c-c9c06e023ad5",
   "metadata": {},
   "outputs": [
    {
     "ename": "SyntaxError",
     "evalue": "invalid syntax (1712563266.py, line 2)",
     "output_type": "error",
     "traceback": [
      "\u001b[1;36m  Cell \u001b[1;32mIn[22], line 2\u001b[1;36m\u001b[0m\n\u001b[1;33m    Out[11]:\u001b[0m\n\u001b[1;37m            ^\u001b[0m\n\u001b[1;31mSyntaxError\u001b[0m\u001b[1;31m:\u001b[0m invalid syntax\n"
     ]
    }
   ],
   "source": [
    "In [11]: df2.dtypes\n",
    "Out[11]:\n",
    "A          float64\n",
    "B    datetime64[s]\n",
    "C          float32\n",
    "D            int32\n",
    "E         category\n",
    "F           object\n",
    "dtype: object"
   ]
  },
  {
   "cell_type": "code",
   "execution_count": 23,
   "id": "0fb1f6b9-bef2-476b-bf71-b04c430d9916",
   "metadata": {},
   "outputs": [
    {
     "ename": "SyntaxError",
     "evalue": "invalid syntax (1762194943.py, line 1)",
     "output_type": "error",
     "traceback": [
      "\u001b[1;36m  Cell \u001b[1;32mIn[23], line 1\u001b[1;36m\u001b[0m\n\u001b[1;33m    df2.<TAB>  # noqa: E225, E999\u001b[0m\n\u001b[1;37m        ^\u001b[0m\n\u001b[1;31mSyntaxError\u001b[0m\u001b[1;31m:\u001b[0m invalid syntax\n"
     ]
    }
   ],
   "source": [
    "In [12]: df2.<TAB>  # noqa: E225, E999\n",
    "df2.A                  df2.bool\n",
    "df2.abs                df2.boxplot\n",
    "df2.add                df2.C\n",
    "df2.add_prefix         df2.clip\n",
    "df2.add_suffix         df2.columns\n",
    "df2.align              df2.copy\n",
    "df2.all                df2.count\n",
    "df2.any                df2.combine\n",
    "df2.append             df2.D\n",
    "df2.apply              df2.describe\n",
    "df2.applymap           df2.diff\n",
    "df2.B                  df2.duplicated"
   ]
  },
  {
   "cell_type": "code",
   "execution_count": 26,
   "id": "47bda471-f446-41e5-8db7-e9622535b2a1",
   "metadata": {},
   "outputs": [
    {
     "name": "stdout",
     "output_type": "stream",
     "text": [
      "                   A         B         C         D\n",
      "2013-01-01  0.469112 -0.282863 -1.509059 -1.135632\n",
      "2013-01-02  1.212112 -0.173215  0.119209 -1.044236\n",
      "2013-01-03 -0.861849 -2.104569 -0.494929  1.071804\n",
      "2013-01-04  0.721555 -0.706771 -1.039575  0.271860\n",
      "2013-01-05 -0.424972  0.567020  0.276232 -1.087401\n"
     ]
    }
   ],
   "source": [
    "import pandas as pd\n",
    "from datetime import datetime\n",
    "\n",
    "date_str = '2013-01-01'\n",
    "formatted_date = datetime.strptime(date_str, '%Y-%m-%d')\n",
    "\n",
    "# Creating a DataFrame with a valid date\n",
    "df = pd.DataFrame({\n",
    "    'A': [0.469112, 1.212112, -0.861849, 0.721555, -0.424972],\n",
    "    'B': [-0.282863, -0.173215, -2.104569, -0.706771, 0.567020],\n",
    "    'C': [-1.509059, 0.119209, -0.494929, -1.039575, 0.276232],\n",
    "    'D': [-1.135632, -1.044236, 1.071804, 0.271860, -1.087401]\n",
    "}, index=[formatted_date, formatted_date + pd.DateOffset(days=1), formatted_date + pd.DateOffset(days=2), formatted_date + pd.DateOffset(days=3), formatted_date + pd.DateOffset(days=4)])\n",
    "\n",
    "# Displaying the DataFrame\n",
    "print(df)"
   ]
  },
  {
   "cell_type": "code",
   "execution_count": 29,
   "id": "714781bf-e5e2-484c-93be-209782c472d9",
   "metadata": {},
   "outputs": [
    {
     "name": "stdout",
     "output_type": "stream",
     "text": [
      "DatetimeIndex(['2013-01-01', '2013-01-02', '2013-01-03', '2013-01-04',\n",
      "               '2013-01-05', '2013-01-06'],\n",
      "              dtype='datetime64[ns]', freq='D')\n"
     ]
    }
   ],
   "source": [
    "import pandas as pd\n",
    "\n",
    "date_strings = ['2013-01-01', '2013-01-02', '2013-01-03', '2013-01-04', '2013-01-05', '2013-01-06']\n",
    "date_index = pd.DatetimeIndex(date_strings, freq='D')\n",
    "\n",
    "# Displaying the DatetimeIndex\n",
    "print(date_index)"
   ]
  }
 ],
 "metadata": {
  "kernelspec": {
   "display_name": "Python 3 (ipykernel)",
   "language": "python",
   "name": "python3"
  },
  "language_info": {
   "codemirror_mode": {
    "name": "ipython",
    "version": 3
   },
   "file_extension": ".py",
   "mimetype": "text/x-python",
   "name": "python",
   "nbconvert_exporter": "python",
   "pygments_lexer": "ipython3",
   "version": "3.12.1"
  }
 },
 "nbformat": 4,
 "nbformat_minor": 5
}
