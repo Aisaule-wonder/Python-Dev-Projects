{
 "cells": [
  {
   "cell_type": "markdown",
   "metadata": {},
   "source": [
    "### Import Pandas"
   ]
  },
  {
   "cell_type": "code",
   "execution_count": 1,
   "metadata": {},
   "outputs": [],
   "source": [
    "import pandas as pd"
   ]
  },
  {
   "cell_type": "code",
   "execution_count": 3,
   "metadata": {},
   "outputs": [
    {
     "name": "stdout",
     "output_type": "stream",
     "text": [
      "Collecting openpyxl\n",
      "  Downloading openpyxl-3.1.2-py2.py3-none-any.whl (249 kB)\n",
      "     ---------------------------------------- 0.0/250.0 kB ? eta -:--:--\n",
      "     - -------------------------------------- 10.2/250.0 kB ? eta -:--:--\n",
      "     - -------------------------------------- 10.2/250.0 kB ? eta -:--:--\n",
      "     ---- -------------------------------- 30.7/250.0 kB 262.6 kB/s eta 0:00:01\n",
      "     --------- --------------------------- 61.4/250.0 kB 363.1 kB/s eta 0:00:01\n",
      "     ---------------- ------------------- 112.6/250.0 kB 544.7 kB/s eta 0:00:01\n",
      "     ----------------------- ------------ 163.8/250.0 kB 653.6 kB/s eta 0:00:01\n",
      "     -------------------------------- --- 225.3/250.0 kB 765.3 kB/s eta 0:00:01\n",
      "     ------------------------------------ 250.0/250.0 kB 807.2 kB/s eta 0:00:00\n",
      "Collecting et-xmlfile (from openpyxl)\n",
      "  Downloading et_xmlfile-1.1.0-py3-none-any.whl (4.7 kB)\n",
      "Installing collected packages: et-xmlfile, openpyxl\n",
      "Successfully installed et-xmlfile-1.1.0 openpyxl-3.1.2\n",
      "Note: you may need to restart the kernel to use updated packages.\n"
     ]
    }
   ],
   "source": [
    "pip install openpyxl"
   ]
  },
  {
   "cell_type": "markdown",
   "metadata": {},
   "source": [
    "### Создаем Series"
   ]
  },
  {
   "cell_type": "code",
   "execution_count": 5,
   "metadata": {},
   "outputs": [
    {
     "data": {
      "text/plain": [
       "Abbreviation\n",
       "UT              Utah\n",
       "ID             Idaho\n",
       "ND      North Dakota\n",
       "TX             Texas\n",
       "NV            Nevada\n",
       "CO          Colorado\n",
       "WA        Washington\n",
       "FL           Florida\n",
       "AZ           Arizona\n",
       "GA           Georgia\n",
       "OR            Oregon\n",
       "SC    South Carolina\n",
       "DE          Delaware\n",
       "MT           Montana\n",
       "NC    North Carolina\n",
       "SD      South Dakota\n",
       "TN         Tennessee\n",
       "VA          Virginia\n",
       "MN         Minnesota\n",
       "MA     Massachusetts\n",
       "NE          Nebraska\n",
       "HI            Hawaii\n",
       "MD          Maryland\n",
       "CA        California\n",
       "NJ        New Jersey\n",
       "OK          Oklahoma\n",
       "AL           Alabama\n",
       "IA              Iowa\n",
       "IN           Indiana\n",
       "NH     New Hampshire\n",
       "NY          New York\n",
       "RI      Rhode Island\n",
       "KY          Kentucky\n",
       "WI         Wisconsin\n",
       "WV     West Virginia\n",
       "AR          Arkansas\n",
       "AK            Alaska\n",
       "KS            Kansas\n",
       "LA         Louisiana\n",
       "MO          Missouri\n",
       "NM        New Mexico\n",
       "VT           Vermont\n",
       "ME             Maine\n",
       "PA      Pennsylvania\n",
       "WY           Wyoming\n",
       "OH              Ohio\n",
       "MI          Michigan\n",
       "CT       Connecticut\n",
       "MS       Mississippi\n",
       "IL          Illinois\n",
       "Name: State, dtype: object"
      ]
     },
     "execution_count": 5,
     "metadata": {},
     "output_type": "execute_result"
    }
   ],
   "source": [
    "states = pd.read_excel('states2.xlsx', \n",
    "                     usecols=['Abbreviation','State'],\n",
    "                     index_col=0).squeeze()\n",
    "\n",
    "states"
   ]
  },
  {
   "cell_type": "markdown",
   "metadata": {},
   "source": [
    "### `sort_index()` и  `sort_values()` - сортировка по индексу и значениям"
   ]
  },
  {
   "cell_type": "code",
   "execution_count": 6,
   "metadata": {},
   "outputs": [
    {
     "data": {
      "text/plain": [
       "Abbreviation\n",
       "AK            Alaska\n",
       "AL           Alabama\n",
       "AR          Arkansas\n",
       "AZ           Arizona\n",
       "CA        California\n",
       "CO          Colorado\n",
       "CT       Connecticut\n",
       "DE          Delaware\n",
       "FL           Florida\n",
       "GA           Georgia\n",
       "HI            Hawaii\n",
       "IA              Iowa\n",
       "ID             Idaho\n",
       "IL          Illinois\n",
       "IN           Indiana\n",
       "KS            Kansas\n",
       "KY          Kentucky\n",
       "LA         Louisiana\n",
       "MA     Massachusetts\n",
       "MD          Maryland\n",
       "ME             Maine\n",
       "MI          Michigan\n",
       "MN         Minnesota\n",
       "MO          Missouri\n",
       "MS       Mississippi\n",
       "MT           Montana\n",
       "NC    North Carolina\n",
       "ND      North Dakota\n",
       "NE          Nebraska\n",
       "NH     New Hampshire\n",
       "NJ        New Jersey\n",
       "NM        New Mexico\n",
       "NV            Nevada\n",
       "NY          New York\n",
       "OH              Ohio\n",
       "OK          Oklahoma\n",
       "OR            Oregon\n",
       "PA      Pennsylvania\n",
       "RI      Rhode Island\n",
       "SC    South Carolina\n",
       "SD      South Dakota\n",
       "TN         Tennessee\n",
       "TX             Texas\n",
       "UT              Utah\n",
       "VA          Virginia\n",
       "VT           Vermont\n",
       "WA        Washington\n",
       "WI         Wisconsin\n",
       "WV     West Virginia\n",
       "WY           Wyoming\n",
       "Name: State, dtype: object"
      ]
     },
     "execution_count": 6,
     "metadata": {},
     "output_type": "execute_result"
    }
   ],
   "source": [
    "# cортируем по индексу разово, не меняя series \n",
    "states.sort_index()"
   ]
  },
  {
   "cell_type": "code",
   "execution_count": 7,
   "metadata": {},
   "outputs": [
    {
     "data": {
      "text/plain": [
       "Abbreviation\n",
       "UT              Utah\n",
       "ID             Idaho\n",
       "ND      North Dakota\n",
       "TX             Texas\n",
       "NV            Nevada\n",
       "CO          Colorado\n",
       "WA        Washington\n",
       "FL           Florida\n",
       "AZ           Arizona\n",
       "GA           Georgia\n",
       "OR            Oregon\n",
       "SC    South Carolina\n",
       "DE          Delaware\n",
       "MT           Montana\n",
       "NC    North Carolina\n",
       "SD      South Dakota\n",
       "TN         Tennessee\n",
       "VA          Virginia\n",
       "MN         Minnesota\n",
       "MA     Massachusetts\n",
       "NE          Nebraska\n",
       "HI            Hawaii\n",
       "MD          Maryland\n",
       "CA        California\n",
       "NJ        New Jersey\n",
       "OK          Oklahoma\n",
       "AL           Alabama\n",
       "IA              Iowa\n",
       "IN           Indiana\n",
       "NH     New Hampshire\n",
       "NY          New York\n",
       "RI      Rhode Island\n",
       "KY          Kentucky\n",
       "WI         Wisconsin\n",
       "WV     West Virginia\n",
       "AR          Arkansas\n",
       "AK            Alaska\n",
       "KS            Kansas\n",
       "LA         Louisiana\n",
       "MO          Missouri\n",
       "NM        New Mexico\n",
       "VT           Vermont\n",
       "ME             Maine\n",
       "PA      Pennsylvania\n",
       "WY           Wyoming\n",
       "OH              Ohio\n",
       "MI          Michigan\n",
       "CT       Connecticut\n",
       "MS       Mississippi\n",
       "IL          Illinois\n",
       "Name: State, dtype: object"
      ]
     },
     "execution_count": 7,
     "metadata": {},
     "output_type": "execute_result"
    }
   ],
   "source": [
    "states"
   ]
  },
  {
   "cell_type": "code",
   "execution_count": 13,
   "metadata": {},
   "outputs": [],
   "source": [
    "# cортируем по индексу и сохраняем, меняя series \n",
    "states.sort_index(inplace=True)"
   ]
  },
  {
   "cell_type": "code",
   "execution_count": 14,
   "metadata": {},
   "outputs": [
    {
     "data": {
      "text/plain": [
       "Abbreviation\n",
       "AK            Alaska\n",
       "AL           Alabama\n",
       "AR          Arkansas\n",
       "AZ           Arizona\n",
       "CA        California\n",
       "CO          Colorado\n",
       "CT       Connecticut\n",
       "DE          Delaware\n",
       "FL           Florida\n",
       "GA           Georgia\n",
       "HI            Hawaii\n",
       "IA              Iowa\n",
       "ID             Idaho\n",
       "IL          Illinois\n",
       "IN           Indiana\n",
       "KS            Kansas\n",
       "KY          Kentucky\n",
       "LA         Louisiana\n",
       "MA     Massachusetts\n",
       "MD          Maryland\n",
       "ME             Maine\n",
       "MI          Michigan\n",
       "MN         Minnesota\n",
       "MO          Missouri\n",
       "MS       Mississippi\n",
       "MT           Montana\n",
       "NC    North Carolina\n",
       "ND      North Dakota\n",
       "NE          Nebraska\n",
       "NH     New Hampshire\n",
       "NJ        New Jersey\n",
       "NM        New Mexico\n",
       "NV            Nevada\n",
       "NY          New York\n",
       "OH              Ohio\n",
       "OK          Oklahoma\n",
       "OR            Oregon\n",
       "PA      Pennsylvania\n",
       "RI      Rhode Island\n",
       "SC    South Carolina\n",
       "SD      South Dakota\n",
       "TN         Tennessee\n",
       "TX             Texas\n",
       "UT              Utah\n",
       "VA          Virginia\n",
       "VT           Vermont\n",
       "WA        Washington\n",
       "WI         Wisconsin\n",
       "WV     West Virginia\n",
       "WY           Wyoming\n",
       "Name: State, dtype: object"
      ]
     },
     "execution_count": 14,
     "metadata": {},
     "output_type": "execute_result"
    }
   ],
   "source": [
    "states"
   ]
  },
  {
   "cell_type": "code",
   "execution_count": 17,
   "metadata": {
    "scrolled": true
   },
   "outputs": [
    {
     "data": {
      "text/plain": [
       "Abbreviation\n",
       "WY          Wyoming\n",
       "WI        Wisconsin\n",
       "WV    West Virginia\n",
       "WA       Washington\n",
       "VA         Virginia\n",
       "Name: State, dtype: object"
      ]
     },
     "execution_count": 17,
     "metadata": {},
     "output_type": "execute_result"
    }
   ],
   "source": [
    "# cортируем по значениям\n",
    "states.sort_values(ascending=False).head()"
   ]
  },
  {
   "cell_type": "markdown",
   "metadata": {},
   "source": [
    "### `get()` метод"
   ]
  },
  {
   "cell_type": "code",
   "execution_count": 23,
   "metadata": {},
   "outputs": [
    {
     "name": "stderr",
     "output_type": "stream",
     "text": [
      "C:\\Users\\amukh\\AppData\\Local\\Temp\\ipykernel_23452\\4155007091.py:2: FutureWarning: Series.__getitem__ treating keys as positions is deprecated. In a future version, integer keys will always be treated as labels (consistent with DataFrame behavior). To access a value by position, use `ser.iloc[pos]`\n",
      "  states.get(0)\n"
     ]
    },
    {
     "data": {
      "text/plain": [
       "'Alaska'"
      ]
     },
     "execution_count": 23,
     "metadata": {},
     "output_type": "execute_result"
    }
   ],
   "source": [
    "#get() по индексу\n",
    "states.get(0)"
   ]
  },
  {
   "cell_type": "code",
   "execution_count": 24,
   "metadata": {},
   "outputs": [
    {
     "data": {
      "text/plain": [
       "'Alaska'"
      ]
     },
     "execution_count": 24,
     "metadata": {},
     "output_type": "execute_result"
    }
   ],
   "source": [
    "#get() по label\n",
    "states.get(\"AK\")"
   ]
  },
  {
   "cell_type": "code",
   "execution_count": 26,
   "metadata": {},
   "outputs": [
    {
     "name": "stdout",
     "output_type": "stream",
     "text": [
      "None\n"
     ]
    }
   ],
   "source": [
    "#get() по индексу который не существует - ничего, то есть None по умолчанию\n",
    "print(states.get(\"BBB\"))"
   ]
  },
  {
   "cell_type": "code",
   "execution_count": 28,
   "metadata": {},
   "outputs": [
    {
     "data": {
      "text/plain": [
       "'index not exists'"
      ]
     },
     "execution_count": 28,
     "metadata": {},
     "output_type": "execute_result"
    }
   ],
   "source": [
    "# вы можете изменить значение по умолчанию на что-то другое\n",
    "states.get(\"BBB\",default = \"index not exists\")"
   ]
  },
  {
   "cell_type": "markdown",
   "metadata": {},
   "source": [
    "### математические методы"
   ]
  },
  {
   "cell_type": "code",
   "execution_count": 3,
   "metadata": {},
   "outputs": [],
   "source": [
    "import pandas as pd"
   ]
  },
  {
   "cell_type": "code",
   "execution_count": 4,
   "metadata": {},
   "outputs": [
    {
     "data": {
      "text/plain": [
       "0       41.0510\n",
       "1       22.9107\n",
       "2       11.5997\n",
       "3      114.6318\n",
       "4       29.0162\n",
       "5       57.1450\n",
       "6      118.8971\n",
       "7      411.8520\n",
       "8       64.2939\n",
       "9      189.8138\n",
       "10      44.9899\n",
       "11     173.5484\n",
       "12     517.3679\n",
       "13       7.5796\n",
       "14     218.4411\n",
       "15      11.8870\n",
       "16     170.3356\n",
       "17     221.7642\n",
       "18      72.6765\n",
       "19     913.6378\n",
       "20      25.8843\n",
       "21     229.5290\n",
       "22     644.6851\n",
       "23     256.7424\n",
       "24    1276.6405\n",
       "25      58.3272\n",
       "26     100.1715\n",
       "27      57.6324\n",
       "28     191.0868\n",
       "29     155.2263\n",
       "30     432.1580\n",
       "31    1069.9623\n",
       "32     114.9554\n",
       "33     109.5879\n",
       "34      74.1268\n",
       "35      58.2425\n",
       "36       1.2933\n",
       "37      36.1408\n",
       "38     108.3842\n",
       "39      90.0194\n",
       "40      17.5534\n",
       "41      70.1470\n",
       "42      44.3912\n",
       "43     291.9510\n",
       "44       5.9685\n",
       "45     290.0574\n",
       "46     178.9220\n",
       "47     746.0376\n",
       "48      63.0837\n",
       "49     230.7117\n",
       "Name: density, dtype: float64"
      ]
     },
     "execution_count": 4,
     "metadata": {},
     "output_type": "execute_result"
    }
   ],
   "source": [
    "#данные по населению\n",
    "density = pd.read_excel('states2.xlsx', usecols=['density']).squeeze()\n",
    "density"
   ]
  },
  {
   "cell_type": "code",
   "execution_count": 27,
   "metadata": {},
   "outputs": [
    {
     "data": {
      "text/plain": [
       "50"
      ]
     },
     "execution_count": 27,
     "metadata": {},
     "output_type": "execute_result"
    }
   ],
   "source": [
    "#len() возвращает кол-во строк, включая нули\n",
    "len(density)"
   ]
  },
  {
   "cell_type": "code",
   "execution_count": 28,
   "metadata": {},
   "outputs": [
    {
     "data": {
      "text/plain": [
       "50"
      ]
     },
     "execution_count": 28,
     "metadata": {},
     "output_type": "execute_result"
    }
   ],
   "source": [
    "#count() возвращает кол-во строк, исключая нули\n",
    "density.count()"
   ]
  },
  {
   "cell_type": "code",
   "execution_count": 7,
   "metadata": {},
   "outputs": [
    {
     "name": "stdout",
     "output_type": "stream",
     "text": [
      "1.2933 1276.6405\n"
     ]
    }
   ],
   "source": [
    "#минимум и максимум\n",
    "print(density.min(),density.max())"
   ]
  },
  {
   "cell_type": "code",
   "execution_count": 8,
   "metadata": {},
   "outputs": [
    {
     "name": "stdout",
     "output_type": "stream",
     "text": [
      "36 24\n"
     ]
    }
   ],
   "source": [
    "#индексы значений, которые являются минимумом и максимумом\n",
    "print(density.idxmin(),density.idxmax())"
   ]
  },
  {
   "cell_type": "code",
   "execution_count": 9,
   "metadata": {},
   "outputs": [
    {
     "data": {
      "text/plain": [
       "1.2933"
      ]
     },
     "execution_count": 9,
     "metadata": {},
     "output_type": "execute_result"
    }
   ],
   "source": [
    "#двух зайцев сразу\n",
    "density[density.idxmin()]"
   ]
  },
  {
   "cell_type": "code",
   "execution_count": 10,
   "metadata": {
    "scrolled": true
   },
   "outputs": [
    {
     "data": {
      "text/plain": [
       "208.86117599999997"
      ]
     },
     "execution_count": 10,
     "metadata": {},
     "output_type": "execute_result"
    }
   ],
   "source": [
    "#среднее\n",
    "density.mean()"
   ]
  },
  {
   "cell_type": "code",
   "execution_count": 11,
   "metadata": {},
   "outputs": [
    {
     "data": {
      "text/plain": [
       "277.7318898084152"
      ]
     },
     "execution_count": 11,
     "metadata": {},
     "output_type": "execute_result"
    }
   ],
   "source": [
    "#стандартное отклонение\n",
    "density.std()"
   ]
  },
  {
   "cell_type": "code",
   "execution_count": 12,
   "metadata": {},
   "outputs": [
    {
     "data": {
      "text/plain": [
       "108.98605"
      ]
     },
     "execution_count": 12,
     "metadata": {},
     "output_type": "execute_result"
    }
   ],
   "source": [
    "#медиана\n",
    "density.median()"
   ]
  },
  {
   "cell_type": "code",
   "execution_count": 17,
   "metadata": {},
   "outputs": [
    {
     "data": {
      "text/plain": [
       "0    7\n",
       "dtype: int64"
      ]
     },
     "execution_count": 17,
     "metadata": {},
     "output_type": "execute_result"
    }
   ],
   "source": [
    "#мода\n",
    "#density.mode()\n",
    "s = pd.Series([1,2,3,4,5,6,7,7,7])\n",
    "s.mode()"
   ]
  },
  {
   "cell_type": "code",
   "execution_count": 18,
   "metadata": {},
   "outputs": [
    {
     "data": {
      "text/plain": [
       "count      50.000000\n",
       "mean      208.861176\n",
       "std       277.731890\n",
       "min         1.293300\n",
       "25%        48.028675\n",
       "50%       108.986050\n",
       "75%       227.587800\n",
       "max      1276.640500\n",
       "Name: density, dtype: float64"
      ]
     },
     "execution_count": 18,
     "metadata": {},
     "output_type": "execute_result"
    }
   ],
   "source": [
    "#describe()\n",
    "density.describe()"
   ]
  },
  {
   "cell_type": "code",
   "execution_count": 21,
   "metadata": {},
   "outputs": [
    {
     "data": {
      "text/plain": [
       "0    1\n",
       "1    2\n",
       "2    3\n",
       "3    4\n",
       "4    5\n",
       "5    6\n",
       "6    7\n",
       "7    7\n",
       "8    7\n",
       "dtype: int64"
      ]
     },
     "execution_count": 21,
     "metadata": {},
     "output_type": "execute_result"
    }
   ],
   "source": [
    "#абсолютное значение\n",
    "#density.abs()\n",
    "s = pd.Series([-1,-2,-3,-4,-5,-6,-7,7,7])\n",
    "s.abs()"
   ]
  },
  {
   "cell_type": "code",
   "execution_count": 22,
   "metadata": {},
   "outputs": [
    {
     "data": {
      "text/plain": [
       "0     41.0510\n",
       "1     22.9107\n",
       "2     11.5997\n",
       "3    114.6318\n",
       "4     29.0162\n",
       "Name: density, dtype: float64"
      ]
     },
     "execution_count": 22,
     "metadata": {},
     "output_type": "execute_result"
    }
   ],
   "source": [
    "density.head()"
   ]
  },
  {
   "cell_type": "code",
   "execution_count": 23,
   "metadata": {},
   "outputs": [
    {
     "data": {
      "text/plain": [
       "0    141.0510\n",
       "1    122.9107\n",
       "2    111.5997\n",
       "3    214.6318\n",
       "4    129.0162\n",
       "Name: density, dtype: float64"
      ]
     },
     "execution_count": 23,
     "metadata": {},
     "output_type": "execute_result"
    }
   ],
   "source": [
    "#add() прибавляет число к каждому элементу серии\n",
    "density.add(100).head()"
   ]
  },
  {
   "cell_type": "code",
   "execution_count": 24,
   "metadata": {
    "scrolled": true
   },
   "outputs": [
    {
     "data": {
      "text/plain": [
       "0     31.0510\n",
       "1     12.9107\n",
       "2      1.5997\n",
       "3    104.6318\n",
       "4     19.0162\n",
       "Name: density, dtype: float64"
      ]
     },
     "execution_count": 24,
     "metadata": {},
     "output_type": "execute_result"
    }
   ],
   "source": [
    "#sub() отнимает число от каждого элемента серии\n",
    "density.sub(10).head()"
   ]
  },
  {
   "cell_type": "code",
   "execution_count": 25,
   "metadata": {},
   "outputs": [
    {
     "data": {
      "text/plain": [
       "0     4.10510\n",
       "1     2.29107\n",
       "2     1.15997\n",
       "3    11.46318\n",
       "4     2.90162\n",
       "Name: density, dtype: float64"
      ]
     },
     "execution_count": 25,
     "metadata": {},
     "output_type": "execute_result"
    }
   ],
   "source": [
    "#div() делит на число каждый элемент серии\n",
    "density.div(10).head()"
   ]
  },
  {
   "cell_type": "code",
   "execution_count": 26,
   "metadata": {},
   "outputs": [
    {
     "data": {
      "text/plain": [
       "0     4.0\n",
       "1     2.0\n",
       "2     1.0\n",
       "3    11.0\n",
       "4     2.0\n",
       "Name: density, dtype: float64"
      ]
     },
     "execution_count": 26,
     "metadata": {},
     "output_type": "execute_result"
    }
   ],
   "source": [
    "#floordiv() делит на число каждый элемент серии, возвращая только целую часть\n",
    "density.floordiv(10).head()"
   ]
  },
  {
   "cell_type": "markdown",
   "metadata": {},
   "source": [
    "### другие методы и атрибуты "
   ]
  },
  {
   "cell_type": "code",
   "execution_count": 34,
   "metadata": {},
   "outputs": [
    {
     "data": {
      "text/plain": [
       "0      group B\n",
       "1      group C\n",
       "2      group B\n",
       "3      group A\n",
       "4      group C\n",
       "        ...   \n",
       "995    group E\n",
       "996    group C\n",
       "997    group C\n",
       "998    group D\n",
       "999    group D\n",
       "Name: race/ethnicity, Length: 1000, dtype: object"
      ]
     },
     "execution_count": 34,
     "metadata": {},
     "output_type": "execute_result"
    }
   ],
   "source": [
    "#загружаем данные, students performance\n",
    "st = pd.read_csv('StudentsPerformance.csv', usecols=['race/ethnicity']).squeeze()\n",
    "st"
   ]
  },
  {
   "cell_type": "code",
   "execution_count": 36,
   "metadata": {},
   "outputs": [
    {
     "data": {
      "text/plain": [
       "False"
      ]
     },
     "execution_count": 36,
     "metadata": {},
     "output_type": "execute_result"
    }
   ],
   "source": [
    "# возвращает True, если дубликаты не найдены\n",
    "st.is_unique"
   ]
  },
  {
   "cell_type": "code",
   "execution_count": 38,
   "metadata": {},
   "outputs": [
    {
     "data": {
      "text/plain": [
       "True"
      ]
     },
     "execution_count": 38,
     "metadata": {},
     "output_type": "execute_result"
    }
   ],
   "source": [
    "nums = pd.Series([1,2,3,4,5])\n",
    "nums.is_unique"
   ]
  },
  {
   "cell_type": "code",
   "execution_count": 39,
   "metadata": {},
   "outputs": [
    {
     "data": {
      "text/plain": [
       "race/ethnicity\n",
       "group C    319\n",
       "group D    262\n",
       "group B    190\n",
       "group E    140\n",
       "group A     89\n",
       "Name: count, dtype: int64"
      ]
     },
     "execution_count": 39,
     "metadata": {},
     "output_type": "execute_result"
    }
   ],
   "source": [
    "#кол-во уникальных значений в каждой группе\n",
    "st.value_counts()"
   ]
  },
  {
   "cell_type": "code",
   "execution_count": 41,
   "metadata": {
    "scrolled": true
   },
   "outputs": [
    {
     "data": {
      "text/plain": [
       "race/ethnicity\n",
       "group A     89\n",
       "group E    140\n",
       "group B    190\n",
       "group D    262\n",
       "group C    319\n",
       "Name: count, dtype: int64"
      ]
     },
     "execution_count": 41,
     "metadata": {},
     "output_type": "execute_result"
    }
   ],
   "source": [
    "#кол-во уникальных значений в каждой группе, сортировка по возрастанию\n",
    "st.value_counts(ascending = True)"
   ]
  },
  {
   "cell_type": "code",
   "execution_count": 44,
   "metadata": {
    "scrolled": true
   },
   "outputs": [
    {
     "data": {
      "text/plain": [
       "1000"
      ]
     },
     "execution_count": 44,
     "metadata": {},
     "output_type": "execute_result"
    }
   ],
   "source": [
    "#сумма уникальных значений во всех группах...\n",
    "st.value_counts(ascending = True).sum()"
   ]
  },
  {
   "cell_type": "code",
   "execution_count": 46,
   "metadata": {},
   "outputs": [
    {
     "data": {
      "text/plain": [
       "2"
      ]
     },
     "execution_count": 46,
     "metadata": {},
     "output_type": "execute_result"
    }
   ],
   "source": [
    "# атрибут ndim возвращает количество измерений\n",
    "st.ndim\n",
    "pd.read_csv('StudentsPerformance.csv').ndim"
   ]
  },
  {
   "cell_type": "code",
   "execution_count": 47,
   "metadata": {},
   "outputs": [
    {
     "data": {
      "text/plain": [
       "(1000,)"
      ]
     },
     "execution_count": 47,
     "metadata": {},
     "output_type": "execute_result"
    }
   ],
   "source": [
    "# атрибут shape возвращает количество строк и колонок\n",
    "st.shape"
   ]
  },
  {
   "cell_type": "code",
   "execution_count": 48,
   "metadata": {
    "scrolled": true
   },
   "outputs": [
    {
     "data": {
      "text/plain": [
       "(1000, 8)"
      ]
     },
     "execution_count": 48,
     "metadata": {},
     "output_type": "execute_result"
    }
   ],
   "source": [
    "pd.read_csv('studentsperformance.csv').shape"
   ]
  },
  {
   "cell_type": "code",
   "execution_count": 50,
   "metadata": {},
   "outputs": [
    {
     "data": {
      "text/plain": [
       "1000"
      ]
     },
     "execution_count": 50,
     "metadata": {},
     "output_type": "execute_result"
    }
   ],
   "source": [
    "# атрибут size возвращает количество элементов, включая null\n",
    "st.size"
   ]
  },
  {
   "cell_type": "code",
   "execution_count": 49,
   "metadata": {},
   "outputs": [
    {
     "data": {
      "text/plain": [
       "'race/ethnicity'"
      ]
     },
     "execution_count": 49,
     "metadata": {},
     "output_type": "execute_result"
    }
   ],
   "source": [
    "# атрибут name возвращает название \n",
    "st.name"
   ]
  },
  {
   "cell_type": "markdown",
   "metadata": {},
   "source": [
    "### `apply()` метод"
   ]
  },
  {
   "cell_type": "code",
   "execution_count": 51,
   "metadata": {},
   "outputs": [
    {
     "data": {
      "text/plain": [
       "count      50.000000\n",
       "mean      208.861176\n",
       "std       277.731890\n",
       "min         1.293300\n",
       "25%        48.028675\n",
       "50%       108.986050\n",
       "75%       227.587800\n",
       "max      1276.640500\n",
       "Name: density, dtype: float64"
      ]
     },
     "execution_count": 51,
     "metadata": {},
     "output_type": "execute_result"
    }
   ],
   "source": [
    "# продолжаем работу с плотностью населения\n",
    "density.describe()"
   ]
  },
  {
   "cell_type": "code",
   "execution_count": 52,
   "metadata": {},
   "outputs": [
    {
     "data": {
      "text/plain": [
       "'высокая плотность населения'"
      ]
     },
     "execution_count": 52,
     "metadata": {},
     "output_type": "execute_result"
    }
   ],
   "source": [
    "#создаем функцию density_type()\n",
    "def density_type(num):\n",
    "    if num < 50:\n",
    "        return \"низкая плотность населения\"\n",
    "    elif num >= 50 and num < 230:\n",
    "        return \"средняя плотность населения\"\n",
    "    else:\n",
    "        return \"высокая плотность населения\"\n",
    "    \n",
    "density_type(300)"
   ]
  },
  {
   "cell_type": "code",
   "execution_count": 53,
   "metadata": {
    "scrolled": true
   },
   "outputs": [
    {
     "data": {
      "text/plain": [
       "0     низкая плотность населения\n",
       "1     низкая плотность населения\n",
       "2     низкая плотность населения\n",
       "3    средняя плотность населения\n",
       "4     низкая плотность населения\n",
       "5    средняя плотность населения\n",
       "6    средняя плотность населения\n",
       "7    высокая плотность населения\n",
       "8    средняя плотность населения\n",
       "9    средняя плотность населения\n",
       "Name: density, dtype: object"
      ]
     },
     "execution_count": 53,
     "metadata": {},
     "output_type": "execute_result"
    }
   ],
   "source": [
    "# apply() метод позволяет применить функцию к каждому элементу серии\n",
    "density_types = density.apply(density_type)\n",
    "density_types.head(10)"
   ]
  },
  {
   "cell_type": "code",
   "execution_count": 54,
   "metadata": {},
   "outputs": [
    {
     "data": {
      "text/plain": [
       "0       4105.10\n",
       "1       2291.07\n",
       "2       1159.97\n",
       "3      11463.18\n",
       "4       2901.62\n",
       "5       5714.50\n",
       "6      11889.71\n",
       "7      41185.20\n",
       "8       6429.39\n",
       "9      18981.38\n",
       "10      4498.99\n",
       "11     17354.84\n",
       "12     51736.79\n",
       "13       757.96\n",
       "14     21844.11\n",
       "15      1188.70\n",
       "16     17033.56\n",
       "17     22176.42\n",
       "18      7267.65\n",
       "19     91363.78\n",
       "20      2588.43\n",
       "21     22952.90\n",
       "22     64468.51\n",
       "23     25674.24\n",
       "24    127664.05\n",
       "25      5832.72\n",
       "26     10017.15\n",
       "27      5763.24\n",
       "28     19108.68\n",
       "29     15522.63\n",
       "30     43215.80\n",
       "31    106996.23\n",
       "32     11495.54\n",
       "33     10958.79\n",
       "34      7412.68\n",
       "35      5824.25\n",
       "36       129.33\n",
       "37      3614.08\n",
       "38     10838.42\n",
       "39      9001.94\n",
       "40      1755.34\n",
       "41      7014.70\n",
       "42      4439.12\n",
       "43     29195.10\n",
       "44       596.85\n",
       "45     29005.74\n",
       "46     17892.20\n",
       "47     74603.76\n",
       "48      6308.37\n",
       "49     23071.17\n",
       "Name: density, dtype: float64"
      ]
     },
     "execution_count": 54,
     "metadata": {},
     "output_type": "execute_result"
    }
   ],
   "source": [
    "# apply() метод c lambda - применяем действие к каждому элементу серии, \n",
    "# без написания отдельной функции\n",
    "density.apply(lambda density:density*100)"
   ]
  }
 ],
 "metadata": {
  "kernelspec": {
   "display_name": "Python 3 (ipykernel)",
   "language": "python",
   "name": "python3"
  },
  "language_info": {
   "codemirror_mode": {
    "name": "ipython",
    "version": 3
   },
   "file_extension": ".py",
   "mimetype": "text/x-python",
   "name": "python",
   "nbconvert_exporter": "python",
   "pygments_lexer": "ipython3",
   "version": "3.12.1"
  }
 },
 "nbformat": 4,
 "nbformat_minor": 4
}
