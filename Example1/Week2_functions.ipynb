{
 "cells": [
  {
   "cell_type": "markdown",
   "id": "1d0e3e03",
   "metadata": {},
   "source": [
    "1) Напишите функцию которая проверяет если в списке есть четные числа и возвращает True если они есть. Если нет то возвращает False "
   ]
  },
  {
   "cell_type": "code",
   "execution_count": 6,
   "id": "a3460648",
   "metadata": {},
   "outputs": [
    {
     "name": "stdout",
     "output_type": "stream",
     "text": [
      "True\n",
      "False\n"
     ]
    }
   ],
   "source": [
    "numbers_list1 = [1, 3, 5, 7, 4, 8, 12, 16, 15, 17,19]\n",
    "numbers_list2 = [1, 5, 3, 7, 9]\n",
    "\n",
    "def check_even_numbers(lst):\n",
    "    for num in lst:\n",
    "        if num % 2 == 0:\n",
    "            return True\n",
    "    return False\n",
    "\n",
    "result1 = check_even_numbers(numbers_list1)\n",
    "result2 = check_even_numbers(numbers_list2)\n",
    "\n",
    "print(result1)\n",
    "print(result2)"
   ]
  },
  {
   "cell_type": "markdown",
   "id": "1813f7d4",
   "metadata": {},
   "source": [
    "2) Напишите функцию, которая считает куб числа "
   ]
  },
  {
   "cell_type": "code",
   "execution_count": 8,
   "id": "5830d453",
   "metadata": {},
   "outputs": [
    {
     "data": {
      "text/plain": [
       "64"
      ]
     },
     "execution_count": 8,
     "metadata": {},
     "output_type": "execute_result"
    }
   ],
   "source": [
    "def square(num):\n",
    "    ans = num ** 3\n",
    "    return ans\n",
    "square(4)"
   ]
  },
  {
   "cell_type": "markdown",
   "id": "56470d77",
   "metadata": {},
   "source": [
    "3) Напишите функцию-калькулятор который может складывать или вычитать два числа. Чтобы определить складывать или вычитать добавьте в параметры название операции (\"add\" или \"subtract\")"
   ]
  },
  {
   "cell_type": "code",
   "execution_count": 17,
   "id": "543f19de",
   "metadata": {},
   "outputs": [
    {
     "name": "stdout",
     "output_type": "stream",
     "text": [
      "23\n",
      "7\n"
     ]
    }
   ],
   "source": [
    "def calculator(num1, num2, operation):\n",
    "    if operation == \"add\":\n",
    "        result = num1 + num2\n",
    "    elif operation == \"subtract\":\n",
    "        result = num1 - num2\n",
    "    else:\n",
    "        return\n",
    "    return result\n",
    "\n",
    "sum_result = calculator(15, 8, \"add\")\n",
    "print(sum_result)\n",
    "\n",
    "subtraction_result = calculator(15, 8, \"subtract\")\n",
    "print(subtraction_result)"
   ]
  },
  {
   "cell_type": "markdown",
   "id": "20825e97",
   "metadata": {},
   "source": [
    "4) Напишите функцию которая возвращает самое маленькое число в списке "
   ]
  },
  {
   "cell_type": "code",
   "execution_count": 1,
   "id": "7fe55897-4703-4f11-a917-9f593ae730bd",
   "metadata": {},
   "outputs": [
    {
     "name": "stdout",
     "output_type": "stream",
     "text": [
      "1\n"
     ]
    }
   ],
   "source": [
    "numbers_list1 = [1, 3, 5, 7, 4, 8, 12, 16, 15, 17,19]\n",
    "print(min(numbers_list1))"
   ]
  },
  {
   "cell_type": "code",
   "execution_count": 5,
   "id": "efbc47af-33dd-4f05-a740-6cd3b1eb61d5",
   "metadata": {},
   "outputs": [
    {
     "name": "stdout",
     "output_type": "stream",
     "text": [
      "1\n"
     ]
    }
   ],
   "source": [
    "def find_min_number(numbers):\n",
    "    if not numbers:\n",
    "        return \"Список пуст\"\n",
    "    min_number = min(numbers)\n",
    "    return min_number\n",
    "numbers_list = [1, 3, 5, 7, 4, 8, 12, 16, 15, 17,19]\n",
    "min_result = find_min_number(numbers_list)\n",
    "print(min_result)"
   ]
  },
  {
   "cell_type": "markdown",
   "id": "ccab962d",
   "metadata": {},
   "source": [
    "5) Напишите функцию которая вернет сумму всех нечетных чисел в списке "
   ]
  },
  {
   "cell_type": "code",
   "execution_count": 7,
   "id": "d0964656",
   "metadata": {},
   "outputs": [
    {
     "name": "stdout",
     "output_type": "stream",
     "text": [
      "67\n"
     ]
    }
   ],
   "source": [
    "def sum_of_odd_numbers(numbers):\n",
    "    odd_numbers = [num for num in numbers if num % 2 != 0]\n",
    "    return sum(odd_numbers)\n",
    "\n",
    "numbers_list = [1, 3, 5, 7, 4, 8, 12, 16, 15, 17,19]\n",
    "result = sum_of_odd_numbers(numbers_list)\n",
    "print(result)"
   ]
  },
  {
   "cell_type": "markdown",
   "id": "9f988eaf",
   "metadata": {},
   "source": [
    "6) Напишите функцию которая будет спрашивать возраст и не выйдет пока пользователь не угадает число 46"
   ]
  },
  {
   "cell_type": "code",
   "execution_count": 9,
   "id": "0706cf12",
   "metadata": {},
   "outputs": [
    {
     "name": "stdin",
     "output_type": "stream",
     "text": [
      "Угадайте возраст (целое число):  25\n"
     ]
    },
    {
     "name": "stdout",
     "output_type": "stream",
     "text": [
      "Неверно. Попробуйте еще раз.\n"
     ]
    },
    {
     "name": "stdin",
     "output_type": "stream",
     "text": [
      "Угадайте возраст (целое число):  76\n"
     ]
    },
    {
     "name": "stdout",
     "output_type": "stream",
     "text": [
      "Неверно. Попробуйте еще раз.\n"
     ]
    },
    {
     "name": "stdin",
     "output_type": "stream",
     "text": [
      "Угадайте возраст (целое число):  45\n"
     ]
    },
    {
     "name": "stdout",
     "output_type": "stream",
     "text": [
      "Неверно. Попробуйте еще раз.\n"
     ]
    },
    {
     "name": "stdin",
     "output_type": "stream",
     "text": [
      "Угадайте возраст (целое число):  46\n"
     ]
    },
    {
     "name": "stdout",
     "output_type": "stream",
     "text": [
      "Правильно! Вы угадали возраст.\n"
     ]
    }
   ],
   "source": [
    "def guess_age():\n",
    "    target_age = 46\n",
    "    while True:\n",
    "        user_age = int(input(\"Угадайте возраст (целое число): \"))\n",
    "        if user_age == target_age:\n",
    "            print(\"Правильно! Вы угадали возраст.\")\n",
    "            break\n",
    "        else:\n",
    "            print(\"Неверно. Попробуйте еще раз.\")\n",
    "guess_age()"
   ]
  },
  {
   "cell_type": "markdown",
   "id": "c2525f1d",
   "metadata": {},
   "source": [
    "7) Напишите фунцию которая спросит у пользователя 10 чисел и потом распечатает этот список "
   ]
  },
  {
   "cell_type": "code",
   "execution_count": 10,
   "id": "c22a1534",
   "metadata": {},
   "outputs": [
    {
     "name": "stdin",
     "output_type": "stream",
     "text": [
      "Введите число #1:  12\n",
      "Введите число #2:  16\n",
      "Введите число #3:  15\n",
      "Введите число #4:  12\n",
      "Введите число #5:  13\n",
      "Введите число #6:  8\n",
      "Введите число #7:  9\n",
      "Введите число #8:  7\n",
      "Введите число #9:  48\n",
      "Введите число #10:  56\n"
     ]
    },
    {
     "name": "stdout",
     "output_type": "stream",
     "text": [
      "Ваш список чисел: [12.0, 16.0, 15.0, 12.0, 13.0, 8.0, 9.0, 7.0, 48.0, 56.0]\n"
     ]
    }
   ],
   "source": [
    "def get_user_numbers():\n",
    "    user_numbers = []\n",
    "    for i in range(10):\n",
    "        while True:\n",
    "            try:\n",
    "                number = float(input(f\"Введите число #{i + 1}: \"))\n",
    "                break\n",
    "            except ValueError:\n",
    "                print(\"Ошибка! Введите действительное число.\")\n",
    "        user_numbers.append(number)\n",
    "    return user_numbers\n",
    "numbers_list = get_user_numbers()\n",
    "print(\"Ваш список чисел:\", numbers_list)"
   ]
  },
  {
   "cell_type": "markdown",
   "id": "e773c590",
   "metadata": {},
   "source": [
    "8) Напишите функцию которая принимает число буквами от одного до пяти (например \"one\", \"two\", \"three\", \"four\", \"five\") и возвращает integer."
   ]
  },
  {
   "cell_type": "code",
   "execution_count": 13,
   "id": "e516f636",
   "metadata": {},
   "outputs": [
    {
     "name": "stdin",
     "output_type": "stream",
     "text": [
      "Введите число буквами от одного до пяти:  two\n"
     ]
    },
    {
     "name": "stdout",
     "output_type": "stream",
     "text": [
      "2\n"
     ]
    }
   ],
   "source": [
    "def word_to_number(word):\n",
    "    word_dict = {\n",
    "        \"one\": 1,\n",
    "        \"two\": 2,\n",
    "        \"three\": 3,\n",
    "        \"four\": 4,\n",
    "        \"five\": 5\n",
    "    }\n",
    "    try:\n",
    "        number = word_dict[word.lower()]\n",
    "        return number\n",
    "    except KeyError:\n",
    "        return \"Неверное слово. Поддерживаются только 'one', 'two', 'three', 'four', 'five'.\"\n",
    "word_input = input(\"Введите число буквами от одного до пяти: \")\n",
    "result = word_to_number(word_input)\n",
    "print(result)"
   ]
  },
  {
   "cell_type": "markdown",
   "id": "afec677f",
   "metadata": {},
   "source": [
    "9) Напишите функцию которая принимает два параметра и возвращает их сумму "
   ]
  },
  {
   "cell_type": "code",
   "execution_count": 15,
   "id": "8ae643da",
   "metadata": {},
   "outputs": [
    {
     "name": "stdout",
     "output_type": "stream",
     "text": [
      "19\n"
     ]
    }
   ],
   "source": [
    "def add_two_numbers(a, b):\n",
    "    return a + b\n",
    "result = add_two_numbers(8, 11)\n",
    "print(result)"
   ]
  },
  {
   "cell_type": "markdown",
   "id": "a078743d",
   "metadata": {},
   "source": [
    "10) Напишите функцию которая печатает Hello World  n колличество раз "
   ]
  },
  {
   "cell_type": "code",
   "execution_count": 17,
   "id": "d50fa202",
   "metadata": {},
   "outputs": [
    {
     "name": "stdout",
     "output_type": "stream",
     "text": [
      "Hello World\n",
      "Hello World\n",
      "Hello World\n",
      "Hello World\n"
     ]
    }
   ],
   "source": [
    "def print_hello_world_n_times(n):\n",
    "    for _ in range(n):\n",
    "        print(\"Hello World\")\n",
    "print_hello_world_n_times(4)"
   ]
  }
 ],
 "metadata": {
  "kernelspec": {
   "display_name": "Python 3 (ipykernel)",
   "language": "python",
   "name": "python3"
  },
  "language_info": {
   "codemirror_mode": {
    "name": "ipython",
    "version": 3
   },
   "file_extension": ".py",
   "mimetype": "text/x-python",
   "name": "python",
   "nbconvert_exporter": "python",
   "pygments_lexer": "ipython3",
   "version": "3.12.1"
  }
 },
 "nbformat": 4,
 "nbformat_minor": 5
}
