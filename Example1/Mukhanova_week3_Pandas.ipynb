{
 "cells": [
  {
   "cell_type": "code",
   "execution_count": 2,
   "id": "1d0d49fe-33d1-422f-b6e1-67728faa23dd",
   "metadata": {},
   "outputs": [],
   "source": [
    "import pandas as pd"
   ]
  },
  {
   "cell_type": "code",
   "execution_count": 5,
   "id": "d433b8f6-a513-4f07-8730-5bdb4f1459d9",
   "metadata": {},
   "outputs": [
    {
     "data": {
      "text/html": [
       "<div>\n",
       "<style scoped>\n",
       "    .dataframe tbody tr th:only-of-type {\n",
       "        vertical-align: middle;\n",
       "    }\n",
       "\n",
       "    .dataframe tbody tr th {\n",
       "        vertical-align: top;\n",
       "    }\n",
       "\n",
       "    .dataframe thead th {\n",
       "        text-align: right;\n",
       "    }\n",
       "</style>\n",
       "<table border=\"1\" class=\"dataframe\">\n",
       "  <thead>\n",
       "    <tr style=\"text-align: right;\">\n",
       "      <th></th>\n",
       "      <th>gender</th>\n",
       "      <th>race/ethnicity</th>\n",
       "      <th>parental level of education</th>\n",
       "      <th>lunch</th>\n",
       "      <th>test preparation course</th>\n",
       "      <th>math score</th>\n",
       "      <th>reading score</th>\n",
       "      <th>writing score</th>\n",
       "    </tr>\n",
       "  </thead>\n",
       "  <tbody>\n",
       "    <tr>\n",
       "      <th>0</th>\n",
       "      <td>female</td>\n",
       "      <td>group B</td>\n",
       "      <td>bachelor's degree</td>\n",
       "      <td>standard</td>\n",
       "      <td>none</td>\n",
       "      <td>72</td>\n",
       "      <td>72</td>\n",
       "      <td>74</td>\n",
       "    </tr>\n",
       "    <tr>\n",
       "      <th>1</th>\n",
       "      <td>female</td>\n",
       "      <td>group C</td>\n",
       "      <td>some college</td>\n",
       "      <td>standard</td>\n",
       "      <td>completed</td>\n",
       "      <td>69</td>\n",
       "      <td>90</td>\n",
       "      <td>88</td>\n",
       "    </tr>\n",
       "    <tr>\n",
       "      <th>2</th>\n",
       "      <td>female</td>\n",
       "      <td>group B</td>\n",
       "      <td>master's degree</td>\n",
       "      <td>standard</td>\n",
       "      <td>none</td>\n",
       "      <td>90</td>\n",
       "      <td>95</td>\n",
       "      <td>93</td>\n",
       "    </tr>\n",
       "    <tr>\n",
       "      <th>3</th>\n",
       "      <td>male</td>\n",
       "      <td>group A</td>\n",
       "      <td>associate's degree</td>\n",
       "      <td>free/reduced</td>\n",
       "      <td>none</td>\n",
       "      <td>47</td>\n",
       "      <td>57</td>\n",
       "      <td>44</td>\n",
       "    </tr>\n",
       "    <tr>\n",
       "      <th>4</th>\n",
       "      <td>male</td>\n",
       "      <td>group C</td>\n",
       "      <td>some college</td>\n",
       "      <td>standard</td>\n",
       "      <td>none</td>\n",
       "      <td>76</td>\n",
       "      <td>78</td>\n",
       "      <td>75</td>\n",
       "    </tr>\n",
       "    <tr>\n",
       "      <th>...</th>\n",
       "      <td>...</td>\n",
       "      <td>...</td>\n",
       "      <td>...</td>\n",
       "      <td>...</td>\n",
       "      <td>...</td>\n",
       "      <td>...</td>\n",
       "      <td>...</td>\n",
       "      <td>...</td>\n",
       "    </tr>\n",
       "    <tr>\n",
       "      <th>995</th>\n",
       "      <td>female</td>\n",
       "      <td>group E</td>\n",
       "      <td>master's degree</td>\n",
       "      <td>standard</td>\n",
       "      <td>completed</td>\n",
       "      <td>88</td>\n",
       "      <td>99</td>\n",
       "      <td>95</td>\n",
       "    </tr>\n",
       "    <tr>\n",
       "      <th>996</th>\n",
       "      <td>male</td>\n",
       "      <td>group C</td>\n",
       "      <td>high school</td>\n",
       "      <td>free/reduced</td>\n",
       "      <td>none</td>\n",
       "      <td>62</td>\n",
       "      <td>55</td>\n",
       "      <td>55</td>\n",
       "    </tr>\n",
       "    <tr>\n",
       "      <th>997</th>\n",
       "      <td>female</td>\n",
       "      <td>group C</td>\n",
       "      <td>high school</td>\n",
       "      <td>free/reduced</td>\n",
       "      <td>completed</td>\n",
       "      <td>59</td>\n",
       "      <td>71</td>\n",
       "      <td>65</td>\n",
       "    </tr>\n",
       "    <tr>\n",
       "      <th>998</th>\n",
       "      <td>female</td>\n",
       "      <td>group D</td>\n",
       "      <td>some college</td>\n",
       "      <td>standard</td>\n",
       "      <td>completed</td>\n",
       "      <td>68</td>\n",
       "      <td>78</td>\n",
       "      <td>77</td>\n",
       "    </tr>\n",
       "    <tr>\n",
       "      <th>999</th>\n",
       "      <td>female</td>\n",
       "      <td>group D</td>\n",
       "      <td>some college</td>\n",
       "      <td>free/reduced</td>\n",
       "      <td>none</td>\n",
       "      <td>77</td>\n",
       "      <td>86</td>\n",
       "      <td>86</td>\n",
       "    </tr>\n",
       "  </tbody>\n",
       "</table>\n",
       "<p>1000 rows × 8 columns</p>\n",
       "</div>"
      ],
      "text/plain": [
       "     gender race/ethnicity parental level of education         lunch  \\\n",
       "0    female        group B           bachelor's degree      standard   \n",
       "1    female        group C                some college      standard   \n",
       "2    female        group B             master's degree      standard   \n",
       "3      male        group A          associate's degree  free/reduced   \n",
       "4      male        group C                some college      standard   \n",
       "..      ...            ...                         ...           ...   \n",
       "995  female        group E             master's degree      standard   \n",
       "996    male        group C                 high school  free/reduced   \n",
       "997  female        group C                 high school  free/reduced   \n",
       "998  female        group D                some college      standard   \n",
       "999  female        group D                some college  free/reduced   \n",
       "\n",
       "    test preparation course  math score  reading score  writing score  \n",
       "0                      none          72             72             74  \n",
       "1                 completed          69             90             88  \n",
       "2                      none          90             95             93  \n",
       "3                      none          47             57             44  \n",
       "4                      none          76             78             75  \n",
       "..                      ...         ...            ...            ...  \n",
       "995               completed          88             99             95  \n",
       "996                    none          62             55             55  \n",
       "997               completed          59             71             65  \n",
       "998               completed          68             78             77  \n",
       "999                    none          77             86             86  \n",
       "\n",
       "[1000 rows x 8 columns]"
      ]
     },
     "execution_count": 5,
     "metadata": {},
     "output_type": "execute_result"
    }
   ],
   "source": [
    "df=pd.read_csv('/Users/atyra/OneDrive/Desktop/Python/week3/StudentsPerformance.csv',sep=',')\n",
    "df"
   ]
  },
  {
   "cell_type": "code",
   "execution_count": 6,
   "id": "50c01e56-ea75-4b9d-a9a5-9ee6225c4de0",
   "metadata": {},
   "outputs": [
    {
     "name": "stdout",
     "output_type": "stream",
     "text": [
      "   gender race/ethnicity parental level of education     lunch  \\\n",
      "1  female        group C                some college  standard   \n",
      "\n",
      "  test preparation course  math score  reading score  writing score  \n",
      "1               completed          69             90             88  \n"
     ]
    }
   ],
   "source": [
    "selected_data = df.iloc[1:2]\n",
    "print(selected_data)"
   ]
  },
  {
   "cell_type": "code",
   "execution_count": 8,
   "id": "3a6385fe-14c0-4928-9545-045ad3ee91d4",
   "metadata": {},
   "outputs": [
    {
     "name": "stdout",
     "output_type": "stream",
     "text": [
      "   gender race/ethnicity\n",
      "0  female        group B\n",
      "1  female        group C\n",
      "2  female        group B\n",
      "3    male        group A\n",
      "4    male        group C\n"
     ]
    }
   ],
   "source": [
    "selected_data = df.iloc[:5, [0, 1]]\n",
    "print(selected_data)"
   ]
  },
  {
   "cell_type": "code",
   "execution_count": 7,
   "id": "a595c873-3582-4060-a820-371fcd7beffa",
   "metadata": {},
   "outputs": [
    {
     "name": "stdout",
     "output_type": "stream",
     "text": [
      "   gender race/ethnicity\n",
      "0  female        group B\n",
      "1  female        group C\n",
      "2  female        group B\n",
      "3    male        group A\n",
      "4    male        group C\n",
      "5  female        group B\n",
      "6  female        group B\n",
      "7    male        group B\n",
      "8    male        group D\n",
      "9  female        group B\n"
     ]
    }
   ],
   "source": [
    "selected_data = df.iloc[:10, [0, 1]]\n",
    "print(selected_data)"
   ]
  },
  {
   "cell_type": "code",
   "execution_count": 9,
   "id": "d6c3f94d-c945-42c0-bce0-5c84b0bf23a7",
   "metadata": {},
   "outputs": [
    {
     "name": "stdout",
     "output_type": "stream",
     "text": [
      "    gender race/ethnicity parental level of education         lunch  \\\n",
      "0   female        group B           bachelor's degree      standard   \n",
      "1   female        group C                some college      standard   \n",
      "2   female        group B             master's degree      standard   \n",
      "3     male        group A          associate's degree  free/reduced   \n",
      "4     male        group C                some college      standard   \n",
      "5   female        group B          associate's degree      standard   \n",
      "6   female        group B                some college      standard   \n",
      "7     male        group B                some college  free/reduced   \n",
      "8     male        group D                 high school  free/reduced   \n",
      "9   female        group B                 high school  free/reduced   \n",
      "10    male        group C          associate's degree      standard   \n",
      "11    male        group D          associate's degree      standard   \n",
      "12  female        group B                 high school      standard   \n",
      "13    male        group A                some college      standard   \n",
      "14  female        group A             master's degree      standard   \n",
      "15  female        group C            some high school      standard   \n",
      "16    male        group C                 high school      standard   \n",
      "17  female        group B            some high school  free/reduced   \n",
      "18    male        group C             master's degree  free/reduced   \n",
      "19  female        group C          associate's degree  free/reduced   \n",
      "\n",
      "   test preparation course  math score  reading score  writing score  \n",
      "0                     none          72             72             74  \n",
      "1                completed          69             90             88  \n",
      "2                     none          90             95             93  \n",
      "3                     none          47             57             44  \n",
      "4                     none          76             78             75  \n",
      "5                     none          71             83             78  \n",
      "6                completed          88             95             92  \n",
      "7                     none          40             43             39  \n",
      "8                completed          64             64             67  \n",
      "9                     none          38             60             50  \n",
      "10                    none          58             54             52  \n",
      "11                    none          40             52             43  \n",
      "12                    none          65             81             73  \n",
      "13               completed          78             72             70  \n",
      "14                    none          50             53             58  \n",
      "15                    none          69             75             78  \n",
      "16                    none          88             89             86  \n",
      "17                    none          18             32             28  \n",
      "18               completed          46             42             46  \n",
      "19                    none          54             58             61  \n"
     ]
    }
   ],
   "source": [
    "print(df[0:20])"
   ]
  },
  {
   "cell_type": "code",
   "execution_count": 10,
   "id": "2441e9e7-a480-413f-92d2-8ff485db37ea",
   "metadata": {},
   "outputs": [
    {
     "name": "stdout",
     "output_type": "stream",
     "text": [
      "     gender  math score\n",
      "0    female          72\n",
      "1    female          69\n",
      "2    female          90\n",
      "3      male          47\n",
      "4      male          76\n",
      "..      ...         ...\n",
      "995  female          88\n",
      "996    male          62\n",
      "997  female          59\n",
      "998  female          68\n",
      "999  female          77\n",
      "\n",
      "[1000 rows x 2 columns]\n"
     ]
    }
   ],
   "source": [
    "selected_data = df.loc[:, [\"gender\", \"math score\"]]\n",
    "print(selected_data)"
   ]
  },
  {
   "cell_type": "code",
   "execution_count": 11,
   "id": "790d8638-4bda-4371-84f4-0c33bcb2062a",
   "metadata": {},
   "outputs": [
    {
     "name": "stdout",
     "output_type": "stream",
     "text": [
      "   gender  math score\n",
      "0  female          72\n",
      "1  female          69\n",
      "2  female          90\n",
      "3    male          47\n",
      "4    male          76\n"
     ]
    }
   ],
   "source": [
    "selected_data = df.loc[df.index[:5], [\"gender\", \"math score\"]]\n",
    "print(selected_data)"
   ]
  }
 ],
 "metadata": {
  "kernelspec": {
   "display_name": "Python 3 (ipykernel)",
   "language": "python",
   "name": "python3"
  },
  "language_info": {
   "codemirror_mode": {
    "name": "ipython",
    "version": 3
   },
   "file_extension": ".py",
   "mimetype": "text/x-python",
   "name": "python",
   "nbconvert_exporter": "python",
   "pygments_lexer": "ipython3",
   "version": "3.12.1"
  }
 },
 "nbformat": 4,
 "nbformat_minor": 5
}
