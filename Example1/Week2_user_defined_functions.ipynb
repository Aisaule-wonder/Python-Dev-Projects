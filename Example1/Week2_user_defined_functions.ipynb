{
 "cells": [
  {
   "cell_type": "markdown",
   "id": "31cfa5fb",
   "metadata": {},
   "source": [
    "Напишите функцию myBMI, которая:\n",
    "\n",
    "- спросит у пользователя имя"
   ]
  },
  {
   "cell_type": "code",
   "execution_count": 25,
   "id": "745093e7-f0e9-4b11-8ca2-69af35c4bf6a",
   "metadata": {},
   "outputs": [
    {
     "name": "stdin",
     "output_type": "stream",
     "text": [
      "What is your name?  Dina\n"
     ]
    }
   ],
   "source": [
    "def user():\n",
    "    UserName= input(\"What is your name? \")\n",
    "user()"
   ]
  },
  {
   "cell_type": "markdown",
   "id": "5b9e1f10",
   "metadata": {},
   "source": [
    "- спросит у пользователя рост в м"
   ]
  },
  {
   "cell_type": "code",
   "execution_count": 28,
   "id": "5d609685",
   "metadata": {},
   "outputs": [
    {
     "name": "stdin",
     "output_type": "stream",
     "text": [
      "What is your height in meters?  22\n"
     ]
    }
   ],
   "source": [
    "def user():\n",
    "    UserHeight= input(\"What is your height in meters? \")\n",
    "user()"
   ]
  },
  {
   "cell_type": "markdown",
   "id": "2e527155",
   "metadata": {},
   "source": [
    "- спросит у пользователя вес в кг"
   ]
  },
  {
   "cell_type": "code",
   "execution_count": 29,
   "id": "ba0e1d5d",
   "metadata": {},
   "outputs": [
    {
     "name": "stdin",
     "output_type": "stream",
     "text": [
      "What is your weight in kg?  56\n"
     ]
    }
   ],
   "source": [
    "def user():\n",
    "    Userweight= input(\"What is your weight in kg? \")\n",
    "user()"
   ]
  },
  {
   "cell_type": "markdown",
   "id": "01c9d4b5",
   "metadata": {},
   "source": [
    "- выдаст результат: \"Имя, ваш BMI = [значение] \"\n",
    "\n",
    " \n",
    "\n",
    "BMI (body mass index или индекс массы тела) рассчитывается по формуле:\n",
    "\n",
    "ИМТ = вес (кг) / рост (м)2."
   ]
  },
  {
   "cell_type": "code",
   "execution_count": 33,
   "id": "421a2766",
   "metadata": {},
   "outputs": [
    {
     "name": "stdin",
     "output_type": "stream",
     "text": [
      "Your name:  Nina\n",
      "Введите свой рост в метрах:  22\n",
      "Введите свой вес в килограммах:  56\n"
     ]
    },
    {
     "name": "stdout",
     "output_type": "stream",
     "text": [
      "name, ваш BMI: 0.11570247933884298\n"
     ]
    }
   ],
   "source": [
    "def myBMI():\n",
    "    name = input(\"Your name: \")\n",
    "    height = float(input(\"Введите свой рост в метрах: \"))\n",
    "    weight = float(input(\"Введите свой вес в килограммах: \"))\n",
    "\n",
    "    bmi = weight / (height ** 2)\n",
    "    \n",
    "    print(f\"name, ваш BMI: {bmi}\")\n",
    "myBMI()"
   ]
  },
  {
   "cell_type": "code",
   "execution_count": 32,
   "id": "f02b0e72-e5f8-4cb0-87ee-8a6aeff19b5d",
   "metadata": {},
   "outputs": [
    {
     "name": "stdin",
     "output_type": "stream",
     "text": [
      "Введите ваше имя:  Nina\n",
      "Введите ваш рост в метрах:  22\n",
      "Введите ваш вес в килограммах:  56\n"
     ]
    },
    {
     "name": "stdout",
     "output_type": "stream",
     "text": [
      "Nina, ваш BMI = 0.12\n"
     ]
    }
   ],
   "source": [
    "def myBMI(name, height, weight):\n",
    "   bmi = weight / (height ** 2)\n",
    "\n",
    "   print(f\"{name}, ваш BMI = {bmi:.2f}\")\n",
    "\n",
    "user_name = input(\"Введите ваше имя: \")\n",
    "user_height = float(input(\"Введите ваш рост в метрах: \"))\n",
    "user_weight = float(input(\"Введите ваш вес в килограммах: \"))\n",
    "\n",
    "myBMI(user_name, user_height, user_weight)"
   ]
  },
  {
   "cell_type": "code",
   "execution_count": 1,
   "id": "61fa6bbb-2d66-4f54-a3f8-1f021ddd1a2e",
   "metadata": {},
   "outputs": [
    {
     "name": "stdout",
     "output_type": "stream",
     "text": [
      "Python 15\n"
     ]
    }
   ],
   "source": [
    "#user-defined function\n",
    "def main():\n",
    "    course = \"Python\"\n",
    "    batch = 15\n",
    "    print(course,batch)\n",
    "main()"
   ]
  },
  {
   "cell_type": "code",
   "execution_count": 2,
   "id": "4f3cd1ec-7485-4e7c-93cc-f208348f264e",
   "metadata": {},
   "outputs": [
    {
     "name": "stdout",
     "output_type": "stream",
     "text": [
      "Happy birthday to you!\n",
      "Happy birthday to you!\n",
      "Happy birthday to you!\n",
      "Happy birthday, dear Aigul...!\n",
      "Happy birthday to you!\n"
     ]
    }
   ],
   "source": [
    "#function 1\n",
    "def main():\n",
    "    print(\"Happy birthday to you!\")\n",
    "    print(\"Happy birthday to you!\")\n",
    "    print(\"Happy birthday to you!\")\n",
    "    print(\"Happy birthday, dear Aigul...!\")\n",
    "    print(\"Happy birthday to you!\")\n",
    "main()"
   ]
  },
  {
   "cell_type": "code",
   "execution_count": 3,
   "id": "79ce4731-f801-4f3d-8cb9-a54da27ebc6c",
   "metadata": {},
   "outputs": [
    {
     "name": "stdout",
     "output_type": "stream",
     "text": [
      "Happy birthday to you!\n",
      "Happy birthday to you!\n",
      "Happy birthday, dear Aigul...!\n",
      "Happy birthday to you!\n"
     ]
    }
   ],
   "source": [
    "#function 2\n",
    "def happy():\n",
    "    print(\"Happy birthday to you!\")\n",
    "def main():\n",
    "    happy()\n",
    "    happy()\n",
    "    print(\"Happy birthday, dear Aigul...!\")\n",
    "    happy()\n",
    "main()"
   ]
  },
  {
   "cell_type": "code",
   "execution_count": 13,
   "id": "1ce633aa-b18b-4019-ac2c-07b740280839",
   "metadata": {},
   "outputs": [
    {
     "name": "stdout",
     "output_type": "stream",
     "text": [
      "Happy birthday to you!\n",
      "Happy birthday to you!\n",
      "Happy birthday, dear Aigul...!\n",
      "Happy birthday to you!\n"
     ]
    }
   ],
   "source": [
    "#function 3\n",
    "def happy():\n",
    "    print(\"Happy birthday to you!\")\n",
    "def sing():\n",
    "    happy()\n",
    "    happy()\n",
    "    print(\"Happy birthday, dear Aigul...!\")\n",
    "    happy()\n",
    "def main():\n",
    "    sing()\n",
    "main()"
   ]
  },
  {
   "cell_type": "code",
   "execution_count": 14,
   "id": "1a054795-3e13-4c54-9c7b-bf3b4738a122",
   "metadata": {},
   "outputs": [
    {
     "name": "stdout",
     "output_type": "stream",
     "text": [
      "Happy birthday to you!\n",
      "Happy birthday to you!\n",
      "Happy birthday, dear Aigul...!\n",
      "Happy birthday to you!\n",
      "\n",
      "Happy birthday to you!\n",
      "Happy birthday to you!\n",
      "Happy birthday, dear Tamara...!\n",
      "Happy birthday to you!\n"
     ]
    }
   ],
   "source": [
    "#function 4\n",
    "def happy():\n",
    "    print(\"Happy birthday to you!\")\n",
    "def singA():\n",
    "    happy()\n",
    "    happy()\n",
    "    print(\"Happy birthday, dear Aigul...!\")\n",
    "    happy()\n",
    "def singT():\n",
    "    happy()\n",
    "    happy()\n",
    "    print(\"Happy birthday, dear Tamara...!\")\n",
    "    happy()\n",
    "def main():\n",
    "    singA()\n",
    "    print()\n",
    "    singT()\n",
    "main()"
   ]
  },
  {
   "cell_type": "code",
   "execution_count": 17,
   "id": "34251a7d-4ea9-4bde-ac0f-18f83c5ef291",
   "metadata": {},
   "outputs": [
    {
     "name": "stdout",
     "output_type": "stream",
     "text": [
      "Happy birthday to you!\n",
      "Happy birthday to you!\n",
      "Happy birthday, dear Aigul ...!\n",
      "Happy birthday to you!\n",
      "\n",
      "Happy birthday to you!\n",
      "Happy birthday to you!\n",
      "Happy birthday, dear Tamara ...!\n",
      "Happy birthday to you!\n"
     ]
    }
   ],
   "source": [
    "#function 5\n",
    "def happy():\n",
    "    print(\"Happy birthday to you!\")\n",
    "def sing(person):\n",
    "    happy()\n",
    "    happy()\n",
    "    print(\"Happy birthday, dear\", person, \"...!\")\n",
    "    happy()\n",
    "def main():\n",
    "    sing(\"Aigul\")\n",
    "    print()\n",
    "    sing(\"Tamara\")\n",
    "main()"
   ]
  },
  {
   "cell_type": "code",
   "execution_count": 19,
   "id": "99c1a93e-72e9-4bf6-a4df-f8b158cd53ea",
   "metadata": {},
   "outputs": [
    {
     "name": "stdin",
     "output_type": "stream",
     "text": [
      "У кого ДР?  Tamara\n"
     ]
    },
    {
     "name": "stdout",
     "output_type": "stream",
     "text": [
      "Happy birthday to you!\n",
      "Happy birthday to you!\n",
      "Happy birthday, dear Tamara ...!\n",
      "Happy birthday to you!\n"
     ]
    }
   ],
   "source": [
    "#function 6\n",
    "def happy():\n",
    "    print(\"Happy birthday to you!\")\n",
    "def sing(person):\n",
    "    happy()\n",
    "    happy()\n",
    "    print(\"Happy birthday, dear\", person, \"...!\")\n",
    "    happy()\n",
    "def main():\n",
    "    bithdayName= input(\"У кого ДР? \")\n",
    "    sing(bithdayName)\n",
    "main()"
   ]
  },
  {
   "cell_type": "code",
   "execution_count": 6,
   "id": "f528e8c6-d15c-4759-831f-0889e4f78a77",
   "metadata": {},
   "outputs": [
    {
     "name": "stdout",
     "output_type": "stream",
     "text": [
      "Happy birthday to you!\n",
      "Happy birthday to you!\n",
      "Happy birthday, dear Anel ...\n",
      "You are 22 years old now\n",
      "Happy birthday to you!\n"
     ]
    }
   ],
   "source": [
    "#function 6\n",
    "def happy():\n",
    "    print(\"Happy birthday to you!\")\n",
    "def sing(person,age):\n",
    "    happy()\n",
    "    happy()\n",
    "    print(\"Happy birthday, dear\",person, \"...\")\n",
    "    print(\"You are\",age, \"years old now\")\n",
    "    happy()\n",
    "def main():\n",
    "    sing(\"Anel\",22)\n",
    "main()"
   ]
  },
  {
   "cell_type": "code",
   "execution_count": 14,
   "id": "586494cc-de35-4583-a4b3-7bf08460fd13",
   "metadata": {},
   "outputs": [
    {
     "data": {
      "text/plain": [
       "16"
      ]
     },
     "execution_count": 14,
     "metadata": {},
     "output_type": "execute_result"
    }
   ],
   "source": [
    "#functions, that return value\n",
    "def square(num):\n",
    "    ans = num * num\n",
    "    return ans\n",
    "square(4)"
   ]
  },
  {
   "cell_type": "code",
   "execution_count": 16,
   "id": "72dd9541-8359-4cb6-8bc7-ba75b17b95d1",
   "metadata": {},
   "outputs": [
    {
     "name": "stdout",
     "output_type": "stream",
     "text": [
      "doing 6 * 3\n",
      "result is None\n"
     ]
    }
   ],
   "source": [
    "#return example\n",
    "def multiply(num1, num2):\n",
    "    print(\"doing\", num1, \"*\", num2)\n",
    "    answer = num1 * num2\n",
    "    #return answer\n",
    "def main():\n",
    "    product = multiply(6,3)\n",
    "    print(\"result is\", product)\n",
    "main()"
   ]
  }
 ],
 "metadata": {
  "kernelspec": {
   "display_name": "Python 3 (ipykernel)",
   "language": "python",
   "name": "python3"
  },
  "language_info": {
   "codemirror_mode": {
    "name": "ipython",
    "version": 3
   },
   "file_extension": ".py",
   "mimetype": "text/x-python",
   "name": "python",
   "nbconvert_exporter": "python",
   "pygments_lexer": "ipython3",
   "version": "3.12.1"
  }
 },
 "nbformat": 4,
 "nbformat_minor": 5
}
