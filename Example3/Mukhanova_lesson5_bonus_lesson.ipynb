{
 "cells": [
  {
   "cell_type": "code",
   "execution_count": 1,
   "id": "2a5791d9-0f33-4d8f-bd88-4ae127f72d66",
   "metadata": {},
   "outputs": [
    {
     "name": "stdout",
     "output_type": "stream",
     "text": [
      "Requirement already satisfied: requests in c:\\users\\atyra\\appdata\\local\\programs\\python\\python312\\lib\\site-packages (2.31.0)\n",
      "Requirement already satisfied: charset-normalizer<4,>=2 in c:\\users\\atyra\\appdata\\local\\programs\\python\\python312\\lib\\site-packages (from requests) (3.3.2)\n",
      "Requirement already satisfied: idna<4,>=2.5 in c:\\users\\atyra\\appdata\\local\\programs\\python\\python312\\lib\\site-packages (from requests) (3.6)\n",
      "Requirement already satisfied: urllib3<3,>=1.21.1 in c:\\users\\atyra\\appdata\\local\\programs\\python\\python312\\lib\\site-packages (from requests) (2.1.0)\n",
      "Requirement already satisfied: certifi>=2017.4.17 in c:\\users\\atyra\\appdata\\local\\programs\\python\\python312\\lib\\site-packages (from requests) (2023.11.17)\n"
     ]
    },
    {
     "name": "stderr",
     "output_type": "stream",
     "text": [
      "\n",
      "[notice] A new release of pip is available: 23.3.2 -> 24.0\n",
      "[notice] To update, run: python.exe -m pip install --upgrade pip\n"
     ]
    }
   ],
   "source": [
    "!pip install requests"
   ]
  },
  {
   "cell_type": "code",
   "execution_count": 19,
   "id": "592873ed-75b1-4e4f-896e-8d5c7c3f65a5",
   "metadata": {},
   "outputs": [
    {
     "name": "stdout",
     "output_type": "stream",
     "text": [
      "<Response [200]>\n"
     ]
    }
   ],
   "source": [
    "import requests\n",
    "\n",
    "r = requests.get('https://docs.quotable.io/docs/api/YXBpOjg3MzIw-quotable-api')\n",
    "print(r)"
   ]
  },
  {
   "cell_type": "code",
   "execution_count": 3,
   "id": "aef2e885-b025-4d03-8ae1-1ffd14b5f513",
   "metadata": {},
   "outputs": [
    {
     "name": "stdout",
     "output_type": "stream",
     "text": [
      "{'_id': '44zDEFUKvm', 'content': 'The more man meditates upon good thoughts, the better will be his world and the world at large.', 'author': 'Confucius', 'tags': ['Inspirational'], 'authorSlug': 'confucius', 'length': 95, 'dateAdded': '2020-10-29', 'dateModified': '2023-04-14'}\n"
     ]
    },
    {
     "name": "stderr",
     "output_type": "stream",
     "text": [
      "C:\\Users\\atyra\\AppData\\Local\\Programs\\Python\\Python312\\Lib\\site-packages\\urllib3\\connectionpool.py:1099: InsecureRequestWarning: Unverified HTTPS request is being made to host 'api.quotable.io'. Adding certificate verification is strongly advised. See: https://urllib3.readthedocs.io/en/latest/advanced-usage.html#tls-warnings\n",
      "  warnings.warn(\n"
     ]
    }
   ],
   "source": [
    "import requests\n",
    "\n",
    "r1 = requests.get('https://api.quotable.io/random/', verify=False)\n",
    "print(r1.json())"
   ]
  },
  {
   "cell_type": "code",
   "execution_count": 18,
   "id": "e0ea6dc2-83ae-4b8e-a7ca-4fea459d87f8",
   "metadata": {},
   "outputs": [
    {
     "name": "stdout",
     "output_type": "stream",
     "text": [
      "{'Active Cases_text': '+9,117', 'Country_text': 'World', 'Last Update': '2024-02-10 06:27', 'New Cases_text': '+996', 'New Deaths_text': '+1', 'Total Cases_text': '702,888,200', 'Total Deaths_text': '6,980,656', 'Total Recovered_text': '673,787,418'}\n"
     ]
    }
   ],
   "source": [
    "import requests\n",
    "\n",
    "r1 = requests.get('https://covid-19.dataflowkit.com/v1/world')\n",
    "print(r1.json())"
   ]
  },
  {
   "cell_type": "code",
   "execution_count": 5,
   "id": "6b2cda9f-57a9-42d7-bd83-887b3110996f",
   "metadata": {},
   "outputs": [
    {
     "name": "stdout",
     "output_type": "stream",
     "text": [
      "{'_id': '44zDEFUKvm', 'content': 'The more man meditates upon good thoughts, the better will be his world and the world at large.', 'author': 'Confucius', 'tags': ['Inspirational'], 'authorSlug': 'confucius', 'length': 95, 'dateAdded': '2020-10-29', 'dateModified': '2023-04-14'}\n"
     ]
    }
   ],
   "source": [
    "import requests\n",
    "\n",
    "url = 'https://covid-19.dataflowkit.com/v1/world'\n",
    "response = requests.get(url)\n",
    "print(r1.json())"
   ]
  },
  {
   "cell_type": "code",
   "execution_count": 9,
   "id": "10bdd876-0919-4e3c-8ba3-e3f0b31787ba",
   "metadata": {},
   "outputs": [
    {
     "name": "stdout",
     "output_type": "stream",
     "text": [
      "{'Active Cases_text': '+9,393', 'Country_text': 'World', 'Last Update': '2024-02-10 15:28', 'New Cases_text': '+1,510', 'New Deaths_text': '+6', 'Total Cases_text': '702,925,044', 'Total Deaths_text': '6,980,856', 'Total Recovered_text': '673,787,780'}\n"
     ]
    }
   ],
   "source": [
    "import requests\n",
    "url = 'https://covid-19.dataflowkit.com/v1/world'\n",
    "response = requests.get(url)\n",
    "\n",
    "content = response.json()\n",
    "print(content)"
   ]
  },
  {
   "cell_type": "code",
   "execution_count": 13,
   "id": "888f50cd-0c80-429e-82d5-f311595a48ea",
   "metadata": {},
   "outputs": [
    {
     "data": {
      "text/plain": [
       "{'Active Cases_text': '+9,393',\n",
       " 'Country_text': 'World',\n",
       " 'Last Update': '2024-02-10 15:28',\n",
       " 'New Cases_text': '+1,510',\n",
       " 'New Deaths_text': '+6',\n",
       " 'Total Cases_text': '702,925,044',\n",
       " 'Total Deaths_text': '6,980,856',\n",
       " 'Total Recovered_text': '673,787,780'}"
      ]
     },
     "execution_count": 13,
     "metadata": {},
     "output_type": "execute_result"
    }
   ],
   "source": [
    "# import requests\n",
    "requests.get('https://covid-19.dataflowkit.com/v1/world').json()"
   ]
  },
  {
   "cell_type": "code",
   "execution_count": 17,
   "id": "5d59a232-0f6e-48bb-a348-a7c86f61541d",
   "metadata": {},
   "outputs": [
    {
     "name": "stdout",
     "output_type": "stream",
     "text": [
      "2024-02-10 16:28\n",
      "World\n",
      "+9,393\n"
     ]
    }
   ],
   "source": [
    "import requests\n",
    "url = 'https://covid-19.dataflowkit.com/v1/world'\n",
    "response = requests.get(url)\n",
    "\n",
    "content = response.json()\n",
    "print(content['Last Update'])\n",
    "print(content['Country_text'])\n",
    "print(content['Active Cases_text'])"
   ]
  },
  {
   "cell_type": "code",
   "execution_count": 19,
   "id": "215aed70-130d-4341-b3e5-96e3b3dba413",
   "metadata": {},
   "outputs": [
    {
     "data": {
      "text/plain": [
       "200"
      ]
     },
     "execution_count": 19,
     "metadata": {},
     "output_type": "execute_result"
    }
   ],
   "source": [
    "response.status_code"
   ]
  },
  {
   "cell_type": "code",
   "execution_count": 20,
   "id": "8ca30685-d2e2-4689-8c88-dc162697a6de",
   "metadata": {},
   "outputs": [
    {
     "name": "stdout",
     "output_type": "stream",
     "text": [
      "2024-02-10 16:28\n",
      "World\n",
      "+9,393\n"
     ]
    }
   ],
   "source": [
    "import requests\n",
    "url = 'https://covid-19.dataflowkit.com/v1/world'\n",
    "response = requests.get(url)\n",
    "if response.status_code == 200:\n",
    "    content = response.json()\n",
    "    print(content['Last Update'])\n",
    "    print(content['Country_text'])\n",
    "    print(content['Active Cases_text'])\n",
    "else:\n",
    "    print(\"Connection problem, error number: \", response.status_code)"
   ]
  },
  {
   "cell_type": "code",
   "execution_count": 25,
   "id": "0177bbad-2acf-423f-82fc-2d9bda56d479",
   "metadata": {},
   "outputs": [
    {
     "name": "stdout",
     "output_type": "stream",
     "text": [
      "{'Last Update': '2024-02-10 16:28', 'Country_text': 'World', 'Active Cases_text': '+9,393'}\n"
     ]
    }
   ],
   "source": [
    "import requests\n",
    "url = 'https://covid-19.dataflowkit.com/v1/world'\n",
    "response = requests.get(url)\n",
    "if response.status_code == 200:\n",
    "    content = response.json()\n",
    "    dictionary = {\n",
    "    'Last Update': content['Last Update'],\n",
    "    'Country_text': content['Country_text'],\n",
    "    'Active Cases_text': content['Active Cases_text']\n",
    "    }\n",
    "    print(dictionary)\n",
    "else:\n",
    "    print(\"Connection problem, error number: \", response.status_code)"
   ]
  }
 ],
 "metadata": {
  "kernelspec": {
   "display_name": "Python 3 (ipykernel)",
   "language": "python",
   "name": "python3"
  },
  "language_info": {
   "codemirror_mode": {
    "name": "ipython",
    "version": 3
   },
   "file_extension": ".py",
   "mimetype": "text/x-python",
   "name": "python",
   "nbconvert_exporter": "python",
   "pygments_lexer": "ipython3",
   "version": "3.12.1"
  }
 },
 "nbformat": 4,
 "nbformat_minor": 5
}
