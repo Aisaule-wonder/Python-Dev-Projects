{
 "cells": [
  {
   "cell_type": "code",
   "execution_count": 29,
   "id": "ad16e645-097a-4e63-a7c7-ccad14d4a208",
   "metadata": {},
   "outputs": [],
   "source": [
    "import pandas as pd"
   ]
  },
  {
   "cell_type": "code",
   "execution_count": 44,
   "id": "c78873a1-3535-477c-b1f5-a58584d5a6d9",
   "metadata": {},
   "outputs": [
    {
     "data": {
      "text/html": [
       "<div>\n",
       "<style scoped>\n",
       "    .dataframe tbody tr th:only-of-type {\n",
       "        vertical-align: middle;\n",
       "    }\n",
       "\n",
       "    .dataframe tbody tr th {\n",
       "        vertical-align: top;\n",
       "    }\n",
       "\n",
       "    .dataframe thead th {\n",
       "        text-align: right;\n",
       "    }\n",
       "</style>\n",
       "<table border=\"1\" class=\"dataframe\">\n",
       "  <thead>\n",
       "    <tr style=\"text-align: right;\">\n",
       "      <th></th>\n",
       "      <th>Месяц</th>\n",
       "      <th>Продукт А</th>\n",
       "      <th>Продукт В</th>\n",
       "      <th>Продукт С</th>\n",
       "      <th>Продукт D</th>\n",
       "      <th>Выручка</th>\n",
       "    </tr>\n",
       "  </thead>\n",
       "  <tbody>\n",
       "    <tr>\n",
       "      <th>0</th>\n",
       "      <td>1</td>\n",
       "      <td>1500</td>\n",
       "      <td>2000</td>\n",
       "      <td>1000</td>\n",
       "      <td>500</td>\n",
       "      <td>50000</td>\n",
       "    </tr>\n",
       "    <tr>\n",
       "      <th>1</th>\n",
       "      <td>2</td>\n",
       "      <td>2000</td>\n",
       "      <td>2500</td>\n",
       "      <td>1500</td>\n",
       "      <td>750</td>\n",
       "      <td>70000</td>\n",
       "    </tr>\n",
       "    <tr>\n",
       "      <th>2</th>\n",
       "      <td>3</td>\n",
       "      <td>3000</td>\n",
       "      <td>3500</td>\n",
       "      <td>2000</td>\n",
       "      <td>1000</td>\n",
       "      <td>100000</td>\n",
       "    </tr>\n",
       "    <tr>\n",
       "      <th>3</th>\n",
       "      <td>4</td>\n",
       "      <td>2500</td>\n",
       "      <td>3000</td>\n",
       "      <td>1500</td>\n",
       "      <td>1000</td>\n",
       "      <td>85000</td>\n",
       "    </tr>\n",
       "  </tbody>\n",
       "</table>\n",
       "</div>"
      ],
      "text/plain": [
       "   Месяц  Продукт А  Продукт В  Продукт С  Продукт D  Выручка\n",
       "0      1       1500       2000       1000        500    50000\n",
       "1      2       2000       2500       1500        750    70000\n",
       "2      3       3000       3500       2000       1000   100000\n",
       "3      4       2500       3000       1500       1000    85000"
      ]
     },
     "execution_count": 44,
     "metadata": {},
     "output_type": "execute_result"
    }
   ],
   "source": [
    "data = pd.read_excel('sales1.xlsx')\n",
    "data"
   ]
  },
  {
   "cell_type": "code",
   "execution_count": 45,
   "id": "ba9798b3-0564-4930-94d7-edd5b1bc5973",
   "metadata": {},
   "outputs": [
    {
     "name": "stdout",
     "output_type": "stream",
     "text": [
      "Месяц        int64\n",
      "Продукт А    int64\n",
      "Продукт В    int64\n",
      "Продукт С    int64\n",
      "Продукт D    int64\n",
      "Выручка      int64\n",
      "dtype: object\n"
     ]
    }
   ],
   "source": [
    "print(data.dtypes)"
   ]
  },
  {
   "cell_type": "code",
   "execution_count": 46,
   "id": "3d5e876d-330d-42c7-a5ce-33ea3a47f024",
   "metadata": {},
   "outputs": [
    {
     "name": "stdout",
     "output_type": "stream",
     "text": [
      "Суммрная выручка компании: 305000\n"
     ]
    }
   ],
   "source": [
    "#Рассчитаем суммарную выручку компании за период:\n",
    "profit = data['Выручка'].sum()\n",
    "print('Суммрная выручка компании:',profit)"
   ]
  },
  {
   "cell_type": "code",
   "execution_count": 47,
   "id": "7967889d-4995-4e3b-9552-07f90641110e",
   "metadata": {},
   "outputs": [
    {
     "name": "stdout",
     "output_type": "stream",
     "text": [
      "Среднее значение продаж каждого продукта за период:\n",
      "Месяц            2.5\n",
      "Продукт А     2250.0\n",
      "Продукт В     2750.0\n",
      "Продукт С     1500.0\n",
      "Продукт D      812.5\n",
      "Выручка      76250.0\n",
      "dtype: float64\n"
     ]
    }
   ],
   "source": [
    "# Рассчитываем среднее значение продаж каждого продукта за период\n",
    "mean_sales = data.mean()\n",
    "\n",
    "print(\"Среднее значение продаж каждого продукта за период:\")\n",
    "print(mean_sales)"
   ]
  },
  {
   "cell_type": "code",
   "execution_count": 48,
   "id": "1b0b0004-b4ad-4d5b-bd99-8011e312ba88",
   "metadata": {},
   "outputs": [
    {
     "name": "stdout",
     "output_type": "stream",
     "text": [
      "Месяц            2.5\n",
      "Продукт А     2250.0\n",
      "Продукт В     2750.0\n",
      "Продукт С     1500.0\n",
      "Продукт D      812.5\n",
      "Выручка      76250.0\n",
      "dtype: float64\n"
     ]
    }
   ],
   "source": [
    "mean_sales = data.mean()\n",
    "print(mean_sales)"
   ]
  },
  {
   "cell_type": "code",
   "execution_count": 49,
   "id": "80b7e042-2c98-4627-8f93-c4e5593ef7c6",
   "metadata": {},
   "outputs": [
    {
     "name": "stdout",
     "output_type": "stream",
     "text": [
      "Медиана продаж каждого продукта за период:\n",
      "Месяц            2.5\n",
      "Продукт А     2250.0\n",
      "Продукт В     2750.0\n",
      "Продукт С     1500.0\n",
      "Продукт D      875.0\n",
      "Выручка      77500.0\n",
      "dtype: float64\n",
      "Мода продаж каждого продукта за период:\n",
      "Месяц            1.0\n",
      "Продукт А     1500.0\n",
      "Продукт В     2000.0\n",
      "Продукт С     1500.0\n",
      "Продукт D     1000.0\n",
      "Выручка      50000.0\n",
      "Name: 0, dtype: float64\n"
     ]
    }
   ],
   "source": [
    "# Рассчитываем медиану продаж каждого продукта за период\n",
    "median_sales = data.median()\n",
    "\n",
    "print(\"Медиана продаж каждого продукта за период:\")\n",
    "print(median_sales)\n",
    "\n",
    "# Рассчитываем моду продаж каждого продукта за период\n",
    "mode_sales = data.mode().iloc[0]\n",
    "\n",
    "print(\"Мода продаж каждого продукта за период:\")\n",
    "print(mode_sales)"
   ]
  },
  {
   "cell_type": "code",
   "execution_count": 50,
   "id": "c1dfcbe1-23fd-4e0d-8067-9b9377198152",
   "metadata": {},
   "outputs": [],
   "source": [
    "from collections import Counter\n",
    "\n",
    "def calculate_mode(arr):\n",
    "    count = Counter(arr)\n",
    "    freq_dict = dict(count)\n",
    "    mode = [k for k, v in freq_dict.items() if v == max(list(count.values()))]\n",
    "    if len(mode) == len(arr):\n",
    "        return None\n",
    "    else:\n",
    "        return mode"
   ]
  },
  {
   "cell_type": "code",
   "execution_count": 51,
   "id": "17a0d49d-56be-4d42-bd46-61c146083471",
   "metadata": {},
   "outputs": [
    {
     "name": "stdout",
     "output_type": "stream",
     "text": [
      "Мода для продукта Месяц: None\n",
      "Мода для продукта Продукт А: None\n",
      "Мода для продукта Продукт В: None\n",
      "Мода для продукта Продукт С: [1500]\n",
      "Мода для продукта Продукт D: [1000]\n",
      "Мода для продукта Выручка: None\n"
     ]
    }
   ],
   "source": [
    "#Этот код будет выводить None вместо минимального значения, если мода не определена\n",
    "for product in data:\n",
    "    product_sales = data[product]\n",
    "    product_mode = calculate_mode(product_sales)\n",
    "    print(f\"Мода для продукта {product}: {product_mode}\")"
   ]
  },
  {
   "cell_type": "code",
   "execution_count": 52,
   "id": "6a368ae3-8276-45c7-bd22-4a47e61801b4",
   "metadata": {},
   "outputs": [
    {
     "data": {
      "text/plain": [
       "<bound method DataFrame.mode of    Месяц  Продукт А  Продукт В  Продукт С  Продукт D  Выручка\n",
       "0      1       1500       2000       1000        500    50000\n",
       "1      2       2000       2500       1500        750    70000\n",
       "2      3       3000       3500       2000       1000   100000\n",
       "3      4       2500       3000       1500       1000    85000>"
      ]
     },
     "execution_count": 52,
     "metadata": {},
     "output_type": "execute_result"
    }
   ],
   "source": [
    "data.mode"
   ]
  },
  {
   "cell_type": "code",
   "execution_count": 53,
   "id": "0b0a4f1f-1e70-4daa-85fe-72ac6ba065c5",
   "metadata": {},
   "outputs": [
    {
     "name": "stdout",
     "output_type": "stream",
     "text": [
      "Медиана для продукта A: 2250.0\n",
      "Медиана для продукта B: 2750.0\n",
      "Медиана для продукта C: 1500.0\n",
      "Медиана для продукта D: 875.0\n"
     ]
    }
   ],
   "source": [
    "import numpy as np\n",
    "\n",
    "median_a = np.median(data['Продукт А'])\n",
    "median_b = np.median(data['Продукт В'])\n",
    "median_c = np.median(data['Продукт С'])\n",
    "median_d = np.median(data['Продукт D'])\n",
    "\n",
    "print(\"Медиана для продукта A:\", median_a)\n",
    "print(\"Медиана для продукта B:\", median_b)\n",
    "print(\"Медиана для продукта C:\", median_c)\n",
    "print(\"Медиана для продукта D:\", median_d)"
   ]
  }
 ],
 "metadata": {
  "kernelspec": {
   "display_name": "Python 3 (ipykernel)",
   "language": "python",
   "name": "python3"
  },
  "language_info": {
   "codemirror_mode": {
    "name": "ipython",
    "version": 3
   },
   "file_extension": ".py",
   "mimetype": "text/x-python",
   "name": "python",
   "nbconvert_exporter": "python",
   "pygments_lexer": "ipython3",
   "version": "3.12.1"
  }
 },
 "nbformat": 4,
 "nbformat_minor": 5
}
