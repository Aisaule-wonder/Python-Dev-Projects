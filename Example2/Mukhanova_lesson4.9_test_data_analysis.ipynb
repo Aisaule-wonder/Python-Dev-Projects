{
 "cells": [
  {
   "cell_type": "code",
   "execution_count": null,
   "id": "NdJ10fVyxZCp",
   "metadata": {
    "colab": {
     "base_uri": "https://localhost:8080/"
    },
    "id": "NdJ10fVyxZCp",
    "outputId": "dfa02cbe-da7a-4967-b086-80d85a5da068"
   },
   "outputs": [],
   "source": [
    "from google.colab import drive\n",
    "drive.mount('/content/drive')"
   ]
  },
  {
   "cell_type": "code",
   "execution_count": 3,
   "id": "DriWbHmFxY-3",
   "metadata": {
    "id": "DriWbHmFxY-3"
   },
   "outputs": [],
   "source": [
    "import pandas as pd\n",
    "import numpy as np\n",
    "\n",
    "telecom_df = pd.read_csv('telecom_churn.csv')"
   ]
  },
  {
   "cell_type": "code",
   "execution_count": 4,
   "id": "soyNPVLk8iia",
   "metadata": {
    "colab": {
     "base_uri": "https://localhost:8080/",
     "height": 314
    },
    "id": "soyNPVLk8iia",
    "outputId": "9532b304-2c9e-45d7-cf5d-0506d8a52afb"
   },
   "outputs": [
    {
     "data": {
      "text/html": [
       "<div>\n",
       "<style scoped>\n",
       "    .dataframe tbody tr th:only-of-type {\n",
       "        vertical-align: middle;\n",
       "    }\n",
       "\n",
       "    .dataframe tbody tr th {\n",
       "        vertical-align: top;\n",
       "    }\n",
       "\n",
       "    .dataframe thead th {\n",
       "        text-align: right;\n",
       "    }\n",
       "</style>\n",
       "<table border=\"1\" class=\"dataframe\">\n",
       "  <thead>\n",
       "    <tr style=\"text-align: right;\">\n",
       "      <th></th>\n",
       "      <th>state</th>\n",
       "      <th>account length</th>\n",
       "      <th>area code</th>\n",
       "      <th>phone number</th>\n",
       "      <th>international plan</th>\n",
       "      <th>voice mail plan</th>\n",
       "      <th>number vmail messages</th>\n",
       "      <th>total day minutes</th>\n",
       "      <th>total day calls</th>\n",
       "      <th>total day charge</th>\n",
       "      <th>...</th>\n",
       "      <th>total eve calls</th>\n",
       "      <th>total eve charge</th>\n",
       "      <th>total night minutes</th>\n",
       "      <th>total night calls</th>\n",
       "      <th>total night charge</th>\n",
       "      <th>total intl minutes</th>\n",
       "      <th>total intl calls</th>\n",
       "      <th>total intl charge</th>\n",
       "      <th>customer service calls</th>\n",
       "      <th>churn</th>\n",
       "    </tr>\n",
       "  </thead>\n",
       "  <tbody>\n",
       "    <tr>\n",
       "      <th>0</th>\n",
       "      <td>KS</td>\n",
       "      <td>128</td>\n",
       "      <td>415</td>\n",
       "      <td>382-4657</td>\n",
       "      <td>no</td>\n",
       "      <td>yes</td>\n",
       "      <td>25</td>\n",
       "      <td>265.1</td>\n",
       "      <td>110</td>\n",
       "      <td>45.07</td>\n",
       "      <td>...</td>\n",
       "      <td>99</td>\n",
       "      <td>16.78</td>\n",
       "      <td>244.7</td>\n",
       "      <td>91</td>\n",
       "      <td>11.01</td>\n",
       "      <td>10.0</td>\n",
       "      <td>3</td>\n",
       "      <td>2.70</td>\n",
       "      <td>1</td>\n",
       "      <td>False</td>\n",
       "    </tr>\n",
       "    <tr>\n",
       "      <th>1</th>\n",
       "      <td>OH</td>\n",
       "      <td>107</td>\n",
       "      <td>415</td>\n",
       "      <td>371-7191</td>\n",
       "      <td>no</td>\n",
       "      <td>yes</td>\n",
       "      <td>26</td>\n",
       "      <td>161.6</td>\n",
       "      <td>123</td>\n",
       "      <td>27.47</td>\n",
       "      <td>...</td>\n",
       "      <td>103</td>\n",
       "      <td>16.62</td>\n",
       "      <td>254.4</td>\n",
       "      <td>103</td>\n",
       "      <td>11.45</td>\n",
       "      <td>13.7</td>\n",
       "      <td>3</td>\n",
       "      <td>3.70</td>\n",
       "      <td>1</td>\n",
       "      <td>False</td>\n",
       "    </tr>\n",
       "    <tr>\n",
       "      <th>2</th>\n",
       "      <td>NJ</td>\n",
       "      <td>137</td>\n",
       "      <td>415</td>\n",
       "      <td>358-1921</td>\n",
       "      <td>no</td>\n",
       "      <td>no</td>\n",
       "      <td>0</td>\n",
       "      <td>243.4</td>\n",
       "      <td>114</td>\n",
       "      <td>41.38</td>\n",
       "      <td>...</td>\n",
       "      <td>110</td>\n",
       "      <td>10.30</td>\n",
       "      <td>162.6</td>\n",
       "      <td>104</td>\n",
       "      <td>7.32</td>\n",
       "      <td>12.2</td>\n",
       "      <td>5</td>\n",
       "      <td>3.29</td>\n",
       "      <td>0</td>\n",
       "      <td>False</td>\n",
       "    </tr>\n",
       "    <tr>\n",
       "      <th>3</th>\n",
       "      <td>OH</td>\n",
       "      <td>84</td>\n",
       "      <td>408</td>\n",
       "      <td>375-9999</td>\n",
       "      <td>yes</td>\n",
       "      <td>no</td>\n",
       "      <td>0</td>\n",
       "      <td>299.4</td>\n",
       "      <td>71</td>\n",
       "      <td>50.90</td>\n",
       "      <td>...</td>\n",
       "      <td>88</td>\n",
       "      <td>5.26</td>\n",
       "      <td>196.9</td>\n",
       "      <td>89</td>\n",
       "      <td>8.86</td>\n",
       "      <td>6.6</td>\n",
       "      <td>7</td>\n",
       "      <td>1.78</td>\n",
       "      <td>2</td>\n",
       "      <td>False</td>\n",
       "    </tr>\n",
       "    <tr>\n",
       "      <th>4</th>\n",
       "      <td>OK</td>\n",
       "      <td>75</td>\n",
       "      <td>415</td>\n",
       "      <td>330-6626</td>\n",
       "      <td>yes</td>\n",
       "      <td>no</td>\n",
       "      <td>0</td>\n",
       "      <td>166.7</td>\n",
       "      <td>113</td>\n",
       "      <td>28.34</td>\n",
       "      <td>...</td>\n",
       "      <td>122</td>\n",
       "      <td>12.61</td>\n",
       "      <td>186.9</td>\n",
       "      <td>121</td>\n",
       "      <td>8.41</td>\n",
       "      <td>10.1</td>\n",
       "      <td>3</td>\n",
       "      <td>2.73</td>\n",
       "      <td>3</td>\n",
       "      <td>False</td>\n",
       "    </tr>\n",
       "  </tbody>\n",
       "</table>\n",
       "<p>5 rows × 21 columns</p>\n",
       "</div>"
      ],
      "text/plain": [
       "  state  account length  area code phone number international plan  \\\n",
       "0    KS             128        415     382-4657                 no   \n",
       "1    OH             107        415     371-7191                 no   \n",
       "2    NJ             137        415     358-1921                 no   \n",
       "3    OH              84        408     375-9999                yes   \n",
       "4    OK              75        415     330-6626                yes   \n",
       "\n",
       "  voice mail plan  number vmail messages  total day minutes  total day calls  \\\n",
       "0             yes                     25              265.1              110   \n",
       "1             yes                     26              161.6              123   \n",
       "2              no                      0              243.4              114   \n",
       "3              no                      0              299.4               71   \n",
       "4              no                      0              166.7              113   \n",
       "\n",
       "   total day charge  ...  total eve calls  total eve charge  \\\n",
       "0             45.07  ...               99             16.78   \n",
       "1             27.47  ...              103             16.62   \n",
       "2             41.38  ...              110             10.30   \n",
       "3             50.90  ...               88              5.26   \n",
       "4             28.34  ...              122             12.61   \n",
       "\n",
       "   total night minutes  total night calls  total night charge  \\\n",
       "0                244.7                 91               11.01   \n",
       "1                254.4                103               11.45   \n",
       "2                162.6                104                7.32   \n",
       "3                196.9                 89                8.86   \n",
       "4                186.9                121                8.41   \n",
       "\n",
       "   total intl minutes  total intl calls  total intl charge  \\\n",
       "0                10.0                 3               2.70   \n",
       "1                13.7                 3               3.70   \n",
       "2                12.2                 5               3.29   \n",
       "3                 6.6                 7               1.78   \n",
       "4                10.1                 3               2.73   \n",
       "\n",
       "   customer service calls  churn  \n",
       "0                       1  False  \n",
       "1                       1  False  \n",
       "2                       0  False  \n",
       "3                       2  False  \n",
       "4                       3  False  \n",
       "\n",
       "[5 rows x 21 columns]"
      ]
     },
     "execution_count": 4,
     "metadata": {},
     "output_type": "execute_result"
    }
   ],
   "source": [
    "telecom_df.head()"
   ]
  },
  {
   "cell_type": "code",
   "execution_count": 6,
   "id": "dOsiSIKD8oz2",
   "metadata": {
    "colab": {
     "base_uri": "https://localhost:8080/"
    },
    "id": "dOsiSIKD8oz2",
    "outputId": "434c0c43-f62d-4aa0-a29b-c2d05586cf03"
   },
   "outputs": [
    {
     "data": {
      "text/plain": [
       "Index(['state', 'account length', 'area code', 'phone number',\n",
       "       'international plan', 'voice mail plan', 'number vmail messages',\n",
       "       'total day minutes', 'total day calls', 'total day charge',\n",
       "       'total eve minutes', 'total eve calls', 'total eve charge',\n",
       "       'total night minutes', 'total night calls', 'total night charge',\n",
       "       'total intl minutes', 'total intl calls', 'total intl charge',\n",
       "       'customer service calls', 'churn'],\n",
       "      dtype='object')"
      ]
     },
     "execution_count": 6,
     "metadata": {},
     "output_type": "execute_result"
    }
   ],
   "source": [
    "telecom_df.columns"
   ]
  },
  {
   "cell_type": "markdown",
   "id": "0c7dc41a",
   "metadata": {
    "id": "0c7dc41a"
   },
   "source": [
    "Какое среднее значение переменной Total day minutes?\n"
   ]
  },
  {
   "cell_type": "code",
   "execution_count": 7,
   "id": "143395de",
   "metadata": {
    "colab": {
     "base_uri": "https://localhost:8080/"
    },
    "id": "143395de",
    "outputId": "9db331a3-b40b-4d68-f9d6-60e1588c1c02"
   },
   "outputs": [
    {
     "name": "stdout",
     "output_type": "stream",
     "text": [
      "Среднее значение переменной Total day minutes -  179.77509750975094\n",
      "Округленное среднее значение переменной Total day minutes -  179.78\n"
     ]
    }
   ],
   "source": [
    "print(\"Среднее значение переменной Total day minutes - \",telecom_df['total day minutes'].mean())\n",
    "\n",
    "#округлим значение до двух знаков после запятой\n",
    "print(\"Округленное среднее значение переменной Total day minutes - \",round(telecom_df['total day minutes'].mean(),2))\n",
    "#Round — встроенная функция Python. Ее задача — округлять число с плавающей точкой до той цифры, которую задает пользователь. \n",
    "#Если ее не задать, то возвращается ближайшее целое число, ведь значением по умолчанию является 0."
   ]
  },
  {
   "cell_type": "markdown",
   "id": "0ecad10b",
   "metadata": {
    "id": "0ecad10b"
   },
   "source": [
    "Сколько времени (в среднем) пользователи которые перешли на услуги другой компании (Churn==1) проводят на телефоне в дневное время?"
   ]
  },
  {
   "cell_type": "code",
   "execution_count": 8,
   "id": "66fca322",
   "metadata": {
    "colab": {
     "base_uri": "https://localhost:8080/"
    },
    "id": "66fca322",
    "outputId": "dfe1b65a-ac93-496b-ce76-ef3f3be5d6ac"
   },
   "outputs": [
    {
     "data": {
      "text/plain": [
       "206.91"
      ]
     },
     "execution_count": 8,
     "metadata": {},
     "output_type": "execute_result"
    }
   ],
   "source": [
    "round(telecom_df[telecom_df['churn']==1]['total day minutes'].mean(),2)"
   ]
  },
  {
   "cell_type": "markdown",
   "id": "36dae0f6",
   "metadata": {
    "id": "36dae0f6"
   },
   "source": [
    "Какова максимальная продолжительность международных звонков среди постоянных пользователей (Churn == 0), у которых нет международного тарифного плана?"
   ]
  },
  {
   "cell_type": "code",
   "execution_count": 9,
   "id": "d906fd64",
   "metadata": {
    "colab": {
     "base_uri": "https://localhost:8080/"
    },
    "id": "d906fd64",
    "outputId": "b5bac9ca-fdb2-4f6c-8ba4-613cc7981d97"
   },
   "outputs": [
    {
     "data": {
      "text/plain": [
       "18.9"
      ]
     },
     "execution_count": 9,
     "metadata": {},
     "output_type": "execute_result"
    }
   ],
   "source": [
    "telecom_df[(telecom_df['churn'] == 0) & (telecom_df['international plan'] == 'no')]['total intl minutes'].max()"
   ]
  },
  {
   "cell_type": "markdown",
   "id": "72BMgZ6C5PT2",
   "metadata": {
    "id": "72BMgZ6C5PT2"
   },
   "source": [
    "Какое значение медианы для количества дневных звонков?"
   ]
  },
  {
   "cell_type": "code",
   "execution_count": 10,
   "id": "JKH9NZDW5SpF",
   "metadata": {
    "colab": {
     "base_uri": "https://localhost:8080/"
    },
    "id": "JKH9NZDW5SpF",
    "outputId": "0f6fcc52-a256-4370-e45f-d264fee30d1c"
   },
   "outputs": [
    {
     "data": {
      "text/plain": [
       "101.0"
      ]
     },
     "execution_count": 10,
     "metadata": {},
     "output_type": "execute_result"
    }
   ],
   "source": [
    "telecom_df['total day calls'].median()"
   ]
  },
  {
   "cell_type": "markdown",
   "id": "ipmm9-9F86Gx",
   "metadata": {
    "id": "ipmm9-9F86Gx"
   },
   "source": [
    "25-й процентиль переменной \"Total Eve Calls\" равен 87.0. Дайте интерпретацию этому утверждению."
   ]
  },
  {
   "cell_type": "code",
   "execution_count": 18,
   "id": "8rmfZYag847b",
   "metadata": {
    "colab": {
     "base_uri": "https://localhost:8080/"
    },
    "id": "8rmfZYag847b",
    "outputId": "5c0046e7-68bd-4292-fc1e-dfd342e3b89f"
   },
   "outputs": [
    {
     "data": {
      "text/plain": [
       "count    3333.000000\n",
       "mean      100.114311\n",
       "std        19.922625\n",
       "min         0.000000\n",
       "25%        87.000000\n",
       "50%       100.000000\n",
       "75%       114.000000\n",
       "max       170.000000\n",
       "Name: total eve calls, dtype: float64"
      ]
     },
     "execution_count": 18,
     "metadata": {},
     "output_type": "execute_result"
    }
   ],
   "source": [
    "#необходимо найти 25-Й процентиль\n",
    "#это можно сделать через функцию percentile (библиотека numpy) - np.percentile(telecom_df['total eve calls'],[25])\n",
    "\n",
    "#или просто вывести основную описатульную ифнорацию через функцию describe()\n",
    "telecom_df['total eve calls'].describe()"
   ]
  },
  {
   "cell_type": "markdown",
   "id": "5h8xV7D2-LZZ",
   "metadata": {
    "id": "5h8xV7D2-LZZ"
   },
   "source": [
    "Посчитайте интерквартильный размах для переменной Total night minutes\n"
   ]
  },
  {
   "cell_type": "code",
   "execution_count": 19,
   "id": "VTYeEn7s-KL0",
   "metadata": {
    "colab": {
     "base_uri": "https://localhost:8080/"
    },
    "id": "VTYeEn7s-KL0",
    "outputId": "56cca9f8-5ad5-4953-f921-c3cb6a552afb"
   },
   "outputs": [
    {
     "name": "stdout",
     "output_type": "stream",
     "text": [
      "Интерквартильный размах для переменной Total night minutes:  [68.3]\n"
     ]
    }
   ],
   "source": [
    "q1 = np.percentile(telecom_df['total night minutes'],[25]) #первый квартиль\n",
    "q3 = np.percentile(telecom_df['total night minutes'],[75]) #третий квартиль\n",
    "\n",
    "#интеквартильный размех\n",
    "iqr = q3 - q1 \n",
    "print(\"Интерквартильный размах для переменной Total night minutes: \",iqr)"
   ]
  },
  {
   "cell_type": "markdown",
   "id": "tiuXdwRY-0xS",
   "metadata": {
    "id": "tiuXdwRY-0xS"
   },
   "source": [
    "При помощи какого метода Pandas можно узнать моду для переменной?\n"
   ]
  },
  {
   "cell_type": "code",
   "execution_count": 21,
   "id": "Ibrj3Kv6-ysM",
   "metadata": {
    "colab": {
     "base_uri": "https://localhost:8080/"
    },
    "id": "Ibrj3Kv6-ysM",
    "outputId": "13398696-7350-4977-cb25-8ce54fd38004"
   },
   "outputs": [
    {
     "name": "stdout",
     "output_type": "stream",
     "text": [
      "<class 'pandas.core.frame.DataFrame'>\n",
      "RangeIndex: 3333 entries, 0 to 3332\n",
      "Data columns (total 21 columns):\n",
      " #   Column                  Non-Null Count  Dtype  \n",
      "---  ------                  --------------  -----  \n",
      " 0   state                   3333 non-null   object \n",
      " 1   account length          3333 non-null   int64  \n",
      " 2   area code               3333 non-null   int64  \n",
      " 3   phone number            3333 non-null   object \n",
      " 4   international plan      3333 non-null   object \n",
      " 5   voice mail plan         3333 non-null   object \n",
      " 6   number vmail messages   3333 non-null   int64  \n",
      " 7   total day minutes       3333 non-null   float64\n",
      " 8   total day calls         3333 non-null   int64  \n",
      " 9   total day charge        3333 non-null   float64\n",
      " 10  total eve minutes       3333 non-null   float64\n",
      " 11  total eve calls         3333 non-null   int64  \n",
      " 12  total eve charge        3333 non-null   float64\n",
      " 13  total night minutes     3333 non-null   float64\n",
      " 14  total night calls       3333 non-null   int64  \n",
      " 15  total night charge      3333 non-null   float64\n",
      " 16  total intl minutes      3333 non-null   float64\n",
      " 17  total intl calls        3333 non-null   int64  \n",
      " 18  total intl charge       3333 non-null   float64\n",
      " 19  customer service calls  3333 non-null   int64  \n",
      " 20  churn                   3333 non-null   bool   \n",
      "dtypes: bool(1), float64(8), int64(8), object(4)\n",
      "memory usage: 524.2+ KB\n"
     ]
    }
   ],
   "source": [
    "#Функция info() - показывает сведения о датафрейме\n",
    "#В сведения о датафрейме входит общая информация о нём вроде заголовка, количества значений, типов данных столбцов.\n",
    "telecom_df.info()"
   ]
  },
  {
   "cell_type": "code",
   "execution_count": 22,
   "id": "2lyHpfEg-7ej",
   "metadata": {
    "colab": {
     "base_uri": "https://localhost:8080/",
     "height": 502
    },
    "id": "2lyHpfEg-7ej",
    "outputId": "65a71086-a627-4bc6-c4c0-78ae665c1df8"
   },
   "outputs": [
    {
     "data": {
      "text/html": [
       "<div>\n",
       "<style scoped>\n",
       "    .dataframe tbody tr th:only-of-type {\n",
       "        vertical-align: middle;\n",
       "    }\n",
       "\n",
       "    .dataframe tbody tr th {\n",
       "        vertical-align: top;\n",
       "    }\n",
       "\n",
       "    .dataframe thead th {\n",
       "        text-align: right;\n",
       "    }\n",
       "</style>\n",
       "<table border=\"1\" class=\"dataframe\">\n",
       "  <thead>\n",
       "    <tr style=\"text-align: right;\">\n",
       "      <th></th>\n",
       "      <th>state</th>\n",
       "      <th>account length</th>\n",
       "      <th>area code</th>\n",
       "      <th>phone number</th>\n",
       "      <th>international plan</th>\n",
       "      <th>voice mail plan</th>\n",
       "      <th>number vmail messages</th>\n",
       "      <th>total day minutes</th>\n",
       "      <th>total day calls</th>\n",
       "      <th>total day charge</th>\n",
       "      <th>...</th>\n",
       "      <th>total eve calls</th>\n",
       "      <th>total eve charge</th>\n",
       "      <th>total night minutes</th>\n",
       "      <th>total night calls</th>\n",
       "      <th>total night charge</th>\n",
       "      <th>total intl minutes</th>\n",
       "      <th>total intl calls</th>\n",
       "      <th>total intl charge</th>\n",
       "      <th>customer service calls</th>\n",
       "      <th>churn</th>\n",
       "    </tr>\n",
       "  </thead>\n",
       "  <tbody>\n",
       "    <tr>\n",
       "      <th>1121</th>\n",
       "      <td>MI</td>\n",
       "      <td>91</td>\n",
       "      <td>415</td>\n",
       "      <td>390-7930</td>\n",
       "      <td>no</td>\n",
       "      <td>no</td>\n",
       "      <td>0</td>\n",
       "      <td>154.4</td>\n",
       "      <td>165</td>\n",
       "      <td>26.25</td>\n",
       "      <td>...</td>\n",
       "      <td>121</td>\n",
       "      <td>14.31</td>\n",
       "      <td>239.9</td>\n",
       "      <td>81</td>\n",
       "      <td>10.80</td>\n",
       "      <td>11.7</td>\n",
       "      <td>4</td>\n",
       "      <td>3.16</td>\n",
       "      <td>5</td>\n",
       "      <td>True</td>\n",
       "    </tr>\n",
       "    <tr>\n",
       "      <th>468</th>\n",
       "      <td>AZ</td>\n",
       "      <td>86</td>\n",
       "      <td>415</td>\n",
       "      <td>392-2381</td>\n",
       "      <td>no</td>\n",
       "      <td>yes</td>\n",
       "      <td>32</td>\n",
       "      <td>70.9</td>\n",
       "      <td>163</td>\n",
       "      <td>12.05</td>\n",
       "      <td>...</td>\n",
       "      <td>121</td>\n",
       "      <td>14.17</td>\n",
       "      <td>244.9</td>\n",
       "      <td>105</td>\n",
       "      <td>11.02</td>\n",
       "      <td>11.1</td>\n",
       "      <td>5</td>\n",
       "      <td>3.00</td>\n",
       "      <td>3</td>\n",
       "      <td>False</td>\n",
       "    </tr>\n",
       "    <tr>\n",
       "      <th>1460</th>\n",
       "      <td>MT</td>\n",
       "      <td>80</td>\n",
       "      <td>415</td>\n",
       "      <td>361-8288</td>\n",
       "      <td>no</td>\n",
       "      <td>no</td>\n",
       "      <td>0</td>\n",
       "      <td>198.1</td>\n",
       "      <td>160</td>\n",
       "      <td>33.68</td>\n",
       "      <td>...</td>\n",
       "      <td>87</td>\n",
       "      <td>13.32</td>\n",
       "      <td>182.1</td>\n",
       "      <td>76</td>\n",
       "      <td>8.19</td>\n",
       "      <td>9.3</td>\n",
       "      <td>3</td>\n",
       "      <td>2.51</td>\n",
       "      <td>3</td>\n",
       "      <td>False</td>\n",
       "    </tr>\n",
       "    <tr>\n",
       "      <th>2392</th>\n",
       "      <td>WY</td>\n",
       "      <td>90</td>\n",
       "      <td>510</td>\n",
       "      <td>400-8069</td>\n",
       "      <td>no</td>\n",
       "      <td>no</td>\n",
       "      <td>0</td>\n",
       "      <td>125.4</td>\n",
       "      <td>158</td>\n",
       "      <td>21.32</td>\n",
       "      <td>...</td>\n",
       "      <td>83</td>\n",
       "      <td>22.87</td>\n",
       "      <td>238.6</td>\n",
       "      <td>103</td>\n",
       "      <td>10.74</td>\n",
       "      <td>11.0</td>\n",
       "      <td>7</td>\n",
       "      <td>2.97</td>\n",
       "      <td>1</td>\n",
       "      <td>False</td>\n",
       "    </tr>\n",
       "    <tr>\n",
       "      <th>1057</th>\n",
       "      <td>WV</td>\n",
       "      <td>86</td>\n",
       "      <td>415</td>\n",
       "      <td>332-2258</td>\n",
       "      <td>no</td>\n",
       "      <td>yes</td>\n",
       "      <td>38</td>\n",
       "      <td>123.0</td>\n",
       "      <td>158</td>\n",
       "      <td>20.91</td>\n",
       "      <td>...</td>\n",
       "      <td>119</td>\n",
       "      <td>11.38</td>\n",
       "      <td>138.2</td>\n",
       "      <td>103</td>\n",
       "      <td>6.22</td>\n",
       "      <td>13.3</td>\n",
       "      <td>4</td>\n",
       "      <td>3.59</td>\n",
       "      <td>1</td>\n",
       "      <td>False</td>\n",
       "    </tr>\n",
       "    <tr>\n",
       "      <th>...</th>\n",
       "      <td>...</td>\n",
       "      <td>...</td>\n",
       "      <td>...</td>\n",
       "      <td>...</td>\n",
       "      <td>...</td>\n",
       "      <td>...</td>\n",
       "      <td>...</td>\n",
       "      <td>...</td>\n",
       "      <td>...</td>\n",
       "      <td>...</td>\n",
       "      <td>...</td>\n",
       "      <td>...</td>\n",
       "      <td>...</td>\n",
       "      <td>...</td>\n",
       "      <td>...</td>\n",
       "      <td>...</td>\n",
       "      <td>...</td>\n",
       "      <td>...</td>\n",
       "      <td>...</td>\n",
       "      <td>...</td>\n",
       "      <td>...</td>\n",
       "    </tr>\n",
       "    <tr>\n",
       "      <th>692</th>\n",
       "      <td>NE</td>\n",
       "      <td>82</td>\n",
       "      <td>408</td>\n",
       "      <td>343-2741</td>\n",
       "      <td>no</td>\n",
       "      <td>no</td>\n",
       "      <td>0</td>\n",
       "      <td>185.8</td>\n",
       "      <td>36</td>\n",
       "      <td>31.59</td>\n",
       "      <td>...</td>\n",
       "      <td>134</td>\n",
       "      <td>23.50</td>\n",
       "      <td>192.1</td>\n",
       "      <td>104</td>\n",
       "      <td>8.64</td>\n",
       "      <td>5.7</td>\n",
       "      <td>7</td>\n",
       "      <td>1.54</td>\n",
       "      <td>4</td>\n",
       "      <td>False</td>\n",
       "    </tr>\n",
       "    <tr>\n",
       "      <th>1989</th>\n",
       "      <td>MT</td>\n",
       "      <td>124</td>\n",
       "      <td>415</td>\n",
       "      <td>420-5652</td>\n",
       "      <td>no</td>\n",
       "      <td>yes</td>\n",
       "      <td>30</td>\n",
       "      <td>144.5</td>\n",
       "      <td>35</td>\n",
       "      <td>24.57</td>\n",
       "      <td>...</td>\n",
       "      <td>101</td>\n",
       "      <td>22.30</td>\n",
       "      <td>226.5</td>\n",
       "      <td>82</td>\n",
       "      <td>10.19</td>\n",
       "      <td>12.0</td>\n",
       "      <td>7</td>\n",
       "      <td>3.24</td>\n",
       "      <td>2</td>\n",
       "      <td>False</td>\n",
       "    </tr>\n",
       "    <tr>\n",
       "      <th>1144</th>\n",
       "      <td>NH</td>\n",
       "      <td>155</td>\n",
       "      <td>408</td>\n",
       "      <td>353-6300</td>\n",
       "      <td>no</td>\n",
       "      <td>no</td>\n",
       "      <td>0</td>\n",
       "      <td>216.7</td>\n",
       "      <td>30</td>\n",
       "      <td>36.84</td>\n",
       "      <td>...</td>\n",
       "      <td>125</td>\n",
       "      <td>12.27</td>\n",
       "      <td>135.3</td>\n",
       "      <td>106</td>\n",
       "      <td>6.09</td>\n",
       "      <td>10.8</td>\n",
       "      <td>1</td>\n",
       "      <td>2.92</td>\n",
       "      <td>2</td>\n",
       "      <td>False</td>\n",
       "    </tr>\n",
       "    <tr>\n",
       "      <th>1397</th>\n",
       "      <td>VT</td>\n",
       "      <td>101</td>\n",
       "      <td>510</td>\n",
       "      <td>413-7655</td>\n",
       "      <td>no</td>\n",
       "      <td>no</td>\n",
       "      <td>0</td>\n",
       "      <td>0.0</td>\n",
       "      <td>0</td>\n",
       "      <td>0.00</td>\n",
       "      <td>...</td>\n",
       "      <td>119</td>\n",
       "      <td>16.33</td>\n",
       "      <td>168.8</td>\n",
       "      <td>95</td>\n",
       "      <td>7.60</td>\n",
       "      <td>7.2</td>\n",
       "      <td>4</td>\n",
       "      <td>1.94</td>\n",
       "      <td>1</td>\n",
       "      <td>False</td>\n",
       "    </tr>\n",
       "    <tr>\n",
       "      <th>1345</th>\n",
       "      <td>SD</td>\n",
       "      <td>98</td>\n",
       "      <td>415</td>\n",
       "      <td>392-2555</td>\n",
       "      <td>no</td>\n",
       "      <td>no</td>\n",
       "      <td>0</td>\n",
       "      <td>0.0</td>\n",
       "      <td>0</td>\n",
       "      <td>0.00</td>\n",
       "      <td>...</td>\n",
       "      <td>130</td>\n",
       "      <td>13.57</td>\n",
       "      <td>167.1</td>\n",
       "      <td>88</td>\n",
       "      <td>7.52</td>\n",
       "      <td>6.8</td>\n",
       "      <td>1</td>\n",
       "      <td>1.84</td>\n",
       "      <td>4</td>\n",
       "      <td>True</td>\n",
       "    </tr>\n",
       "  </tbody>\n",
       "</table>\n",
       "<p>3333 rows × 21 columns</p>\n",
       "</div>"
      ],
      "text/plain": [
       "     state  account length  area code phone number international plan  \\\n",
       "1121    MI              91        415     390-7930                 no   \n",
       "468     AZ              86        415     392-2381                 no   \n",
       "1460    MT              80        415     361-8288                 no   \n",
       "2392    WY              90        510     400-8069                 no   \n",
       "1057    WV              86        415     332-2258                 no   \n",
       "...    ...             ...        ...          ...                ...   \n",
       "692     NE              82        408     343-2741                 no   \n",
       "1989    MT             124        415     420-5652                 no   \n",
       "1144    NH             155        408     353-6300                 no   \n",
       "1397    VT             101        510     413-7655                 no   \n",
       "1345    SD              98        415     392-2555                 no   \n",
       "\n",
       "     voice mail plan  number vmail messages  total day minutes  \\\n",
       "1121              no                      0              154.4   \n",
       "468              yes                     32               70.9   \n",
       "1460              no                      0              198.1   \n",
       "2392              no                      0              125.4   \n",
       "1057             yes                     38              123.0   \n",
       "...              ...                    ...                ...   \n",
       "692               no                      0              185.8   \n",
       "1989             yes                     30              144.5   \n",
       "1144              no                      0              216.7   \n",
       "1397              no                      0                0.0   \n",
       "1345              no                      0                0.0   \n",
       "\n",
       "      total day calls  total day charge  ...  total eve calls  \\\n",
       "1121              165             26.25  ...              121   \n",
       "468               163             12.05  ...              121   \n",
       "1460              160             33.68  ...               87   \n",
       "2392              158             21.32  ...               83   \n",
       "1057              158             20.91  ...              119   \n",
       "...               ...               ...  ...              ...   \n",
       "692                36             31.59  ...              134   \n",
       "1989               35             24.57  ...              101   \n",
       "1144               30             36.84  ...              125   \n",
       "1397                0              0.00  ...              119   \n",
       "1345                0              0.00  ...              130   \n",
       "\n",
       "      total eve charge  total night minutes  total night calls  \\\n",
       "1121             14.31                239.9                 81   \n",
       "468              14.17                244.9                105   \n",
       "1460             13.32                182.1                 76   \n",
       "2392             22.87                238.6                103   \n",
       "1057             11.38                138.2                103   \n",
       "...                ...                  ...                ...   \n",
       "692              23.50                192.1                104   \n",
       "1989             22.30                226.5                 82   \n",
       "1144             12.27                135.3                106   \n",
       "1397             16.33                168.8                 95   \n",
       "1345             13.57                167.1                 88   \n",
       "\n",
       "      total night charge  total intl minutes  total intl calls  \\\n",
       "1121               10.80                11.7                 4   \n",
       "468                11.02                11.1                 5   \n",
       "1460                8.19                 9.3                 3   \n",
       "2392               10.74                11.0                 7   \n",
       "1057                6.22                13.3                 4   \n",
       "...                  ...                 ...               ...   \n",
       "692                 8.64                 5.7                 7   \n",
       "1989               10.19                12.0                 7   \n",
       "1144                6.09                10.8                 1   \n",
       "1397                7.60                 7.2                 4   \n",
       "1345                7.52                 6.8                 1   \n",
       "\n",
       "      total intl charge  customer service calls  churn  \n",
       "1121               3.16                       5   True  \n",
       "468                3.00                       3  False  \n",
       "1460               2.51                       3  False  \n",
       "2392               2.97                       1  False  \n",
       "1057               3.59                       1  False  \n",
       "...                 ...                     ...    ...  \n",
       "692                1.54                       4  False  \n",
       "1989               3.24                       2  False  \n",
       "1144               2.92                       2  False  \n",
       "1397               1.94                       1  False  \n",
       "1345               1.84                       4   True  \n",
       "\n",
       "[3333 rows x 21 columns]"
      ]
     },
     "execution_count": 22,
     "metadata": {},
     "output_type": "execute_result"
    }
   ],
   "source": [
    "#Для сортировки датафреймов по значениям столбцов можно воспользоваться функцией df.sort_values:\n",
    "telecom_df.sort_values('total day calls', ascending=False)"
   ]
  },
  {
   "cell_type": "code",
   "execution_count": 23,
   "id": "62Dl5Qn0-8fW",
   "metadata": {
    "colab": {
     "base_uri": "https://localhost:8080/"
    },
    "id": "62Dl5Qn0-8fW",
    "outputId": "1ac433b0-146b-470c-b327-95686b5c12b7"
   },
   "outputs": [
    {
     "data": {
      "text/plain": [
       "0    102\n",
       "Name: total day calls, dtype: int64"
      ]
     },
     "execution_count": 23,
     "metadata": {},
     "output_type": "execute_result"
    }
   ],
   "source": [
    "#Вы знаете, что Мо́да — значение во множестве наблюдений, которое встречается наиболее часто.\n",
    "#еще можно вывести с помощью стандартной функции\n",
    "telecom_df['total day calls'].mode()"
   ]
  },
  {
   "cell_type": "code",
   "execution_count": 24,
   "id": "ZEdzxq-6AgbE",
   "metadata": {
    "colab": {
     "base_uri": "https://localhost:8080/"
    },
    "id": "ZEdzxq-6AgbE",
    "outputId": "b3d5c0aa-4b3d-47a6-fe3e-2ff7235288b6"
   },
   "outputs": [
    {
     "data": {
      "text/plain": [
       "total day calls\n",
       "102    78\n",
       "105    75\n",
       "95     69\n",
       "107    69\n",
       "104    68\n",
       "       ..\n",
       "149     1\n",
       "163     1\n",
       "30      1\n",
       "165     1\n",
       "36      1\n",
       "Name: count, Length: 119, dtype: int64"
      ]
     },
     "execution_count": 24,
     "metadata": {},
     "output_type": "execute_result"
    }
   ],
   "source": [
    "#А можно использовать и другой функций, которая подсчитает сколько то или иное значение встречается в колонке, альтернативное решение и ответ\n",
    "#Для того чтобы подсчитать количество значений в конкретном столбце, можно воспользоваться следующей конструкцией:\n",
    "telecom_df['total day calls'].value_counts()"
   ]
  },
  {
   "cell_type": "code",
   "execution_count": 25,
   "id": "dHZJMdiA-84H",
   "metadata": {
    "colab": {
     "base_uri": "https://localhost:8080/",
     "height": 362
    },
    "id": "dHZJMdiA-84H",
    "outputId": "780f404e-5adf-4cd4-e2d9-53bea273d632"
   },
   "outputs": [
    {
     "data": {
      "text/html": [
       "<div>\n",
       "<style scoped>\n",
       "    .dataframe tbody tr th:only-of-type {\n",
       "        vertical-align: middle;\n",
       "    }\n",
       "\n",
       "    .dataframe tbody tr th {\n",
       "        vertical-align: top;\n",
       "    }\n",
       "\n",
       "    .dataframe thead th {\n",
       "        text-align: right;\n",
       "    }\n",
       "</style>\n",
       "<table border=\"1\" class=\"dataframe\">\n",
       "  <thead>\n",
       "    <tr style=\"text-align: right;\">\n",
       "      <th></th>\n",
       "      <th>account length</th>\n",
       "      <th>area code</th>\n",
       "      <th>number vmail messages</th>\n",
       "      <th>total day minutes</th>\n",
       "      <th>total day calls</th>\n",
       "      <th>total day charge</th>\n",
       "      <th>total eve minutes</th>\n",
       "      <th>total eve calls</th>\n",
       "      <th>total eve charge</th>\n",
       "      <th>total night minutes</th>\n",
       "      <th>total night calls</th>\n",
       "      <th>total night charge</th>\n",
       "      <th>total intl minutes</th>\n",
       "      <th>total intl calls</th>\n",
       "      <th>total intl charge</th>\n",
       "      <th>customer service calls</th>\n",
       "    </tr>\n",
       "  </thead>\n",
       "  <tbody>\n",
       "    <tr>\n",
       "      <th>count</th>\n",
       "      <td>3333.000000</td>\n",
       "      <td>3333.000000</td>\n",
       "      <td>3333.000000</td>\n",
       "      <td>3333.000000</td>\n",
       "      <td>3333.000000</td>\n",
       "      <td>3333.000000</td>\n",
       "      <td>3333.000000</td>\n",
       "      <td>3333.000000</td>\n",
       "      <td>3333.000000</td>\n",
       "      <td>3333.000000</td>\n",
       "      <td>3333.000000</td>\n",
       "      <td>3333.000000</td>\n",
       "      <td>3333.000000</td>\n",
       "      <td>3333.000000</td>\n",
       "      <td>3333.000000</td>\n",
       "      <td>3333.000000</td>\n",
       "    </tr>\n",
       "    <tr>\n",
       "      <th>mean</th>\n",
       "      <td>101.064806</td>\n",
       "      <td>437.182418</td>\n",
       "      <td>8.099010</td>\n",
       "      <td>179.775098</td>\n",
       "      <td>100.435644</td>\n",
       "      <td>30.562307</td>\n",
       "      <td>200.980348</td>\n",
       "      <td>100.114311</td>\n",
       "      <td>17.083540</td>\n",
       "      <td>200.872037</td>\n",
       "      <td>100.107711</td>\n",
       "      <td>9.039325</td>\n",
       "      <td>10.237294</td>\n",
       "      <td>4.479448</td>\n",
       "      <td>2.764581</td>\n",
       "      <td>1.562856</td>\n",
       "    </tr>\n",
       "    <tr>\n",
       "      <th>std</th>\n",
       "      <td>39.822106</td>\n",
       "      <td>42.371290</td>\n",
       "      <td>13.688365</td>\n",
       "      <td>54.467389</td>\n",
       "      <td>20.069084</td>\n",
       "      <td>9.259435</td>\n",
       "      <td>50.713844</td>\n",
       "      <td>19.922625</td>\n",
       "      <td>4.310668</td>\n",
       "      <td>50.573847</td>\n",
       "      <td>19.568609</td>\n",
       "      <td>2.275873</td>\n",
       "      <td>2.791840</td>\n",
       "      <td>2.461214</td>\n",
       "      <td>0.753773</td>\n",
       "      <td>1.315491</td>\n",
       "    </tr>\n",
       "    <tr>\n",
       "      <th>min</th>\n",
       "      <td>1.000000</td>\n",
       "      <td>408.000000</td>\n",
       "      <td>0.000000</td>\n",
       "      <td>0.000000</td>\n",
       "      <td>0.000000</td>\n",
       "      <td>0.000000</td>\n",
       "      <td>0.000000</td>\n",
       "      <td>0.000000</td>\n",
       "      <td>0.000000</td>\n",
       "      <td>23.200000</td>\n",
       "      <td>33.000000</td>\n",
       "      <td>1.040000</td>\n",
       "      <td>0.000000</td>\n",
       "      <td>0.000000</td>\n",
       "      <td>0.000000</td>\n",
       "      <td>0.000000</td>\n",
       "    </tr>\n",
       "    <tr>\n",
       "      <th>25%</th>\n",
       "      <td>74.000000</td>\n",
       "      <td>408.000000</td>\n",
       "      <td>0.000000</td>\n",
       "      <td>143.700000</td>\n",
       "      <td>87.000000</td>\n",
       "      <td>24.430000</td>\n",
       "      <td>166.600000</td>\n",
       "      <td>87.000000</td>\n",
       "      <td>14.160000</td>\n",
       "      <td>167.000000</td>\n",
       "      <td>87.000000</td>\n",
       "      <td>7.520000</td>\n",
       "      <td>8.500000</td>\n",
       "      <td>3.000000</td>\n",
       "      <td>2.300000</td>\n",
       "      <td>1.000000</td>\n",
       "    </tr>\n",
       "    <tr>\n",
       "      <th>50%</th>\n",
       "      <td>101.000000</td>\n",
       "      <td>415.000000</td>\n",
       "      <td>0.000000</td>\n",
       "      <td>179.400000</td>\n",
       "      <td>101.000000</td>\n",
       "      <td>30.500000</td>\n",
       "      <td>201.400000</td>\n",
       "      <td>100.000000</td>\n",
       "      <td>17.120000</td>\n",
       "      <td>201.200000</td>\n",
       "      <td>100.000000</td>\n",
       "      <td>9.050000</td>\n",
       "      <td>10.300000</td>\n",
       "      <td>4.000000</td>\n",
       "      <td>2.780000</td>\n",
       "      <td>1.000000</td>\n",
       "    </tr>\n",
       "    <tr>\n",
       "      <th>75%</th>\n",
       "      <td>127.000000</td>\n",
       "      <td>510.000000</td>\n",
       "      <td>20.000000</td>\n",
       "      <td>216.400000</td>\n",
       "      <td>114.000000</td>\n",
       "      <td>36.790000</td>\n",
       "      <td>235.300000</td>\n",
       "      <td>114.000000</td>\n",
       "      <td>20.000000</td>\n",
       "      <td>235.300000</td>\n",
       "      <td>113.000000</td>\n",
       "      <td>10.590000</td>\n",
       "      <td>12.100000</td>\n",
       "      <td>6.000000</td>\n",
       "      <td>3.270000</td>\n",
       "      <td>2.000000</td>\n",
       "    </tr>\n",
       "    <tr>\n",
       "      <th>max</th>\n",
       "      <td>243.000000</td>\n",
       "      <td>510.000000</td>\n",
       "      <td>51.000000</td>\n",
       "      <td>350.800000</td>\n",
       "      <td>165.000000</td>\n",
       "      <td>59.640000</td>\n",
       "      <td>363.700000</td>\n",
       "      <td>170.000000</td>\n",
       "      <td>30.910000</td>\n",
       "      <td>395.000000</td>\n",
       "      <td>175.000000</td>\n",
       "      <td>17.770000</td>\n",
       "      <td>20.000000</td>\n",
       "      <td>20.000000</td>\n",
       "      <td>5.400000</td>\n",
       "      <td>9.000000</td>\n",
       "    </tr>\n",
       "  </tbody>\n",
       "</table>\n",
       "</div>"
      ],
      "text/plain": [
       "       account length    area code  number vmail messages  total day minutes  \\\n",
       "count     3333.000000  3333.000000            3333.000000        3333.000000   \n",
       "mean       101.064806   437.182418               8.099010         179.775098   \n",
       "std         39.822106    42.371290              13.688365          54.467389   \n",
       "min          1.000000   408.000000               0.000000           0.000000   \n",
       "25%         74.000000   408.000000               0.000000         143.700000   \n",
       "50%        101.000000   415.000000               0.000000         179.400000   \n",
       "75%        127.000000   510.000000              20.000000         216.400000   \n",
       "max        243.000000   510.000000              51.000000         350.800000   \n",
       "\n",
       "       total day calls  total day charge  total eve minutes  total eve calls  \\\n",
       "count      3333.000000       3333.000000        3333.000000      3333.000000   \n",
       "mean        100.435644         30.562307         200.980348       100.114311   \n",
       "std          20.069084          9.259435          50.713844        19.922625   \n",
       "min           0.000000          0.000000           0.000000         0.000000   \n",
       "25%          87.000000         24.430000         166.600000        87.000000   \n",
       "50%         101.000000         30.500000         201.400000       100.000000   \n",
       "75%         114.000000         36.790000         235.300000       114.000000   \n",
       "max         165.000000         59.640000         363.700000       170.000000   \n",
       "\n",
       "       total eve charge  total night minutes  total night calls  \\\n",
       "count       3333.000000          3333.000000        3333.000000   \n",
       "mean          17.083540           200.872037         100.107711   \n",
       "std            4.310668            50.573847          19.568609   \n",
       "min            0.000000            23.200000          33.000000   \n",
       "25%           14.160000           167.000000          87.000000   \n",
       "50%           17.120000           201.200000         100.000000   \n",
       "75%           20.000000           235.300000         113.000000   \n",
       "max           30.910000           395.000000         175.000000   \n",
       "\n",
       "       total night charge  total intl minutes  total intl calls  \\\n",
       "count         3333.000000         3333.000000       3333.000000   \n",
       "mean             9.039325           10.237294          4.479448   \n",
       "std              2.275873            2.791840          2.461214   \n",
       "min              1.040000            0.000000          0.000000   \n",
       "25%              7.520000            8.500000          3.000000   \n",
       "50%              9.050000           10.300000          4.000000   \n",
       "75%             10.590000           12.100000          6.000000   \n",
       "max             17.770000           20.000000         20.000000   \n",
       "\n",
       "       total intl charge  customer service calls  \n",
       "count        3333.000000             3333.000000  \n",
       "mean            2.764581                1.562856  \n",
       "std             0.753773                1.315491  \n",
       "min             0.000000                0.000000  \n",
       "25%             2.300000                1.000000  \n",
       "50%             2.780000                1.000000  \n",
       "75%             3.270000                2.000000  \n",
       "max             5.400000                9.000000  "
      ]
     },
     "execution_count": 25,
     "metadata": {},
     "output_type": "execute_result"
    }
   ],
   "source": [
    "#Метод describe дает статистику по числовым столбцам: среднее, максимум и минимум, квартили, стандартное отклонение. \n",
    "telecom_df.describe()"
   ]
  },
  {
   "cell_type": "markdown",
   "id": "mHxaRBesAvOz",
   "metadata": {
    "id": "mHxaRBesAvOz"
   },
   "source": [
    "Посчитайте размах для переменной Total intl minutes\n"
   ]
  },
  {
   "cell_type": "code",
   "execution_count": 26,
   "id": "bjW-O7lt-9Kk",
   "metadata": {
    "colab": {
     "base_uri": "https://localhost:8080/"
    },
    "id": "bjW-O7lt-9Kk",
    "outputId": "4b4a281c-6809-43af-fd95-46eb81648679"
   },
   "outputs": [
    {
     "name": "stdout",
     "output_type": "stream",
     "text": [
      "Размах для переменной Total intl minutes 20.0\n"
     ]
    }
   ],
   "source": [
    "df_max = telecom_df['total intl minutes'].max()\n",
    "df_min = telecom_df['total intl minutes'].min()\n",
    "\n",
    "print('Размах для переменной Total intl minutes', df_max - df_min)"
   ]
  }
 ],
 "metadata": {
  "colab": {
   "collapsed_sections": [],
   "provenance": []
  },
  "kernelspec": {
   "display_name": "Python 3 (ipykernel)",
   "language": "python",
   "name": "python3"
  },
  "language_info": {
   "codemirror_mode": {
    "name": "ipython",
    "version": 3
   },
   "file_extension": ".py",
   "mimetype": "text/x-python",
   "name": "python",
   "nbconvert_exporter": "python",
   "pygments_lexer": "ipython3",
   "version": "3.12.1"
  }
 },
 "nbformat": 4,
 "nbformat_minor": 5
}
