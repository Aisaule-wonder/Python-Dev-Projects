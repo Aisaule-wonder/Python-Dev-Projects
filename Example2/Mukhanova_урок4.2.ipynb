{
 "cells": [
  {
   "cell_type": "code",
   "execution_count": null,
   "id": "25766081-2cbf-4fc3-a2b5-3de50f791e98",
   "metadata": {},
   "outputs": [],
   "source": [
    "import pandas as pd"
   ]
  },
  {
   "cell_type": "code",
   "execution_count": 86,
   "id": "7a51c1cf-6756-4c9f-b562-f56abe16f1ac",
   "metadata": {
    "scrolled": true
   },
   "outputs": [
    {
     "data": {
      "text/html": [
       "<div>\n",
       "<style scoped>\n",
       "    .dataframe tbody tr th:only-of-type {\n",
       "        vertical-align: middle;\n",
       "    }\n",
       "\n",
       "    .dataframe tbody tr th {\n",
       "        vertical-align: top;\n",
       "    }\n",
       "\n",
       "    .dataframe thead th {\n",
       "        text-align: right;\n",
       "    }\n",
       "</style>\n",
       "<table border=\"1\" class=\"dataframe\">\n",
       "  <thead>\n",
       "    <tr style=\"text-align: right;\">\n",
       "      <th></th>\n",
       "      <th>show_id</th>\n",
       "      <th>type</th>\n",
       "      <th>title</th>\n",
       "      <th>director</th>\n",
       "      <th>cast</th>\n",
       "      <th>country</th>\n",
       "      <th>date_added</th>\n",
       "      <th>release_year</th>\n",
       "      <th>rating</th>\n",
       "      <th>duration</th>\n",
       "      <th>listed_in</th>\n",
       "      <th>description</th>\n",
       "    </tr>\n",
       "  </thead>\n",
       "  <tbody>\n",
       "    <tr>\n",
       "      <th>0</th>\n",
       "      <td>s1</td>\n",
       "      <td>Movie</td>\n",
       "      <td>Dick Johnson Is Dead</td>\n",
       "      <td>Kirsten Johnson</td>\n",
       "      <td>NaN</td>\n",
       "      <td>United States</td>\n",
       "      <td>September 25, 2021</td>\n",
       "      <td>2020</td>\n",
       "      <td>PG-13</td>\n",
       "      <td>90 min</td>\n",
       "      <td>Documentaries</td>\n",
       "      <td>As her father nears the end of his life, filmm...</td>\n",
       "    </tr>\n",
       "    <tr>\n",
       "      <th>1</th>\n",
       "      <td>s2</td>\n",
       "      <td>TV Show</td>\n",
       "      <td>Blood &amp; Water</td>\n",
       "      <td>NaN</td>\n",
       "      <td>Ama Qamata, Khosi Ngema, Gail Mabalane, Thaban...</td>\n",
       "      <td>South Africa</td>\n",
       "      <td>September 24, 2021</td>\n",
       "      <td>2021</td>\n",
       "      <td>TV-MA</td>\n",
       "      <td>2 Seasons</td>\n",
       "      <td>International TV Shows, TV Dramas, TV Mysteries</td>\n",
       "      <td>After crossing paths at a party, a Cape Town t...</td>\n",
       "    </tr>\n",
       "    <tr>\n",
       "      <th>2</th>\n",
       "      <td>s3</td>\n",
       "      <td>TV Show</td>\n",
       "      <td>Ganglands</td>\n",
       "      <td>Julien Leclercq</td>\n",
       "      <td>Sami Bouajila, Tracy Gotoas, Samuel Jouy, Nabi...</td>\n",
       "      <td>NaN</td>\n",
       "      <td>September 24, 2021</td>\n",
       "      <td>2021</td>\n",
       "      <td>TV-MA</td>\n",
       "      <td>1 Season</td>\n",
       "      <td>Crime TV Shows, International TV Shows, TV Act...</td>\n",
       "      <td>To protect his family from a powerful drug lor...</td>\n",
       "    </tr>\n",
       "    <tr>\n",
       "      <th>3</th>\n",
       "      <td>s4</td>\n",
       "      <td>TV Show</td>\n",
       "      <td>Jailbirds New Orleans</td>\n",
       "      <td>NaN</td>\n",
       "      <td>NaN</td>\n",
       "      <td>NaN</td>\n",
       "      <td>September 24, 2021</td>\n",
       "      <td>2021</td>\n",
       "      <td>TV-MA</td>\n",
       "      <td>1 Season</td>\n",
       "      <td>Docuseries, Reality TV</td>\n",
       "      <td>Feuds, flirtations and toilet talk go down amo...</td>\n",
       "    </tr>\n",
       "    <tr>\n",
       "      <th>4</th>\n",
       "      <td>s5</td>\n",
       "      <td>TV Show</td>\n",
       "      <td>Kota Factory</td>\n",
       "      <td>NaN</td>\n",
       "      <td>Mayur More, Jitendra Kumar, Ranjan Raj, Alam K...</td>\n",
       "      <td>India</td>\n",
       "      <td>September 24, 2021</td>\n",
       "      <td>2021</td>\n",
       "      <td>TV-MA</td>\n",
       "      <td>2 Seasons</td>\n",
       "      <td>International TV Shows, Romantic TV Shows, TV ...</td>\n",
       "      <td>In a city of coaching centers known to train I...</td>\n",
       "    </tr>\n",
       "    <tr>\n",
       "      <th>...</th>\n",
       "      <td>...</td>\n",
       "      <td>...</td>\n",
       "      <td>...</td>\n",
       "      <td>...</td>\n",
       "      <td>...</td>\n",
       "      <td>...</td>\n",
       "      <td>...</td>\n",
       "      <td>...</td>\n",
       "      <td>...</td>\n",
       "      <td>...</td>\n",
       "      <td>...</td>\n",
       "      <td>...</td>\n",
       "    </tr>\n",
       "    <tr>\n",
       "      <th>8802</th>\n",
       "      <td>s8803</td>\n",
       "      <td>Movie</td>\n",
       "      <td>Zodiac</td>\n",
       "      <td>David Fincher</td>\n",
       "      <td>Mark Ruffalo, Jake Gyllenhaal, Robert Downey J...</td>\n",
       "      <td>United States</td>\n",
       "      <td>November 20, 2019</td>\n",
       "      <td>2007</td>\n",
       "      <td>R</td>\n",
       "      <td>158 min</td>\n",
       "      <td>Cult Movies, Dramas, Thrillers</td>\n",
       "      <td>A political cartoonist, a crime reporter and a...</td>\n",
       "    </tr>\n",
       "    <tr>\n",
       "      <th>8803</th>\n",
       "      <td>s8804</td>\n",
       "      <td>TV Show</td>\n",
       "      <td>Zombie Dumb</td>\n",
       "      <td>NaN</td>\n",
       "      <td>NaN</td>\n",
       "      <td>NaN</td>\n",
       "      <td>July 1, 2019</td>\n",
       "      <td>2018</td>\n",
       "      <td>TV-Y7</td>\n",
       "      <td>2 Seasons</td>\n",
       "      <td>Kids' TV, Korean TV Shows, TV Comedies</td>\n",
       "      <td>While living alone in a spooky town, a young g...</td>\n",
       "    </tr>\n",
       "    <tr>\n",
       "      <th>8804</th>\n",
       "      <td>s8805</td>\n",
       "      <td>Movie</td>\n",
       "      <td>Zombieland</td>\n",
       "      <td>Ruben Fleischer</td>\n",
       "      <td>Jesse Eisenberg, Woody Harrelson, Emma Stone, ...</td>\n",
       "      <td>United States</td>\n",
       "      <td>November 1, 2019</td>\n",
       "      <td>2009</td>\n",
       "      <td>R</td>\n",
       "      <td>88 min</td>\n",
       "      <td>Comedies, Horror Movies</td>\n",
       "      <td>Looking to survive in a world taken over by zo...</td>\n",
       "    </tr>\n",
       "    <tr>\n",
       "      <th>8805</th>\n",
       "      <td>s8806</td>\n",
       "      <td>Movie</td>\n",
       "      <td>Zoom</td>\n",
       "      <td>Peter Hewitt</td>\n",
       "      <td>Tim Allen, Courteney Cox, Chevy Chase, Kate Ma...</td>\n",
       "      <td>United States</td>\n",
       "      <td>January 11, 2020</td>\n",
       "      <td>2006</td>\n",
       "      <td>PG</td>\n",
       "      <td>88 min</td>\n",
       "      <td>Children &amp; Family Movies, Comedies</td>\n",
       "      <td>Dragged from civilian life, a former superhero...</td>\n",
       "    </tr>\n",
       "    <tr>\n",
       "      <th>8806</th>\n",
       "      <td>s8807</td>\n",
       "      <td>Movie</td>\n",
       "      <td>Zubaan</td>\n",
       "      <td>Mozez Singh</td>\n",
       "      <td>Vicky Kaushal, Sarah-Jane Dias, Raaghav Chanan...</td>\n",
       "      <td>India</td>\n",
       "      <td>March 2, 2019</td>\n",
       "      <td>2015</td>\n",
       "      <td>TV-14</td>\n",
       "      <td>111 min</td>\n",
       "      <td>Dramas, International Movies, Music &amp; Musicals</td>\n",
       "      <td>A scrappy but poor boy worms his way into a ty...</td>\n",
       "    </tr>\n",
       "  </tbody>\n",
       "</table>\n",
       "<p>8807 rows × 12 columns</p>\n",
       "</div>"
      ],
      "text/plain": [
       "     show_id     type                  title         director  \\\n",
       "0         s1    Movie   Dick Johnson Is Dead  Kirsten Johnson   \n",
       "1         s2  TV Show          Blood & Water              NaN   \n",
       "2         s3  TV Show              Ganglands  Julien Leclercq   \n",
       "3         s4  TV Show  Jailbirds New Orleans              NaN   \n",
       "4         s5  TV Show           Kota Factory              NaN   \n",
       "...      ...      ...                    ...              ...   \n",
       "8802   s8803    Movie                 Zodiac    David Fincher   \n",
       "8803   s8804  TV Show            Zombie Dumb              NaN   \n",
       "8804   s8805    Movie             Zombieland  Ruben Fleischer   \n",
       "8805   s8806    Movie                   Zoom     Peter Hewitt   \n",
       "8806   s8807    Movie                 Zubaan      Mozez Singh   \n",
       "\n",
       "                                                   cast        country  \\\n",
       "0                                                   NaN  United States   \n",
       "1     Ama Qamata, Khosi Ngema, Gail Mabalane, Thaban...   South Africa   \n",
       "2     Sami Bouajila, Tracy Gotoas, Samuel Jouy, Nabi...            NaN   \n",
       "3                                                   NaN            NaN   \n",
       "4     Mayur More, Jitendra Kumar, Ranjan Raj, Alam K...          India   \n",
       "...                                                 ...            ...   \n",
       "8802  Mark Ruffalo, Jake Gyllenhaal, Robert Downey J...  United States   \n",
       "8803                                                NaN            NaN   \n",
       "8804  Jesse Eisenberg, Woody Harrelson, Emma Stone, ...  United States   \n",
       "8805  Tim Allen, Courteney Cox, Chevy Chase, Kate Ma...  United States   \n",
       "8806  Vicky Kaushal, Sarah-Jane Dias, Raaghav Chanan...          India   \n",
       "\n",
       "              date_added  release_year rating   duration  \\\n",
       "0     September 25, 2021          2020  PG-13     90 min   \n",
       "1     September 24, 2021          2021  TV-MA  2 Seasons   \n",
       "2     September 24, 2021          2021  TV-MA   1 Season   \n",
       "3     September 24, 2021          2021  TV-MA   1 Season   \n",
       "4     September 24, 2021          2021  TV-MA  2 Seasons   \n",
       "...                  ...           ...    ...        ...   \n",
       "8802   November 20, 2019          2007      R    158 min   \n",
       "8803        July 1, 2019          2018  TV-Y7  2 Seasons   \n",
       "8804    November 1, 2019          2009      R     88 min   \n",
       "8805    January 11, 2020          2006     PG     88 min   \n",
       "8806       March 2, 2019          2015  TV-14    111 min   \n",
       "\n",
       "                                              listed_in  \\\n",
       "0                                         Documentaries   \n",
       "1       International TV Shows, TV Dramas, TV Mysteries   \n",
       "2     Crime TV Shows, International TV Shows, TV Act...   \n",
       "3                                Docuseries, Reality TV   \n",
       "4     International TV Shows, Romantic TV Shows, TV ...   \n",
       "...                                                 ...   \n",
       "8802                     Cult Movies, Dramas, Thrillers   \n",
       "8803             Kids' TV, Korean TV Shows, TV Comedies   \n",
       "8804                            Comedies, Horror Movies   \n",
       "8805                 Children & Family Movies, Comedies   \n",
       "8806     Dramas, International Movies, Music & Musicals   \n",
       "\n",
       "                                            description  \n",
       "0     As her father nears the end of his life, filmm...  \n",
       "1     After crossing paths at a party, a Cape Town t...  \n",
       "2     To protect his family from a powerful drug lor...  \n",
       "3     Feuds, flirtations and toilet talk go down amo...  \n",
       "4     In a city of coaching centers known to train I...  \n",
       "...                                                 ...  \n",
       "8802  A political cartoonist, a crime reporter and a...  \n",
       "8803  While living alone in a spooky town, a young g...  \n",
       "8804  Looking to survive in a world taken over by zo...  \n",
       "8805  Dragged from civilian life, a former superhero...  \n",
       "8806  A scrappy but poor boy worms his way into a ty...  \n",
       "\n",
       "[8807 rows x 12 columns]"
      ]
     },
     "execution_count": 86,
     "metadata": {},
     "output_type": "execute_result"
    }
   ],
   "source": [
    "net_df = pd.read_csv('netflix_titles.csv')\n",
    "net_df"
   ]
  },
  {
   "cell_type": "code",
   "execution_count": null,
   "id": "10bc656a-b107-4b68-a4f4-c790292208d7",
   "metadata": {
    "scrolled": true
   },
   "outputs": [],
   "source": [
    "net_df = pd.read_csv('/Users/atyra/OneDrive/Desktop/Python/week4/netflix_titles.csv')\n",
    "net_sr = pd.read_csv('/Users/atyra/OneDrive/Desktop/Python/week4/netflix_titles.csv', usecols=[\"show_id\"]).squeeze()\n",
    "net_df"
   ]
  },
  {
   "cell_type": "code",
   "execution_count": null,
   "id": "316f8f4c-643d-42e5-b5cd-52f40e7874f3",
   "metadata": {},
   "outputs": [],
   "source": [
    "net_df.count()"
   ]
  },
  {
   "cell_type": "code",
   "execution_count": null,
   "id": "ca6abf3a-0b09-4171-bbba-3fe34e255fb5",
   "metadata": {},
   "outputs": [],
   "source": [
    "net_df.info()"
   ]
  },
  {
   "cell_type": "code",
   "execution_count": null,
   "id": "c2907de9-eb66-4be2-a9f3-35a46a5b6336",
   "metadata": {},
   "outputs": [],
   "source": [
    "net_df.dropna().info()"
   ]
  },
  {
   "cell_type": "code",
   "execution_count": null,
   "id": "7879335d-a0af-4198-a57d-ef89993f740d",
   "metadata": {},
   "outputs": [],
   "source": [
    "columns = [\"show_id\",\"type\", \"title\", \"director\",\"cast\",\"country\",\"date_added\"]\n",
    "net_df.dropna(subset=columns).info()"
   ]
  },
  {
   "cell_type": "code",
   "execution_count": null,
   "id": "93b3ab0c-01d2-44c6-a820-a58c84a188c5",
   "metadata": {},
   "outputs": [],
   "source": [
    "net_df.dropna(how=\"all\").info()"
   ]
  },
  {
   "cell_type": "code",
   "execution_count": null,
   "id": "ad366827-49a0-4acc-9325-a5b03b0d9be7",
   "metadata": {},
   "outputs": [],
   "source": [
    "net_df.dropna(axis = 1, how=\"all\")"
   ]
  },
  {
   "cell_type": "code",
   "execution_count": null,
   "id": "0634f453-1e9e-47ea-888a-b4398d0560fb",
   "metadata": {},
   "outputs": [],
   "source": [
    "net_df[\"show_id\"].isnull()"
   ]
  },
  {
   "cell_type": "code",
   "execution_count": null,
   "id": "ce79c390-7dc1-4d97-98cd-5838c2e44190",
   "metadata": {},
   "outputs": [],
   "source": [
    "net_df[\"rating\"].isnull()"
   ]
  },
  {
   "cell_type": "code",
   "execution_count": null,
   "id": "5b45bcc3-bfea-4d7b-b8a3-d6adbb01d3d2",
   "metadata": {},
   "outputs": [],
   "source": [
    "missing = net_df[\"rating\"].isnull()\n",
    "net_df[missing]"
   ]
  },
  {
   "cell_type": "code",
   "execution_count": null,
   "id": "0d3ba040-f747-4417-975e-516f5591a61a",
   "metadata": {},
   "outputs": [],
   "source": [
    "columns = [\"show_id\",\"type\", \"title\", \"director\",\"cast\",\"country\",\"date_added\"]\n",
    "rating_counts = net_df.groupby(\"rating\").size()\n",
    "print(rating_counts)"
   ]
  },
  {
   "cell_type": "code",
   "execution_count": null,
   "id": "7750f23d-7c1b-4dd7-95d6-b0c7649642e7",
   "metadata": {},
   "outputs": [],
   "source": [
    "most_common_year = net_df['release_year'].value_counts('type' == \"Movie\").idxmax()\n",
    "print(f\"Наибольшее количество фильмов в {most_common_year} году.\")"
   ]
  },
  {
   "cell_type": "code",
   "execution_count": null,
   "id": "e04844a6-d2ce-47b6-ba12-154198c0534a",
   "metadata": {},
   "outputs": [],
   "source": [
    "most_common_country = net_df['country'].value_counts('type' == \"Movie\").idxmax()\n",
    "print(f\"Наибольшее количество фильмов в стране: {most_common_country}\")"
   ]
  },
  {
   "cell_type": "code",
   "execution_count": 84,
   "id": "86802785-924b-426b-8e0e-78bd6a8bc9e1",
   "metadata": {},
   "outputs": [
    {
     "data": {
      "text/plain": [
       "listed_in\n",
       "Dramas, International Movies                        362\n",
       "Documentaries                                       359\n",
       "Stand-Up Comedy                                     334\n",
       "Comedies, Dramas, International Movies              274\n",
       "Dramas, Independent Movies, International Movies    252\n",
       "Kids' TV                                            220\n",
       "Children & Family Movies                            215\n",
       "Children & Family Movies, Comedies                  201\n",
       "Documentaries, International Movies                 186\n",
       "Dramas, International Movies, Romantic Movies       180\n",
       "Name: count, dtype: int64"
      ]
     },
     "execution_count": 84,
     "metadata": {},
     "output_type": "execute_result"
    }
   ],
   "source": [
    "net_df[\"listed_in\"].value_counts().head(10)"
   ]
  },
  {
   "cell_type": "code",
   "execution_count": 85,
   "id": "df5165b3-f816-48bf-b10a-ac90979b3f55",
   "metadata": {},
   "outputs": [
    {
     "name": "stdout",
     "output_type": "stream",
     "text": [
      "ТОП-10 самых популярных жанров:\n",
      "listed_in\n",
      "International Movies        2752\n",
      "Dramas                      2427\n",
      "Comedies                    1674\n",
      "International TV Shows      1351\n",
      "Documentaries                869\n",
      "Action & Adventure           859\n",
      "TV Dramas                    763\n",
      "Independent Movies           756\n",
      "Children & Family Movies     641\n",
      "Romantic Movies              616\n",
      "Name: count, dtype: int64\n"
     ]
    }
   ],
   "source": [
    "genres_count = net_df['listed_in'].str.split(',').explode().str.strip().value_counts()\n",
    "\n",
    "top_genres = genres_count.head(10)\n",
    "print(\"ТОП-10 самых популярных жанров:\")\n",
    "print(top_genres)"
   ]
  },
  {
   "cell_type": "code",
   "execution_count": 90,
   "id": "12e12ead-bb4e-4c0c-af26-2662447329ef",
   "metadata": {},
   "outputs": [
    {
     "name": "stdout",
     "output_type": "stream",
     "text": [
      "ТОП-15 самых старых фильмов:\n",
      "                                                 title  release_year\n",
      "4250                 Pioneers: First Women Filmmakers*          1925\n",
      "7790                                    Prelude to War          1942\n",
      "8205                              The Battle of Midway          1942\n",
      "8660     Undercover: How to Operate Behind Enemy Lines          1943\n",
      "8739                Why We Fight: The Battle of Russia          1943\n",
      "8763                   WWII: Report from the Aleutians          1943\n",
      "8640                                  Tunisian Victory          1944\n",
      "8436                                 The Negro Soldier          1944\n",
      "8419  The Memphis Belle: A Story of a\\nFlying Fortress          1944\n",
      "7930                                        San Pietro          1945\n",
      "1331               Five Came Back: The Reference Films          1945\n",
      "7219                           Know Your Enemy - Japan          1945\n",
      "7575                          Nazi Concentration Camps          1945\n",
      "7743               Pioneers of African-American Cinema          1946\n",
      "7294                                Let There Be Light          1946\n",
      "\n",
      "ТОП-15 самых новых фильмов:\n",
      "                                             title  release_year\n",
      "693                         Ali & Ratu Ratu Queens          2021\n",
      "781          Black Holes | The Edge of All We Know          2021\n",
      "762                                   Sweet & Sour          2021\n",
      "763                                    Sweet Tooth          2021\n",
      "764                   Trippin' with the Kandasamys          2021\n",
      "765                                         Xtreme          2021\n",
      "766                        Alan Saldaña: Locked Up          2021\n",
      "767                           Creator's File: GOLD          2021\n",
      "768                                 Dancing Queens          2021\n",
      "770                      Myriam Fares: The Journey          2021\n",
      "771  Pretty Guardian Sailor Moon Eternal The Movie          2021\n",
      "772                                     Summertime          2021\n",
      "783                                       Carnaval          2021\n",
      "758                                      Feel Good          2021\n",
      "785                                      Cocomelon          2021\n"
     ]
    }
   ],
   "source": [
    "oldest_movies = net_df.sort_values(by='release_year').head(15)\n",
    "\n",
    "newest_movies = net_df.sort_values(by='release_year', ascending=False).head(15)\n",
    "\n",
    "print(\"ТОП-15 самых старых фильмов:\")\n",
    "print(oldest_movies[['title', 'release_year']])\n",
    "\n",
    "print(\"\\nТОП-15 самых новых фильмов:\")\n",
    "print(newest_movies[['title', 'release_year']])"
   ]
  }
 ],
 "metadata": {
  "kernelspec": {
   "display_name": "Python 3 (ipykernel)",
   "language": "python",
   "name": "python3"
  },
  "language_info": {
   "codemirror_mode": {
    "name": "ipython",
    "version": 3
   },
   "file_extension": ".py",
   "mimetype": "text/x-python",
   "name": "python",
   "nbconvert_exporter": "python",
   "pygments_lexer": "ipython3",
   "version": "3.12.1"
  }
 },
 "nbformat": 4,
 "nbformat_minor": 5
}
